{
 "cells": [
  {
   "cell_type": "markdown",
   "metadata": {},
   "source": [
    "## Predicting Airbnb Listing Price | Analysis"
   ]
  },
  {
   "cell_type": "code",
   "execution_count": 53,
   "metadata": {},
   "outputs": [],
   "source": [
    "import warnings\n",
    "import numpy as np\n",
    "import pandas as pd\n",
    "import multiprocessing as mp\n",
    "import xgboost as xgb\n",
    "\n",
    "from vaderSentiment.vaderSentiment import SentimentIntensityAnalyzer\n",
    "from sklearn.model_selection import train_test_split, GridSearchCV, RandomizedSearchCV\n",
    "from sklearn.ensemble import RandomForestRegressor, GradientBoostingRegressor\n",
    "from sklearn.metrics import roc_auc_score, mean_squared_error\n",
    "from tqdm import tqdm"
   ]
  },
  {
   "cell_type": "code",
   "execution_count": 2,
   "metadata": {},
   "outputs": [],
   "source": [
    "SEED = 1\n",
    "pd.set_option('display.max_columns', None)\n",
    "warnings.filterwarnings(\"ignore\")\n",
    "cores = mp.cpu_count()"
   ]
  },
  {
   "cell_type": "code",
   "execution_count": 3,
   "metadata": {},
   "outputs": [],
   "source": [
    "directory = '/Users/limesncoconuts2/datasets/airbnb/'\n",
    "df = pd.read_csv(directory + 'df_clean.csv', nrows=1000)"
   ]
  },
  {
   "cell_type": "code",
   "execution_count": 4,
   "metadata": {},
   "outputs": [
    {
     "name": "stdout",
     "output_type": "stream",
     "text": [
      "<class 'pandas.core.frame.DataFrame'>\n",
      "RangeIndex: 1000 entries, 0 to 999\n",
      "Columns: 353 entries, accommodates to reviews\n",
      "dtypes: bool(259), float64(21), int64(72), object(1)\n",
      "memory usage: 17.5 MB\n"
     ]
    }
   ],
   "source": [
    "df.info(memory_usage='deep')"
   ]
  },
  {
   "cell_type": "markdown",
   "metadata": {},
   "source": [
    "## Feature Engineering"
   ]
  },
  {
   "cell_type": "code",
   "execution_count": 5,
   "metadata": {},
   "outputs": [],
   "source": [
    "df.reviews = df.reviews.str.replace(\"[\",\"\").str.replace(\"]\",\"\") \\\n",
    "                    .str.replace(\"\\\\\",\"\").str.replace(\"\\\"\",\"\") \\\n",
    "                    .str.replace(\"\\'\",\"\").str.replace(\"rn\",\"\").str.strip()"
   ]
  },
  {
   "cell_type": "code",
   "execution_count": 6,
   "metadata": {},
   "outputs": [],
   "source": [
    "def get_review_sentiment(review, analyzer):\n",
    "\n",
    "    try:\n",
    "        score = analyzer.polarity_scores(review)\n",
    "        score = score['pos']\n",
    "    \n",
    "    except: # if nan\n",
    "        score = 0\n",
    "    \n",
    "    return score"
   ]
  },
  {
   "cell_type": "code",
   "execution_count": 7,
   "metadata": {},
   "outputs": [
    {
     "name": "stdout",
     "output_type": "stream",
     "text": [
      "CPU times: user 3.75 s, sys: 1.39 s, total: 5.13 s\n",
      "Wall time: 15min 27s\n"
     ]
    }
   ],
   "source": [
    "%%time\n",
    "analyzer = SentimentIntensityAnalyzer()\n",
    "\n",
    "pool = mp.Pool(cores)\n",
    "results = [pool.apply(get_review_sentiment, args=(row, analyzer)) for row in df.reviews]\n",
    "pool.close()    \n",
    "\n",
    "df['pos_score'] = results"
   ]
  },
  {
   "cell_type": "code",
   "execution_count": 8,
   "metadata": {},
   "outputs": [],
   "source": [
    "df_sorted = df[['reviews', 'pos_score']].dropna().sort_values(by=['pos_score'], ascending=False)"
   ]
  },
  {
   "cell_type": "code",
   "execution_count": 9,
   "metadata": {},
   "outputs": [
    {
     "name": "stdout",
     "output_type": "stream",
     "text": [
      "Most positive reviews:\n",
      "-----------------------\n",
      "\n",
      "Great\n",
      "\n",
      "Perfect 👌🏼\n",
      "\n",
      "Marcy was great very sweet!\n",
      "\n",
      "Amazing spectacular experience , highly recommend\n",
      "\n",
      "Awesome host. Great communication and accommodation skills. Made sure I was taking care of.\n",
      "\n"
     ]
    }
   ],
   "source": [
    "most_pos = list(df_sorted.head(5).reviews.values)\n",
    "print(\"Most positive reviews:\")\n",
    "print(\"-----------------------\")\n",
    "print(\"\")\n",
    "for i in most_pos:\n",
    "    print(i)\n",
    "    print(\"\")"
   ]
  },
  {
   "cell_type": "code",
   "execution_count": 13,
   "metadata": {},
   "outputs": [
    {
     "name": "stdout",
     "output_type": "stream",
     "text": [
      "Least positive reviews:\n",
      "-----------------------\n",
      "\n",
      "\n",
      "\n",
      "The host canceled this reservation the day before arrival. This is an automated posting.\n",
      "\n",
      "房子在半山腰,风景很不错。房间有独立卫生间,床也比较舒服。有车很方便,吃饭8分钟就可以到。, Las fotografías se quedan cortas con lo bello que es el apartamento, realmente es hermoso.nLas atenciones y servicios son los indicados para tener una estancia cómoda y agradable.nA pesar de que es la renta de la habitación en un hogar compartido, tienes privacidad :)nnEncantador lugar, te lo recomiendo al 100% y aconsejable la renta de un coche porque está en colina., 房子很好很漂亮，大大的落地窗视野很好.....房东很好, 房子位于东部Monterey park，华人聚集区，在半山坡上，阳台的景观很不错。除了洛杉矶的交通堵塞以外，住的挺舒服的。, 房子在半山腰，风景很不错。房间有独立卫生间，床也比较舒服。有车很方便，吃饭8分钟就可以到。, 房东会说中文，方便沟通。及时回复信息。地点准确，方便停车。房东人很好，会解答我们一切的信息。并非常有帮助。可以使用冰箱和厨具。并尊重房房客。\n",
      "\n",
      "非常安静美丽的街区，主人态度特别好，也很热情提供帮助。房子设备齐全干净，感觉很温馨。院子很漂亮，还有各种植物。孩子们很喜欢。\n",
      "\n",
      "建物は古いけどとても便利な場所でお部屋は広く、トイレットペーパーや洗剤など揃っていて色々と行き届いた家でした。それにDanielleさんはとても素晴らしいホストです。質問した事は全てすぐに答えてくれて問題は何もありませんでした。チェックインやガレージも分かりやすく説明がありました。素晴らしい時間が過ごせて感謝しています。\n",
      "\n",
      "图片和我们去到看到的是一样的 房子很大很大 也很漂亮 而且住家人超级超级nice啊 房子附近也非常的方便 在monterey park那边 出去之后走大概7-9分钟就有很多餐馆了 非常多的选择啦可以说 辣的甜的都有 而且去哪里都不会很远 打uber都10几分钟可以到 地理位置不错的 而且价格很划算啊 不会很贵 主要就是浴室的水龙头有点小 其他的都是超级棒！！！, 图片和我们去到看到的是一样的 房子很大很大 也很漂亮 而且住家人超级超级nice啊 房子附近也非常的方便 在monterey park那边 出去之后走大概7-9分钟就有很多餐馆了 非常多的选择啦可以说 辣的甜的都有 而且去哪里都不会很远 打uber都10几分钟可以到 地理位置不错的 而且价格很划算啊 不会很贵 主要就是浴室的水龙头有点小 其他的都是超级棒！！！, 非常漂亮的房子，建議選擇！非常親切的房東，我們有自己的洗手間，床也非常的舒服乾淨，房間跟圖片一模一樣，這是很好的入住經歷。社區很方便，步行三分鐘就有超市和食肆。我們洗衣服沒有洗衣粉也是房東提供給我們的，給了我們很大的便利。房子的地區去市中心以及其他景點也非常方便。以後有機會來遊玩還是會首選入住這裡。, 房间很干净，房子周围也有很多中餐馆，和比较大的亚洲超市。去公交站只需要走三分钟，很方便。, Betty是个很赞很友善的房东太太，她的房子也很漂亮！我们在Betty家度过了一个愉快的旅程！这里很适合居住，步行三分钟就能到公交站和很多餐厅，真的很便利！如果下次再来希望还能继续住Betty家！, 图片和我们去到看到的是一样的 房子很大很大 也很漂亮 而且住家人超级超级nice啊 房子附近也非常的方便 在monterey park那边 出去之后走大概7-9分钟就有很多餐馆了 非常多的选择啦可以说 辣的甜的都有 而且去哪里都不会很远 打uber都10几分钟可以到 地理位置不错的 而且价格很划算啊 不会很贵 主要就是浴室的水龙头有点小 其他的都是超级棒!!!, 房间很干净,房子周围也有很多中餐馆,和比较大的亚洲超市。去公交站只需要走三分钟,很方便。, betty的房子很大很漂亮，位置好，闹中取静，附近吃的很多，这些优势很明显。入住第一天和betty因为床单被套有污迹和过多毛发的问题吵了一架，不过隔天就解决了。后面betty会经常主动问我需要什么，还带我去吃了家乡的海南鸡饭，十分感谢。住的地方方便，然后我又续住了，现在还住在betty家里，最近天气真热，希望供电公司在节约能源的同时考虑考虑居民的居住舒适度，增加供电稳定性好让居民能在高温天多开会空调降温。五星房东\n",
      "\n",
      "The host canceled this reservation 5 days before arrival. This is an automated posting.\n",
      "\n",
      "The host canceled this reservation 5 days before arrival. This is an automated posting., The host canceled this reservation 19 days before arrival. This is an automated posting.\n",
      "\n",
      "房源描述和图片都较为准确，离环球影城非常近所以地理位置理想。晚上的夜景也很美，房间打扫得很干净，总体来说非常不错。\n",
      "\n",
      "布置得很别致,周围很安静,房东准备了很多食物和水果,很热情,但是值得注意的是停车需要另外去交停车费,3美金一天。, 非常舒适整洁的房子，愉快的旅行！, 布置得很别致，周围很安静，房东准备了很多食物和水果，很热情，但是值得注意的是停车需要另外去交停车费，3美金一天。\n",
      "\n",
      "普段通りの生活ができ、とてもすごしやすかった\n",
      "\n",
      "房间和照片中的一样，房东想的很周到，并且带我们去了附近的亚洲超市，非常感谢！下次来洛杉矶还会选择住在这里。\n",
      "\n",
      "The host canceled this reservation 4 days before arrival. This is an automated posting.\n",
      "\n",
      "Hillary很热情,给予我们很大的帮助。地理位置非常好,靠近好莱坞影视城,房间非常干净、舒适、温馨,房间内的生活用品非常齐全。这是我们来美国住过民宿中的最好的一次。, Hillary很热情，给予我们很大的帮助。地理位置非常好，靠近好莱坞影视城，房间非常干净、舒适、温馨，房间内的生活用品非常齐全。这是我们来美国住过民宿中的最好的一次。, Hillary非常好，房子非常干净，周围很安全，去环球影视城很近。谢谢你\n",
      "\n",
      "Ya es la segunda vez que elijo esta casa en West Hollywood, la elijo porque es muy linda, tiene todas las comodidades, todo funciona muy bien, tiene muchos cuartos y está en un barrio muy bonito y estratégico para moverse con comodidad en Los Angeles.Nina y Kevin son muy serviciales, están disponibles en todo momento y a cualquier hora para solucionar lo que se necesite y dar consejos para que la estadía sea perfecta.Son tan adorables y confiables que lo hacen sentir a uno como si fueran grandes amigos en esa ciudad. Gracias por todo!, The host canceled this reservation the day before arrival. This is an automated posting., The host canceled this reservation 42 days before arrival. This is an automated posting.\n",
      "\n",
      "helenaさん。素敵なお家をありがとうございました！nn家族7人が過ごしても広々と使うことができました。キッチンも使いやすく、リビングでのお食事はとても楽しく有意義なものでした。nnまた、洗濯機や乾燥機も使いやすく大変助かりました。nnどんなことにも、親切に対応して下さったhelenaさんに感謝しています。nnまた戻って来たくなる家です。nありがとうございました‼️\n",
      "\n",
      "\n",
      "\n",
      "Denis非常热情，房间干净舒服，位置非常好，走两条街就是星光大道，门口各种餐厅，有一个挺大的超市，可以自己做早餐，很方便, 房子非常好。尽管二楼房间似乎比较闷热，但中央空调足够将它变得更加凉爽。房间的厨房足够房客烹饪简单的菜肴。房子的地理位置绝佳，公共交通方便，步行也很安全。我们与房东只有一面之缘，但很明显，他非常欢迎我们的到来。下次如果我们还去洛杉矶，这间房子仍是我们的首选。, 房东非常好，我们在那里住的也不错，地理位置很好，旅游的话住这里会节省时间。去环球影城、和好莱坞标志都很近。\n",
      "\n",
      "这是我们第一次使用Airbnb，也是我第一次在国外过生日！非常完美的体验！Lisa和Jeff非常热情，和我一起庆祝生日，还帮我洗衣服，真是非常感谢他们！房子离威尼斯海滩不远，周围很安静，停车非常方便，并且免费。房间装饰得很温馨，很有家的感觉！总之这次体验非常完美，非常感谢Lisa和Jeff！\n",
      "\n",
      "房子地理位置很好，旁边就是环球影城，还有很多shopping malls. 因为人多，租了三个房间，所以可以正好一次性拥有整个公寓。最好和房东确认过，租一个房间是否会和别人share房间. 房东很细致，房间里东西也一应俱全。价格也适当。如果家庭出游，真的很方便，推荐！\n",
      "\n"
     ]
    }
   ],
   "source": [
    "least_pos = df_sorted.tail(20).reviews.values\n",
    "print(\"Least positive reviews:\")\n",
    "print(\"-----------------------\")\n",
    "print(\"\")\n",
    "for i in least_pos:\n",
    "    print(i)\n",
    "    print(\"\")"
   ]
  },
  {
   "cell_type": "markdown",
   "metadata": {},
   "source": [
    "## Modeling\n"
   ]
  },
  {
   "cell_type": "code",
   "execution_count": 14,
   "metadata": {},
   "outputs": [],
   "source": [
    "X = df.drop(columns=['price_USD', 'reviews'])\n",
    "y = df.price_USD"
   ]
  },
  {
   "cell_type": "code",
   "execution_count": null,
   "metadata": {},
   "outputs": [],
   "source": [
    "'''\n",
    "X_sm = X.sample(frac=0.1, replace=False, random_state=SEED)\n",
    "y_sm = y.sample(frac=0.1, replace=False, random_state=SEED)\n",
    "'''"
   ]
  },
  {
   "cell_type": "code",
   "execution_count": 15,
   "metadata": {},
   "outputs": [],
   "source": [
    "X_train, X_test, y_train, y_test = train_test_split(X, y, \n",
    "                                                    test_size=0.2,\n",
    "                                                    random_state=SEED)"
   ]
  },
  {
   "cell_type": "code",
   "execution_count": 21,
   "metadata": {},
   "outputs": [],
   "source": [
    "rf = RandomForestRegressor(n_estimators=800,\n",
    "                          max_depth=5,\n",
    "                          min_samples_leaf=0.1,\n",
    "                          n_jobs=-1,\n",
    "                          random_state=SEED)"
   ]
  },
  {
   "cell_type": "code",
   "execution_count": 22,
   "metadata": {},
   "outputs": [
    {
     "data": {
      "text/plain": [
       "RandomForestRegressor(bootstrap=True, criterion='mse', max_depth=5,\n",
       "           max_features='auto', max_leaf_nodes=None,\n",
       "           min_impurity_decrease=0.0, min_impurity_split=None,\n",
       "           min_samples_leaf=0.1, min_samples_split=2,\n",
       "           min_weight_fraction_leaf=0.0, n_estimators=800, n_jobs=-1,\n",
       "           oob_score=False, random_state=1, verbose=0, warm_start=False)"
      ]
     },
     "execution_count": 22,
     "metadata": {},
     "output_type": "execute_result"
    }
   ],
   "source": [
    "rf.fit(X_train, y_train)"
   ]
  },
  {
   "cell_type": "code",
   "execution_count": 23,
   "metadata": {},
   "outputs": [],
   "source": [
    "y_pred = rf.predict(X_test)"
   ]
  },
  {
   "cell_type": "code",
   "execution_count": 36,
   "metadata": {},
   "outputs": [
    {
     "data": {
      "text/plain": [
       "76.15139525970618"
      ]
     },
     "execution_count": 36,
     "metadata": {},
     "output_type": "execute_result"
    }
   ],
   "source": [
    "rmse_test = mean_squared_error(y_test, y_pred)**(1/2)\n",
    "rmse_test"
   ]
  },
  {
   "cell_type": "markdown",
   "metadata": {},
   "source": [
    "---"
   ]
  },
  {
   "cell_type": "code",
   "execution_count": 47,
   "metadata": {},
   "outputs": [],
   "source": [
    "gbt = GradientBoostingRegressor(n_estimators=800,\n",
    "                               max_depth=7,\n",
    "                               random_state=SEED)"
   ]
  },
  {
   "cell_type": "code",
   "execution_count": 48,
   "metadata": {},
   "outputs": [
    {
     "data": {
      "text/plain": [
       "GradientBoostingRegressor(alpha=0.9, criterion='friedman_mse', init=None,\n",
       "             learning_rate=0.1, loss='ls', max_depth=7, max_features=None,\n",
       "             max_leaf_nodes=None, min_impurity_decrease=0.0,\n",
       "             min_impurity_split=None, min_samples_leaf=1,\n",
       "             min_samples_split=2, min_weight_fraction_leaf=0.0,\n",
       "             n_estimators=800, n_iter_no_change=None, presort='auto',\n",
       "             random_state=1, subsample=1.0, tol=0.0001,\n",
       "             validation_fraction=0.1, verbose=0, warm_start=False)"
      ]
     },
     "execution_count": 48,
     "metadata": {},
     "output_type": "execute_result"
    }
   ],
   "source": [
    "gbt.fit(X_train, y_train)"
   ]
  },
  {
   "cell_type": "code",
   "execution_count": 49,
   "metadata": {},
   "outputs": [],
   "source": [
    "y_pred = gbt.predict(X_test)"
   ]
  },
  {
   "cell_type": "code",
   "execution_count": 50,
   "metadata": {},
   "outputs": [
    {
     "data": {
      "text/plain": [
       "39.73126167986596"
      ]
     },
     "execution_count": 50,
     "metadata": {},
     "output_type": "execute_result"
    }
   ],
   "source": [
    "rmse_test = mean_squared_error(y_test, y_pred)**(1/2)\n",
    "rmse_test"
   ]
  },
  {
   "cell_type": "markdown",
   "metadata": {},
   "source": [
    "---"
   ]
  },
  {
   "cell_type": "code",
   "execution_count": 116,
   "metadata": {},
   "outputs": [],
   "source": [
    "xg_reg = xgb.XGBRegressor(n_jobs=cores, random_state=SEED)"
   ]
  },
  {
   "cell_type": "code",
   "execution_count": null,
   "metadata": {},
   "outputs": [],
   "source": [
    "gbm_param_grid = {\n",
    "    'xgb_model__subsample': ,\n",
    "    'xgb_model__max_depth': ,\n",
    "    'xgb_model__colsample_bytree': ,\n",
    "    'xgb_model__gamma': \n",
    "}"
   ]
  },
  {
   "cell_type": "code",
   "execution_count": null,
   "metadata": {},
   "outputs": [],
   "source": [
    "randomized_neg_mse = RandomizedSearchCV(estimator=xgb_reg,\n",
    "                                       params_distributions=gbm_param_grid,\n",
    "                                       n_iter=10,\n",
    "                                       scoring='neg_mean_squared_error',\n",
    "                                       cv=4)"
   ]
  },
  {
   "cell_type": "code",
   "execution_count": null,
   "metadata": {},
   "outputs": [],
   "source": [
    "randomized_neg_mse.fit(X_train, y_train)"
   ]
  },
  {
   "cell_type": "code",
   "execution_count": null,
   "metadata": {},
   "outputs": [],
   "source": [
    "print(\"Best rmse: \", \n",
    "      np.sqrt(np.abs(randomized_neg_mse.best.score_)))\n",
    "\n",
    "print(\"Best model: \",\n",
    "     randomized_neg_mse.best_estimator_)"
   ]
  },
  {
   "cell_type": "markdown",
   "metadata": {},
   "source": [
    "### AUC/ROC and Precision/Recall"
   ]
  },
  {
   "cell_type": "code",
   "execution_count": null,
   "metadata": {},
   "outputs": [],
   "source": []
  }
 ],
 "metadata": {
  "kernelspec": {
   "display_name": "Python 3",
   "language": "python",
   "name": "python3"
  },
  "language_info": {
   "codemirror_mode": {
    "name": "ipython",
    "version": 3
   },
   "file_extension": ".py",
   "mimetype": "text/x-python",
   "name": "python",
   "nbconvert_exporter": "python",
   "pygments_lexer": "ipython3",
   "version": "3.7.2"
  }
 },
 "nbformat": 4,
 "nbformat_minor": 2
}
