{
 "cells": [
  {
   "cell_type": "markdown",
   "metadata": {},
   "source": [
    "## Predicting Airbnb Listing Price | Analysis\n",
    "\n",
    "This notebook explores feature creation and machine learning modeling to predict the price variable from other features in the data."
   ]
  },
  {
   "cell_type": "code",
   "execution_count": null,
   "metadata": {},
   "outputs": [],
   "source": [
    "import os\n",
    "import shutil\n",
    "import warnings\n",
    "import numpy as np\n",
    "import pandas as pd\n",
    "import multiprocessing as mp\n",
    "import matplotlib.pyplot as plt\n",
    "import seaborn as sns\n",
    "import xgboost as xgb\n",
    "\n",
    "from vaderSentiment.vaderSentiment import SentimentIntensityAnalyzer\n",
    "from sklearn.model_selection import train_test_split, GridSearchCV\n",
    "from sklearn.ensemble import RandomForestRegressor, GradientBoostingRegressor\n",
    "from sklearn.metrics import auc, roc_curve, mean_squared_error\n",
    "from tqdm import tqdm"
   ]
  },
  {
   "cell_type": "code",
   "execution_count": 2,
   "metadata": {},
   "outputs": [],
   "source": [
    "SEED = 1\n",
    "pd.set_option('display.max_columns', None)\n",
    "warnings.filterwarnings(\"ignore\")\n",
    "sns.set_style(\"white\")\n",
    "cores = mp.cpu_count()"
   ]
  },
  {
   "cell_type": "markdown",
   "metadata": {},
   "source": [
    "### Feature Engineering\n",
    "\n",
    "Most of the data being used for modeling is numeric, but the only string feature, the review text, can be turned into an additional numeric feature using natural language processing techniques. I chose to use VADER sentiment analysis to engineer this feature. According to it's [Github page](https://github.com/cjhutto/vaderSentiment), VADER (Valence Aware Dictionary and sEntiment Reasoner) \"is a lexicon and rule-based sentiment analysis tool that is specifically attuned to sentiments expressed in social media, and works well on texts from other domains\". After running a string through the Sentiment Intensity Analyzer from the vaderSentiment package, the analyzer returns numeric scores for the positivity, negativity, and neutrality of a sentence.\n",
    "\n",
    "Before using VADER, I preprocessed the reviews text to remove some extraneous characters such as \"\\\\\", \"\\[\", and \"\\]\". For VADER, stopwords and punctuation should be kept in since the classifier incorporates those elements into the analysis.\n",
    "\n",
    "To use the Sentiment Intensity Analyzer, I wrote my own function called `get_review_sentiment()` that wraps the analyzer in a try-except loop and only returns the positive aspect of the score. Once all sentiment scores were retrieved from review data, I added them to the dataframe as a new column called `pos_score`. Therefore, the review text gets turned into a numeric feature about the positivity of the reviews that a certain listing receives.\n",
    "\n",
    "For the initial exploration of the creation of `pos_score` and ease of use, I only used the first 1000 rows of the dataset."
   ]
  },
  {
   "cell_type": "code",
   "execution_count": 3,
   "metadata": {},
   "outputs": [],
   "source": [
    "directory = '/Users/limesncoconuts2/datasets/airbnb/'\n",
    "df = pd.read_csv(directory + 'df_clean.csv', nrows=1000)"
   ]
  },
  {
   "cell_type": "code",
   "execution_count": 4,
   "metadata": {},
   "outputs": [],
   "source": [
    "df.reviews = df.reviews.str.replace(\"[\",\"\").str.replace(\"]\",\"\") \\\n",
    "                    .str.replace(\"\\\\\",\"\").str.replace(\"\\\"\",\"\") \\\n",
    "                    .str.replace(\"\\'\",\"\").str.replace(\"rn\",\"\").str.strip()"
   ]
  },
  {
   "cell_type": "code",
   "execution_count": 5,
   "metadata": {},
   "outputs": [],
   "source": [
    "def get_review_sentiment(review, analyzer):\n",
    "    \"\"\"Returns the positive sentiment score of a given string\n",
    "    using a pre-defined VADER sentiment analysis object.\n",
    "    If string is null, return 0.\n",
    "    \"\"\"\n",
    "    try:\n",
    "        score = analyzer.polarity_scores(review)\n",
    "        score = score['pos']\n",
    "    \n",
    "    except: # if nan\n",
    "        score = 0\n",
    "    \n",
    "    return score"
   ]
  },
  {
   "cell_type": "code",
   "execution_count": 6,
   "metadata": {},
   "outputs": [
    {
     "name": "stdout",
     "output_type": "stream",
     "text": [
      "CPU times: user 3.55 s, sys: 1.48 s, total: 5.04 s\n",
      "Wall time: 24min 4s\n"
     ]
    }
   ],
   "source": [
    "%%time\n",
    "analyzer = SentimentIntensityAnalyzer()\n",
    "\n",
    "pool = mp.Pool(cores)\n",
    "results = [pool.apply(get_review_sentiment, args=(row, analyzer)) for row in df.reviews]\n",
    "pool.close()    \n",
    "\n",
    "df['pos_score'] = results"
   ]
  },
  {
   "cell_type": "code",
   "execution_count": 7,
   "metadata": {},
   "outputs": [],
   "source": [
    "df_sorted = df[['reviews', 'pos_score']].dropna().sort_values(by=['pos_score'], ascending=False)"
   ]
  },
  {
   "cell_type": "markdown",
   "metadata": {},
   "source": [
    "#### Examples of most and least positive reviews using vaderSentiment:"
   ]
  },
  {
   "cell_type": "code",
   "execution_count": 8,
   "metadata": {},
   "outputs": [
    {
     "name": "stdout",
     "output_type": "stream",
     "text": [
      "Most positive reviews:\n",
      "-----------------------\n",
      "\n",
      "Great\n",
      "\n",
      "Perfect 👌🏼\n",
      "\n",
      "Marcy was great very sweet!\n",
      "\n",
      "Amazing spectacular experience , highly recommend\n",
      "\n",
      "Awesome host. Great communication and accommodation skills. Made sure I was taking care of.\n",
      "\n"
     ]
    }
   ],
   "source": [
    "most_pos = list(df_sorted.head(5).reviews.values)\n",
    "print(\"Most positive reviews:\")\n",
    "print(\"-----------------------\")\n",
    "print(\"\")\n",
    "for i in most_pos:\n",
    "    print(i)\n",
    "    print(\"\")"
   ]
  },
  {
   "cell_type": "code",
   "execution_count": 9,
   "metadata": {},
   "outputs": [
    {
     "name": "stdout",
     "output_type": "stream",
     "text": [
      "Least positive reviews:\n",
      "-----------------------\n",
      "\n",
      "普段通りの生活ができ、とてもすごしやすかった\n",
      "\n",
      "房间和照片中的一样，房东想的很周到，并且带我们去了附近的亚洲超市，非常感谢！下次来洛杉矶还会选择住在这里。\n",
      "\n",
      "The host canceled this reservation 4 days before arrival. This is an automated posting.\n",
      "\n",
      "Hillary很热情,给予我们很大的帮助。地理位置非常好,靠近好莱坞影视城,房间非常干净、舒适、温馨,房间内的生活用品非常齐全。这是我们来美国住过民宿中的最好的一次。, Hillary很热情，给予我们很大的帮助。地理位置非常好，靠近好莱坞影视城，房间非常干净、舒适、温馨，房间内的生活用品非常齐全。这是我们来美国住过民宿中的最好的一次。, Hillary非常好，房子非常干净，周围很安全，去环球影视城很近。谢谢你\n",
      "\n",
      "Ya es la segunda vez que elijo esta casa en West Hollywood, la elijo porque es muy linda, tiene todas las comodidades, todo funciona muy bien, tiene muchos cuartos y está en un barrio muy bonito y estratégico para moverse con comodidad en Los Angeles.Nina y Kevin son muy serviciales, están disponibles en todo momento y a cualquier hora para solucionar lo que se necesite y dar consejos para que la estadía sea perfecta.Son tan adorables y confiables que lo hacen sentir a uno como si fueran grandes amigos en esa ciudad. Gracias por todo!, The host canceled this reservation the day before arrival. This is an automated posting., The host canceled this reservation 42 days before arrival. This is an automated posting.\n",
      "\n",
      "helenaさん。素敵なお家をありがとうございました！nn家族7人が過ごしても広々と使うことができました。キッチンも使いやすく、リビングでのお食事はとても楽しく有意義なものでした。nnまた、洗濯機や乾燥機も使いやすく大変助かりました。nnどんなことにも、親切に対応して下さったhelenaさんに感謝しています。nnまた戻って来たくなる家です。nありがとうございました‼️\n",
      "\n",
      "\n",
      "\n",
      "Denis非常热情，房间干净舒服，位置非常好，走两条街就是星光大道，门口各种餐厅，有一个挺大的超市，可以自己做早餐，很方便, 房子非常好。尽管二楼房间似乎比较闷热，但中央空调足够将它变得更加凉爽。房间的厨房足够房客烹饪简单的菜肴。房子的地理位置绝佳，公共交通方便，步行也很安全。我们与房东只有一面之缘，但很明显，他非常欢迎我们的到来。下次如果我们还去洛杉矶，这间房子仍是我们的首选。, 房东非常好，我们在那里住的也不错，地理位置很好，旅游的话住这里会节省时间。去环球影城、和好莱坞标志都很近。\n",
      "\n",
      "这是我们第一次使用Airbnb，也是我第一次在国外过生日！非常完美的体验！Lisa和Jeff非常热情，和我一起庆祝生日，还帮我洗衣服，真是非常感谢他们！房子离威尼斯海滩不远，周围很安静，停车非常方便，并且免费。房间装饰得很温馨，很有家的感觉！总之这次体验非常完美，非常感谢Lisa和Jeff！\n",
      "\n",
      "房子地理位置很好，旁边就是环球影城，还有很多shopping malls. 因为人多，租了三个房间，所以可以正好一次性拥有整个公寓。最好和房东确认过，租一个房间是否会和别人share房间. 房东很细致，房间里东西也一应俱全。价格也适当。如果家庭出游，真的很方便，推荐！\n",
      "\n"
     ]
    }
   ],
   "source": [
    "least_pos = df_sorted.tail(10).reviews.values\n",
    "print(\"Least positive reviews:\")\n",
    "print(\"-----------------------\")\n",
    "print(\"\")\n",
    "for i in least_pos:\n",
    "    print(i)\n",
    "    print(\"\")"
   ]
  },
  {
   "cell_type": "markdown",
   "metadata": {},
   "source": [
    "### Feature Reduction\n",
    "\n",
    "#### Is VADER data important? \n",
    "The negative aspect to using the vaderSentiment package is the very slow speed. For example, 1000 loops of `get_review_sentiment()` takes over 20 minutes, so all 1.1 million data points would take over 10 days to process. Using a random forest regressor and the small dataset for the initial VADER analysis on 1000 rows of data, I analyzed the feature importances to see is `pos_score` would show up."
   ]
  },
  {
   "cell_type": "code",
   "execution_count": 10,
   "metadata": {},
   "outputs": [
    {
     "data": {
      "text/plain": [
       "RandomForestRegressor(bootstrap=True, criterion='mse', max_depth=10,\n",
       "           max_features='auto', max_leaf_nodes=None,\n",
       "           min_impurity_decrease=0.0, min_impurity_split=None,\n",
       "           min_samples_leaf=1, min_samples_split=2,\n",
       "           min_weight_fraction_leaf=0.0, n_estimators=500, n_jobs=-1,\n",
       "           oob_score=False, random_state=1, verbose=0, warm_start=False)"
      ]
     },
     "execution_count": 10,
     "metadata": {},
     "output_type": "execute_result"
    }
   ],
   "source": [
    "# random forests for feature selection\n",
    "X_sent = df.drop(columns=['price_USD', 'reviews'])\n",
    "y_sent = df.price_USD\n",
    "\n",
    "X_train, X_test, y_train, y_test = train_test_split(X_sent, y_sent,\n",
    "                                                    test_size=0.2,\n",
    "                                                    random_state=SEED)\n",
    "\n",
    "rf = RandomForestRegressor(n_estimators=500,\n",
    "                           max_depth=10,\n",
    "                           n_jobs=-1,\n",
    "                           random_state=SEED)\n",
    "rf.fit(X_train, y_train)"
   ]
  },
  {
   "cell_type": "code",
   "execution_count": 11,
   "metadata": {},
   "outputs": [
    {
     "data": {
      "image/png": "[encoded data removed]",
      "text/plain": [
       "<Figure size 1080x576 with 1 Axes>"
      ]
     },
     "metadata": {},
     "output_type": "display_data"
    }
   ],
   "source": [
    "importances_rf = pd.Series(rf.feature_importances_, index = X_sent.columns)\n",
    "sorted_importances_rf = importances_rf.sort_values()\n",
    "sorted_importances_rf = sorted_importances_rf[sorted_importances_rf > 0]\n",
    "\n",
    "fig, ax = plt.subplots(figsize=(15,8))\n",
    "\n",
    "sorted_importances_rf[:50].plot(kind='barh', color='lightgreen')\n",
    "plt.show()"
   ]
  },
  {
   "cell_type": "code",
   "execution_count": 12,
   "metadata": {},
   "outputs": [
    {
     "data": {
      "text/plain": [
       "True"
      ]
     },
     "execution_count": 12,
     "metadata": {},
     "output_type": "execute_result"
    }
   ],
   "source": [
    "'pos_score' in list(sorted_importances_rf[:25].index)"
   ]
  },
  {
   "cell_type": "markdown",
   "metadata": {},
   "source": [
    "Since `pos_score` showed up in the top 25 features, I concluded that it was important to incorporate into the final model of this project. Since the dataset is already large and vaderSentiment analyses are very slow given my hardware constraints, I decided to only work with 50,000 rows of the dataset for the final modeling process.\n",
    "\n",
    "#### Which Features to Keep?\n",
    "Even though there will only be one-twentieth of the data in the final modeling process, I still used larger subsets of the data to narrow down the dataset to its most important features. With all features present and with all 1.1 million rows, the dataset was larger than my computer's RAM would allow. Using 500,000 rows of the original clean dataset, I used another random forest regressor to narrow down the 50 most important features that I would then keep for the final modeling process. I kept a list of these column names in a variable called `important_cols`."
   ]
  },
  {
   "cell_type": "code",
   "execution_count": 13,
   "metadata": {},
   "outputs": [],
   "source": [
    "df = pd.read_csv(directory + 'df_clean.csv', nrows=500000)"
   ]
  },
  {
   "cell_type": "code",
   "execution_count": 14,
   "metadata": {},
   "outputs": [
    {
     "data": {
      "text/plain": [
       "RandomForestRegressor(bootstrap=True, criterion='mse', max_depth=5,\n",
       "           max_features='auto', max_leaf_nodes=None,\n",
       "           min_impurity_decrease=0.0, min_impurity_split=None,\n",
       "           min_samples_leaf=1, min_samples_split=2,\n",
       "           min_weight_fraction_leaf=0.0, n_estimators=500, n_jobs=-1,\n",
       "           oob_score=False, random_state=1, verbose=0, warm_start=False)"
      ]
     },
     "execution_count": 14,
     "metadata": {},
     "output_type": "execute_result"
    }
   ],
   "source": [
    "# random forests for feature selection\n",
    "X_feat = df.drop(columns=['price_USD', 'reviews'])\n",
    "y_feat = df.price_USD\n",
    "\n",
    "X_train, X_test, y_train, y_test = train_test_split(X_feat, y_feat, \n",
    "                                                    test_size=0.2,random_state=SEED)\n",
    "\n",
    "rf = RandomForestRegressor(n_estimators=500,\n",
    "                           max_depth=5,\n",
    "                           n_jobs=-1,\n",
    "                           random_state=SEED)\n",
    "rf.fit(X_train, y_train)"
   ]
  },
  {
   "cell_type": "code",
   "execution_count": 15,
   "metadata": {},
   "outputs": [
    {
     "data": {
      "text/plain": [
       "75.36293542584507"
      ]
     },
     "execution_count": 15,
     "metadata": {},
     "output_type": "execute_result"
    }
   ],
   "source": [
    "y_pred = rf.predict(X_test)\n",
    "\n",
    "rmse_test = mean_squared_error(y_test, y_pred)**(1/2)\n",
    "rmse_test"
   ]
  },
  {
   "cell_type": "code",
   "execution_count": 16,
   "metadata": {},
   "outputs": [
    {
     "data": {
      "image/png": "[encoded data removed]",
      "text/plain": [
       "<Figure size 1080x576 with 1 Axes>"
      ]
     },
     "metadata": {},
     "output_type": "display_data"
    }
   ],
   "source": [
    "importances_rf = pd.Series(rf.feature_importances_, index = X_feat.columns)\n",
    "sorted_importances_rf = importances_rf.sort_values()\n",
    "sorted_importances_rf = sorted_importances_rf[sorted_importances_rf > 0]\n",
    "\n",
    "fig, ax = plt.subplots(figsize=(15,8))\n",
    "\n",
    "sorted_importances_rf[:50].plot(kind='barh', color='lightgreen')\n",
    "plt.show()"
   ]
  },
  {
   "cell_type": "code",
   "execution_count": 33,
   "metadata": {},
   "outputs": [],
   "source": [
    "important_cols = list(sorted_importances_rf[:50].index) + ['price_USD', 'reviews']"
   ]
  },
  {
   "cell_type": "code",
   "execution_count": 34,
   "metadata": {},
   "outputs": [
    {
     "data": {
      "text/plain": [
       "['bedrooms',\n",
       " 'cleaning_fee_USD',\n",
       " 'bathrooms',\n",
       " 'longitude',\n",
       " 'room_type_shared room',\n",
       " 'room_type_private room',\n",
       " 'accommodates',\n",
       " 'latitude',\n",
       " 'zipcode',\n",
       " 'extra_people_USD',\n",
       " 'property_type_apartment',\n",
       " 'number_of_reviews',\n",
       " 'property_type_house',\n",
       " 'minimum_nights',\n",
       " 'host_total_listings_count',\n",
       " 'id',\n",
       " 'review_scores_rating',\n",
       " 'cancellation_policy_super_strict_60',\n",
       " 'cancellation_policy_moderate',\n",
       " 'reviews_per_month',\n",
       " 'availability_365',\n",
       " 'property_type_castle',\n",
       " 'requires_license',\n",
       " 'property_type_villa',\n",
       " 'guests_included',\n",
       " 'beds',\n",
       " 'require_guest_profile_picture',\n",
       " 'property_type_townhouse',\n",
       " 'host_acceptance_rate_percentage',\n",
       " 'has_stove',\n",
       " 'maximum_nights',\n",
       " 'property_type_other',\n",
       " 'has_free_street_parking',\n",
       " 'has_long_term_stays_allowed',\n",
       " 'require_guest_phone_verification',\n",
       " 'host_response_rate_percentage',\n",
       " 'host_response_time_within a few hours',\n",
       " 'has_buzzer/wireless_intercom',\n",
       " 'price_USD',\n",
       " 'reviews']"
      ]
     },
     "execution_count": 34,
     "metadata": {},
     "output_type": "execute_result"
    }
   ],
   "source": [
    "important_cols"
   ]
  },
  {
   "cell_type": "markdown",
   "metadata": {},
   "source": [
    "### Modeling\n",
    "Like previously mentioned, I only used one-twentieth of the dataset and the columns that I previously identified as the most important for creating my model. While not ideal, it allows me to experiment with different methods within the time constraints of this project and the hardware constraints of my computer.\n",
    "\n",
    "I ran the VADER feature engineering process to create the `pos_score` column for this particular dataset, and then saved the dataframe as a csv file on my computer called `df_ml.csv`. Then I dropped the `reviews` and `price_USD` columns to create my inputs to the model, and identified `price_USD` as the target of my model. After splitting the data into training and testing sets, I trained three different tree-based machine learning models, random forest, stochastic gradient boosting, and XGBoost, and used the root mean squared error to determine which model performed the best. Stochastic gradient boosting worked best in this scenario, with the lowest RMSE score of 43.9."
   ]
  },
  {
   "cell_type": "code",
   "execution_count": 20,
   "metadata": {},
   "outputs": [],
   "source": [
    "df = pd.read_csv(directory + 'df_clean.csv',\n",
    "                 nrows=110000,\n",
    "                 usecols=important_cols)"
   ]
  },
  {
   "cell_type": "code",
   "execution_count": 21,
   "metadata": {},
   "outputs": [],
   "source": [
    "df.reviews = df.reviews.str.replace(\"[\",\"\").str.replace(\"]\",\"\") \\\n",
    "                    .str.replace(\"\\\\\",\"\").str.replace(\"\\\"\",\"\") \\\n",
    "                    .str.replace(\"\\'\",\"\").str.replace(\"rn\",\"\").str.strip()"
   ]
  },
  {
   "cell_type": "code",
   "execution_count": 22,
   "metadata": {},
   "outputs": [
    {
     "name": "stdout",
     "output_type": "stream",
     "text": [
      "CPU times: user 3min 21s, sys: 1min 37s, total: 4min 58s\n",
      "Wall time: 23h 14min 51s\n"
     ]
    }
   ],
   "source": [
    "%%time\n",
    "destination = '/Users/limesncoconuts2/datasets/airbnb/'\n",
    "filename = 'df_ml.csv'\n",
    "\n",
    "if(not os.path.isfile(destination + filename)):  \n",
    "    analyzer = SentimentIntensityAnalyzer()\n",
    "    pool = mp.Pool(cores)\n",
    "    results = [pool.apply(get_review_sentiment, args=(row, analyzer)) for row in df.reviews]\n",
    "    pool.close()\n",
    "    df['pos_score'] = results\n",
    "\n",
    "    # save df with pos_score column\n",
    "    current_dir = os.getcwd() + '/' + filename\n",
    "    df.to_csv(filename, index=False)\n",
    "    shutil.move(os.path.join(current_dir), os.path.join(destination, filename))"
   ]
  },
  {
   "cell_type": "code",
   "execution_count": 36,
   "metadata": {},
   "outputs": [],
   "source": [
    "df = pd.read_csv(directory + 'df_ml.csv')"
   ]
  },
  {
   "cell_type": "code",
   "execution_count": 37,
   "metadata": {},
   "outputs": [
    {
     "name": "stdout",
     "output_type": "stream",
     "text": [
      "<class 'pandas.core.frame.DataFrame'>\n",
      "RangeIndex: 50000 entries, 0 to 49999\n",
      "Data columns (total 41 columns):\n",
      "accommodates                             50000 non-null float64\n",
      "availability_365                         50000 non-null float64\n",
      "bathrooms                                50000 non-null float64\n",
      "bedrooms                                 50000 non-null float64\n",
      "beds                                     50000 non-null float64\n",
      "cleaning_fee_USD                         50000 non-null float64\n",
      "extra_people_USD                         50000 non-null float64\n",
      "guests_included                          50000 non-null int64\n",
      "host_acceptance_rate_percentage          50000 non-null float64\n",
      "host_response_rate_percentage            50000 non-null float64\n",
      "host_total_listings_count                50000 non-null float64\n",
      "id                                       50000 non-null float64\n",
      "latitude                                 50000 non-null float64\n",
      "longitude                                50000 non-null float64\n",
      "maximum_nights                           50000 non-null float64\n",
      "minimum_nights                           50000 non-null float64\n",
      "number_of_reviews                        50000 non-null float64\n",
      "price_USD                                50000 non-null float64\n",
      "require_guest_phone_verification         50000 non-null bool\n",
      "require_guest_profile_picture            50000 non-null bool\n",
      "requires_license                         50000 non-null bool\n",
      "review_scores_rating                     50000 non-null float64\n",
      "reviews_per_month                        50000 non-null float64\n",
      "zipcode                                  50000 non-null float64\n",
      "has_buzzer/wireless_intercom             50000 non-null bool\n",
      "has_free_street_parking                  50000 non-null bool\n",
      "has_long_term_stays_allowed              50000 non-null bool\n",
      "has_stove                                50000 non-null bool\n",
      "host_response_time_within a few hours    50000 non-null int64\n",
      "property_type_apartment                  50000 non-null int64\n",
      "property_type_castle                     50000 non-null int64\n",
      "property_type_house                      50000 non-null int64\n",
      "property_type_other                      50000 non-null int64\n",
      "property_type_townhouse                  50000 non-null int64\n",
      "property_type_villa                      50000 non-null int64\n",
      "room_type_private room                   50000 non-null int64\n",
      "room_type_shared room                    50000 non-null int64\n",
      "cancellation_policy_moderate             50000 non-null int64\n",
      "cancellation_policy_super_strict_60      50000 non-null int64\n",
      "reviews                                  46185 non-null object\n",
      "pos_score                                50000 non-null float64\n",
      "dtypes: bool(7), float64(21), int64(12), object(1)\n",
      "memory usage: 13.3+ MB\n"
     ]
    }
   ],
   "source": [
    "df.info()"
   ]
  },
  {
   "cell_type": "code",
   "execution_count": 39,
   "metadata": {},
   "outputs": [],
   "source": [
    "X = df.drop(columns=['reviews', 'price_USD'])\n",
    "y = df['price_USD']"
   ]
  },
  {
   "cell_type": "code",
   "execution_count": 40,
   "metadata": {},
   "outputs": [],
   "source": [
    "X_train, X_test, y_train, y_test = train_test_split(X, y, test_size=0.2, random_state=SEED)"
   ]
  },
  {
   "cell_type": "markdown",
   "metadata": {},
   "source": [
    "#### Random Forest"
   ]
  },
  {
   "cell_type": "code",
   "execution_count": 41,
   "metadata": {},
   "outputs": [],
   "source": [
    "rf = RandomForestRegressor(n_estimators=800,\n",
    "                          max_depth=5,\n",
    "                          n_jobs=-1,\n",
    "                          random_state=SEED)"
   ]
  },
  {
   "cell_type": "code",
   "execution_count": 42,
   "metadata": {},
   "outputs": [
    {
     "data": {
      "text/plain": [
       "RandomForestRegressor(bootstrap=True, criterion='mse', max_depth=5,\n",
       "           max_features='auto', max_leaf_nodes=None,\n",
       "           min_impurity_decrease=0.0, min_impurity_split=None,\n",
       "           min_samples_leaf=1, min_samples_split=2,\n",
       "           min_weight_fraction_leaf=0.0, n_estimators=800, n_jobs=-1,\n",
       "           oob_score=False, random_state=1, verbose=0, warm_start=False)"
      ]
     },
     "execution_count": 42,
     "metadata": {},
     "output_type": "execute_result"
    }
   ],
   "source": [
    "rf.fit(X_train, y_train)"
   ]
  },
  {
   "cell_type": "code",
   "execution_count": 43,
   "metadata": {},
   "outputs": [],
   "source": [
    "y_pred = rf.predict(X_test)"
   ]
  },
  {
   "cell_type": "code",
   "execution_count": null,
   "metadata": {},
   "outputs": [],
   "source": [
    "rf_fpr, rf_tpr, rf_thresh = roc_curve(y_pred, y_test)\n",
    "rf_roc_auc = auc(rf_fpr, rf_tpr)"
   ]
  },
  {
   "cell_type": "code",
   "execution_count": 44,
   "metadata": {},
   "outputs": [
    {
     "data": {
      "text/plain": [
       "71.91041927983758"
      ]
     },
     "execution_count": 44,
     "metadata": {},
     "output_type": "execute_result"
    }
   ],
   "source": [
    "rmse_test = mean_squared_error(y_test, y_pred)**(1/2)\n",
    "print('Random Forest Root Mean Squared Error:', rmse_test)"
   ]
  },
  {
   "cell_type": "markdown",
   "metadata": {},
   "source": [
    "#### Stochastic Gradient Boosting"
   ]
  },
  {
   "cell_type": "code",
   "execution_count": 45,
   "metadata": {},
   "outputs": [],
   "source": [
    "gbt = GradientBoostingRegressor(n_estimators=800,\n",
    "                                subsample=0.8,\n",
    "                                max_depth=5,\n",
    "                                random_state=SEED)"
   ]
  },
  {
   "cell_type": "code",
   "execution_count": 46,
   "metadata": {},
   "outputs": [
    {
     "data": {
      "text/plain": [
       "GradientBoostingRegressor(alpha=0.9, criterion='friedman_mse', init=None,\n",
       "             learning_rate=0.1, loss='ls', max_depth=5, max_features=None,\n",
       "             max_leaf_nodes=None, min_impurity_decrease=0.0,\n",
       "             min_impurity_split=None, min_samples_leaf=1,\n",
       "             min_samples_split=2, min_weight_fraction_leaf=0.0,\n",
       "             n_estimators=800, n_iter_no_change=None, presort='auto',\n",
       "             random_state=1, subsample=0.8, tol=0.0001,\n",
       "             validation_fraction=0.1, verbose=0, warm_start=False)"
      ]
     },
     "execution_count": 46,
     "metadata": {},
     "output_type": "execute_result"
    }
   ],
   "source": [
    "gbt.fit(X_train, y_train)"
   ]
  },
  {
   "cell_type": "code",
   "execution_count": 47,
   "metadata": {},
   "outputs": [],
   "source": [
    "y_pred = gbt.predict(X_test)"
   ]
  },
  {
   "cell_type": "code",
   "execution_count": null,
   "metadata": {},
   "outputs": [],
   "source": [
    "gbt_fpr, gbt_tpr, gbt_thresh = roc_curve(y_pred, y_test)\n",
    "gbt_roc_auc = auc(gbt_fpr, gbt_tpr)"
   ]
  },
  {
   "cell_type": "code",
   "execution_count": 48,
   "metadata": {},
   "outputs": [
    {
     "data": {
      "text/plain": [
       "43.949666173012226"
      ]
     },
     "execution_count": 48,
     "metadata": {},
     "output_type": "execute_result"
    }
   ],
   "source": [
    "rmse_test = mean_squared_error(y_test, y_pred)**(1/2)\n",
    "print('Stochastic Gradient Boosting Root Mean Squared Error:', rmse_test)"
   ]
  },
  {
   "cell_type": "markdown",
   "metadata": {},
   "source": [
    "#### XGBoost"
   ]
  },
  {
   "cell_type": "code",
   "execution_count": 49,
   "metadata": {},
   "outputs": [],
   "source": [
    "xg_reg = xgb.XGBRegressor(n_estimators=800,\n",
    "                          max_depth=5,\n",
    "                          objective='reg:linear',\n",
    "                          n_jobs=cores,\n",
    "                          random_state=SEED)"
   ]
  },
  {
   "cell_type": "code",
   "execution_count": 50,
   "metadata": {},
   "outputs": [
    {
     "data": {
      "text/plain": [
       "XGBRegressor(base_score=0.5, booster='gbtree', colsample_bylevel=1,\n",
       "       colsample_bytree=1, gamma=0, learning_rate=0.1, max_delta_step=0,\n",
       "       max_depth=5, min_child_weight=1, missing=None, n_estimators=800,\n",
       "       n_jobs=4, nthread=None, objective='reg:linear', random_state=1,\n",
       "       reg_alpha=0, reg_lambda=1, scale_pos_weight=1, seed=None,\n",
       "       silent=True, subsample=1)"
      ]
     },
     "execution_count": 50,
     "metadata": {},
     "output_type": "execute_result"
    }
   ],
   "source": [
    "xg_reg.fit(X_train, y_train)"
   ]
  },
  {
   "cell_type": "code",
   "execution_count": 51,
   "metadata": {},
   "outputs": [],
   "source": [
    "y_pred = xg_reg.predict(X_test)"
   ]
  },
  {
   "cell_type": "code",
   "execution_count": null,
   "metadata": {},
   "outputs": [],
   "source": [
    "xg_fpr, xg_tpr, xg_thresh = roc_curve(y_pred, y_test)\n",
    "xg_roc_auc = auc(xg_fpr, xg_tpr)"
   ]
  },
  {
   "cell_type": "code",
   "execution_count": 52,
   "metadata": {},
   "outputs": [
    {
     "data": {
      "text/plain": [
       "44.728063554100025"
      ]
     },
     "execution_count": 52,
     "metadata": {},
     "output_type": "execute_result"
    }
   ],
   "source": [
    "rmse_test = mean_squared_error(y_test, y_pred)**(1/2)\n",
    "print('XGBoost Root Mean Squared Error:', rmse_test)"
   ]
  },
  {
   "cell_type": "markdown",
   "metadata": {},
   "source": [
    "### AUC/ROC\n",
    "\n",
    "I also evaluated the three previous models using graphs of the receiver operating characteristics (ROC) curve and the area under the ROC curve (AUC) metric. The ROC curve plots the false positive rate against the true positive rate of a model at different classification thresholds. These curves can be compared across models to see which ones result in the most true positives and the lease false positives. Another way to interpret this curve is by using the AUC metric. AUC measures the area under the ROC curve, with larger areas signifying better performing models. The plot of ROC is consistent with the conclusion that the stochastic gradient model is working the best in this situation."
   ]
  },
  {
   "cell_type": "code",
   "execution_count": null,
   "metadata": {},
   "outputs": [],
   "source": [
    "# plot ROC Curves for all models along with their AUC score\n",
    "plt.figure()\n",
    "plt.plot(rf_fpr, rf_tpr, color='blue', lw=1, label='RF ROC curve (area = %0.2f)' % rf_roc_auc)\n",
    "plt.plot(gbt_fpr, gbt_tpr, color='green', lw=1, label='GBT ROC curve (area = %0.2f)' % gbt_roc_auc)\n",
    "plt.plot(xg_fpr, xg_tpr, color='teal', lw=1, label='XG ROC curve (area = %0.2f)' % xg_roc_auc)\n",
    "plt.plot([0, 1], [0, 1], color='black', lw=lw, linestyle='--')\n",
    "plt.xlim([0.0, 1.0])\n",
    "plt.ylim([0.0, 1.05])\n",
    "plt.xlabel('False Positive Rate')\n",
    "plt.ylabel('True Positive Rate')\n",
    "plt.title('Receiver operating characteristic')\n",
    "plt.legend(loc=\"lower right\")\n",
    "plt.tight_layout()\n",
    "plt.show()"
   ]
  },
  {
   "cell_type": "markdown",
   "metadata": {},
   "source": [
    "### Model Tuning\n",
    "\n",
    "I used grid search cross validation to optimize the best performing model, which was the stochastic gradient boosting model."
   ]
  },
  {
   "cell_type": "code",
   "execution_count": 53,
   "metadata": {},
   "outputs": [],
   "source": [
    "params = {\n",
    "    \"n_estimators\":[500, 800],\n",
    "    \"subsample\": [0.5, 0.8, 1],\n",
    "    \"max_depth\": [1, 3, 5, 7],\n",
    "    \"learning_rate\": [0.01, 0.1, 1],\n",
    "    \"min_samples_leaf\":[0.04, 0.04, 0.08, 1],\n",
    "    \"random_state\":[SEED]\n",
    "}\n",
    "\n",
    "gbt = GradientBoostingRegressor()"
   ]
  },
  {
   "cell_type": "code",
   "execution_count": 54,
   "metadata": {},
   "outputs": [],
   "source": [
    "grid = GridSearchCV(estimator=gbt,\n",
    "                   param_grid=params,\n",
    "                   cv=10,\n",
    "                   n_jobs=-1)"
   ]
  },
  {
   "cell_type": "code",
   "execution_count": null,
   "metadata": {},
   "outputs": [],
   "source": [
    "%%time\n",
    "grid.fit(X_train, y_train)"
   ]
  },
  {
   "cell_type": "markdown",
   "metadata": {},
   "source": [
    "#### Tuned Model Feature Importances\n",
    "\n",
    "info here"
   ]
  },
  {
   "cell_type": "code",
   "execution_count": null,
   "metadata": {},
   "outputs": [],
   "source": [
    "best_hyperparams = grid.best_params_\n",
    "best_model = grid.best_estimator_\n",
    "print('Best hyperparameters:\\n', best_hyperparams)\n",
    "print('Best model:\\n', best_model)"
   ]
  },
  {
   "cell_type": "markdown",
   "metadata": {},
   "source": [
    "#### Run Model on Test Set\n",
    "\n",
    "info here"
   ]
  },
  {
   "cell_type": "code",
   "execution_count": null,
   "metadata": {},
   "outputs": [],
   "source": [
    "y_pred = best_model.predict(X_test)"
   ]
  },
  {
   "cell_type": "code",
   "execution_count": null,
   "metadata": {},
   "outputs": [],
   "source": [
    "# compute test set deviance\n",
    "test_score = np.zeros(500,), dtype=np.float64)\n",
    "\n",
    "for i, y_pred in enumerate(best_model.staged_predict(X_test)):\n",
    "    test_score[i] = best_model.loss_(y_test, y_pred)\n",
    "\n",
    "plt.figure(figsize=(12, 6))\n",
    "plt.subplot(1, 2, 1)\n",
    "plt.title('Deviance')\n",
    "plt.plot(np.arange(500) + 1, best_model.train_score_, 'b-', label='Training Set Deviance')\n",
    "plt.plot(np.arange(500) + 1, test_score, 'r-', label='Test Set Deviance')\n",
    "plt.legend(loc='upper right')\n",
    "plt.xlabel('Boosting Iterations')\n",
    "plt.ylabel('Deviance')\n",
    "\n",
    "# feature importances\n",
    "importances = pd.Series(best_model.feature_importances_, index = X.columns)\n",
    "sorted_importances = importances.sort_values(ascending=False)\n",
    "sorted_importances = sorted_importances[sorted_importances > 0]\n",
    "\n",
    "plt.subplot(1, 2, 2)\n",
    "sorted_importances[:10].plot(kind='barh', color='lightgreen')\n",
    "plt.xlabel('Relative Importance')\n",
    "plt.title('Variable Importance')\n",
    "plt.show()"
   ]
  },
  {
   "cell_type": "markdown",
   "metadata": {},
   "source": [
    "### Conclusions\n",
    "\n",
    "info here\n",
    "\n",
    "#### Future Improvements\n",
    "\n",
    "For the VADER sentiment analysis, I would do more preprocessing of the review data to remove non-English reviews to have a cleaner analysis that doesn't numerically de-value non-English entries. I would also like to include more string features into the dataset using VADER, like the listing description or rules data. Additionally, it would also be interesting to see what other NLP methods could be applied to the text data using a package like word2vec or doc2vec.\n",
    "\n",
    "To make this analysis stronger, I would train these models on the entire Los Angeles dataset, and then to other cities represented in the entire Inside Airbnb dataset. The infrastructure for scaling this model has already been incorporated through the use of functions, but further generalization using object-oriented programming principles could make for an even stronger model. I would also spend more time tuning the model using Randomized Search or the more thorough Grid Search method."
   ]
  }
 ],
 "metadata": {
  "kernelspec": {
   "display_name": "Python 3",
   "language": "python",
   "name": "python3"
  },
  "language_info": {
   "codemirror_mode": {
    "name": "ipython",
    "version": 3
   },
   "file_extension": ".py",
   "mimetype": "text/x-python",
   "name": "python",
   "nbconvert_exporter": "python",
   "pygments_lexer": "ipython3",
   "version": "3.7.2"
  }
 },
 "nbformat": 4,
 "nbformat_minor": 2
}
