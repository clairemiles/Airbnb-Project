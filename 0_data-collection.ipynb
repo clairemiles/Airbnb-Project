{
 "cells": [
  {
   "cell_type": "code",
   "execution_count": 1,
   "metadata": {},
   "outputs": [],
   "source": [
    "import os\n",
    "import shutil\n",
    "import requests\n",
    "import warnings\n",
    "import pandas as pd\n",
    "\n",
    "from bs4 import BeautifulSoup"
   ]
  },
  {
   "cell_type": "code",
   "execution_count": 2,
   "metadata": {},
   "outputs": [],
   "source": [
    "warnings.filterwarnings(\"ignore\")\n",
    "pd.set_option('display.max_columns', None)"
   ]
  },
  {
   "cell_type": "markdown",
   "metadata": {},
   "source": [
    "## Web Scraping"
   ]
  },
  {
   "cell_type": "code",
   "execution_count": 3,
   "metadata": {},
   "outputs": [],
   "source": [
    "url = 'http://insideairbnb.com/get-the-data.html'\n",
    "r = requests.get(url)\n",
    "html_doc = r.text\n",
    "soup = BeautifulSoup(html_doc)"
   ]
  },
  {
   "cell_type": "code",
   "execution_count": 4,
   "metadata": {},
   "outputs": [],
   "source": [
    "# extract all href links in <a> tags that contain 'listings.csv' or 'reviews.csv' (but not the visualizations) and store in a list\n",
    "# all links are in gzip files\n",
    "zipped_links = []\n",
    "for link in soup.find_all('a'):\n",
    "    link_url = link.get('href')\n",
    "    # only choose csv files that are listings or review data in LA, exclude visualizations\n",
    "    if (link_url is not None) and ('listings.csv' in link_url or 'reviews.csv' in link_url) and ('los-angeles' in link_url) and ('visualisations' not in link_url):\n",
    "        zipped_links.append(link_url)"
   ]
  },
  {
   "cell_type": "code",
   "execution_count": 5,
   "metadata": {},
   "outputs": [],
   "source": [
    "# function to write information from the links to their own files\n",
    "def write_files(ls, directory):\n",
    "    for link in ls:\n",
    "        file_url_split = link.split('/')\n",
    "        filename = file_url_split[-4] + '_' + file_url_split[-3] + '_' + file_url_split[-1]\n",
    "        # if the file doesn't exist in our directory, write to the file\n",
    "        if(not os.path.isfile(directory + filename)):\n",
    "            with open(directory + filename, \"wb\") as f:\n",
    "                r = requests.get(link)\n",
    "                f.write(r.content)"
   ]
  },
  {
   "cell_type": "code",
   "execution_count": 6,
   "metadata": {},
   "outputs": [
    {
     "name": "stdout",
     "output_type": "stream",
     "text": [
      "ALL FILES WRITTEN!\n"
     ]
    }
   ],
   "source": [
    "# implement function in script\n",
    "directory = '/Users/limesncoconuts2/datasets/airbnb-web/'\n",
    "\n",
    "# remove files that are 0 bytes (program timed out while they were being written previously)\n",
    "for file in os.listdir(directory):\n",
    "    if os.path.getsize(directory + file) == 0:\n",
    "        os.remove(directory + file)\n",
    "\n",
    "# check if all files have been written\n",
    "# if not, run writing function again\n",
    "# if so, print affirmative statement\n",
    "if len(zipped_links) != len(os.listdir(directory)):\n",
    "    write_files(zipped_links, directory)\n",
    "print('ALL FILES WRITTEN!')"
   ]
  },
  {
   "cell_type": "code",
   "execution_count": 7,
   "metadata": {},
   "outputs": [],
   "source": [
    "# some links to files on the website are broken, so we have to exclude these from our data\n",
    "# remove files that are of less than 1kb (not actually csv.gz files because of broken url)\n",
    "for file in os.listdir(directory):\n",
    "    if os.path.getsize(directory + file) < 1000:\n",
    "        os.remove(directory + file)"
   ]
  },
  {
   "cell_type": "markdown",
   "metadata": {},
   "source": [
    "## Combining Data"
   ]
  },
  {
   "cell_type": "code",
   "execution_count": 8,
   "metadata": {},
   "outputs": [],
   "source": [
    "def consolidate_data(city, directory, destination):\n",
    "    \"\"\" Checks if the csv file for either listings\n",
    "        or reviews data has been created for the designated\n",
    "        city in the destination folder.\n",
    "        If the file has not been created, run the combine_listings\n",
    "        or combine_reviews function for that city, and then create\n",
    "        the csv file for that city.\n",
    "    \"\"\"\n",
    "    \n",
    "    filename = city + '_listings.csv'\n",
    "    # if listings file for this city doesn't already exist, create listings_df and save as csv\n",
    "    if(not os.path.isfile(destination + filename)):\n",
    "        listings_df = combine_files(city, directory, 'listings')\n",
    "        export_csv(filename, listings_df, destination)\n",
    "    \n",
    "    filename = city + '_reviews.csv'\n",
    "    # if reviews file for this city doesn't already exist, create reviews_df and save as csv\n",
    "    if(not os.path.isfile(destination + filename)):\n",
    "        reviews_df = combine_files(city, directory, 'reviews')\n",
    "        export_csv(filename, reviews_df, destination)"
   ]
  },
  {
   "cell_type": "code",
   "execution_count": 9,
   "metadata": {},
   "outputs": [],
   "source": [
    "def combine_files(city, directory, kind):\n",
    "    \"\"\" Goes through files in the directory and checks for the\n",
    "        designated city files of the specified kind. Appends the names of the\n",
    "        files of that city to a list, and passes the list and the directory \n",
    "        name to the concat_files function.\n",
    "    \"\"\"\n",
    "    target_files = []\n",
    "    \n",
    "    for file in os.listdir(directory):\n",
    "        # check if file from the target city and is listings data\n",
    "        if city in file and kind in file:\n",
    "            # add to list of target files\n",
    "            target_files.append(file)\n",
    "    # concatenate files in list\n",
    "    return concat_files(target_files, directory) "
   ]
  },
  {
   "cell_type": "code",
   "execution_count": 10,
   "metadata": {},
   "outputs": [],
   "source": [
    "def concat_files(file_list, directory):\n",
    "    \"\"\"Creates a pandas dataframe for each file name in the \n",
    "       list of files. Appends the dataframe to a list of dataframes. After all files\n",
    "       in the list have been converted to pandas dataframes,\n",
    "       concatenate the dataframes together, drop duplicates,\n",
    "       and reset the dataframe index.\n",
    "    \"\"\"\n",
    "    ### ADD THINGS TO MAKE DATAFRAMES MORE EFFICIENT ###\n",
    "    # change datatypes to be more efficient\n",
    "    all_dfs = []\n",
    "        \n",
    "    for file in file_list:\n",
    "        # make into a pandas dataframe\n",
    "        df = pd.read_csv(directory + file)\n",
    "        \n",
    "        # append to a list of dataframes\n",
    "        all_dfs.append(df)\n",
    "    \n",
    "    # append dataframes together along x-axis\n",
    "    concat_all = pd.concat(all_dfs)\n",
    "    \n",
    "    # remove duplicate rows\n",
    "    concat_all.drop_duplicates(inplace=True)\n",
    "\n",
    "    # reset index\n",
    "    concat_all.reset_index(drop=True, inplace=True)\n",
    "        \n",
    "    return concat_all"
   ]
  },
  {
   "cell_type": "code",
   "execution_count": 11,
   "metadata": {},
   "outputs": [],
   "source": [
    "def export_csv(filename, df, destination):\n",
    "    \"\"\" If the desired csv file does not exist in the current\n",
    "        working directory, convert the dataframe to a csv file\n",
    "        and move the the desired folder in the destination directory.\n",
    "    \"\"\"\n",
    "    current_dir = os.getcwd() + '/' + filename\n",
    "    # export dataframe to csv if file doesn't already exist\n",
    "    if(not os.path.isfile(current_dir)):\n",
    "        df.to_csv(filename, index=False)\n",
    "        # move csv to destination directory\n",
    "        shutil.move(os.path.join(current_dir), os.path.join(destination, filename))"
   ]
  },
  {
   "cell_type": "code",
   "execution_count": 12,
   "metadata": {},
   "outputs": [],
   "source": [
    "# identify the directory and destination folder\n",
    "directory = '/Users/limesncoconuts2/datasets/airbnb-web/'\n",
    "destination = '/Users/limesncoconuts2/datasets/airbnb/'"
   ]
  },
  {
   "cell_type": "code",
   "execution_count": 13,
   "metadata": {},
   "outputs": [],
   "source": [
    "city = 'los-angeles'\n",
    "# if both files haven't been created, continue to create the consolidated csv files for that city\n",
    "if(not os.path.isfile(destination + city + '_listings.csv') or not os.path.isfile(destination + city + '_reviews.csv')):\n",
    "    consolidate_data(city, directory, destination)"
   ]
  }
 ],
 "metadata": {
  "kernelspec": {
   "display_name": "Python 3",
   "language": "python",
   "name": "python3"
  },
  "language_info": {
   "codemirror_mode": {
    "name": "ipython",
    "version": 3
   },
   "file_extension": ".py",
   "mimetype": "text/x-python",
   "name": "python",
   "nbconvert_exporter": "python",
   "pygments_lexer": "ipython3",
   "version": "3.7.2"
  }
 },
 "nbformat": 4,
 "nbformat_minor": 2
}
