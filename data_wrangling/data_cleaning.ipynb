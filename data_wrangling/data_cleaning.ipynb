{
 "cells": [
  {
   "cell_type": "markdown",
   "metadata": {},
   "source": [
    "## Data Wrangling: Data Cleaning"
   ]
  },
  {
   "cell_type": "markdown",
   "metadata": {},
   "source": [
    "Now that the data has been sourced and consolidated into separate csv files for each city, I will further clean and  the data using pandas dataframes. I will also conduct some preliminary data exploration."
   ]
  },
  {
   "cell_type": "code",
   "execution_count": 1,
   "metadata": {},
   "outputs": [],
   "source": [
    "# import relevant packages\n",
    "import pandas as pd\n",
    "import numpy as np\n",
    "import os\n",
    "import matplotlib.pyplot as plt\n",
    "from langdetect import detect\n",
    "%matplotlib inline"
   ]
  },
  {
   "cell_type": "code",
   "execution_count": 2,
   "metadata": {},
   "outputs": [],
   "source": [
    "# establish the directory\n",
    "directory = '/Users/limesncoconuts2/springboard_data/data_capstone_one/csv/'"
   ]
  },
  {
   "cell_type": "markdown",
   "metadata": {},
   "source": [
    "### Test code idea a subset of data\n",
    "Since I have a very large dataset scraped from the original webpage, I've decided to use a subset of the data for the present analysis. I will move forward with analysis on the files from Los Angeles.\n",
    "\n",
    "In order to keep the data tidy and to preserve vital information about the data, I will add a column called 'city_name' each time a csv file is imported to preserve the information about which city the data corresponds to."
   ]
  },
  {
   "cell_type": "code",
   "execution_count": 3,
   "metadata": {},
   "outputs": [
    {
     "name": "stderr",
     "output_type": "stream",
     "text": [
      "/anaconda3/lib/python3.7/site-packages/IPython/core/interactiveshell.py:2785: DtypeWarning: Columns (0,2,4,5,7,9,10,14,16,18,21,22,24,25,28,29,30,31,35,37,40,41,44,45,46,47,48,49,54,59,60,61,67,72,73,74,86,92,93,95) have mixed types. Specify dtype option on import or set low_memory=False.\n",
      "  interactivity=interactivity, compiler=compiler, result=result)\n"
     ]
    }
   ],
   "source": [
    "# import listings files for Los Angeles\n",
    "# add a city column\n",
    "city = 'los-angeles'\n",
    "listings = pd.read_csv(directory + city + '_listings.csv')\n",
    "listings['city_name'] = city"
   ]
  },
  {
   "cell_type": "code",
   "execution_count": 4,
   "metadata": {},
   "outputs": [
    {
     "data": {
      "text/html": [
       "<div>\n",
       "<style scoped>\n",
       "    .dataframe tbody tr th:only-of-type {\n",
       "        vertical-align: middle;\n",
       "    }\n",
       "\n",
       "    .dataframe tbody tr th {\n",
       "        vertical-align: top;\n",
       "    }\n",
       "\n",
       "    .dataframe thead th {\n",
       "        text-align: right;\n",
       "    }\n",
       "</style>\n",
       "<table border=\"1\" class=\"dataframe\">\n",
       "  <thead>\n",
       "    <tr style=\"text-align: right;\">\n",
       "      <th></th>\n",
       "      <th>access</th>\n",
       "      <th>accommodates</th>\n",
       "      <th>amenities</th>\n",
       "      <th>availability_30</th>\n",
       "      <th>availability_365</th>\n",
       "      <th>availability_60</th>\n",
       "      <th>availability_90</th>\n",
       "      <th>bathrooms</th>\n",
       "      <th>bed_type</th>\n",
       "      <th>bedrooms</th>\n",
       "      <th>...</th>\n",
       "      <th>square_feet</th>\n",
       "      <th>state</th>\n",
       "      <th>street</th>\n",
       "      <th>summary</th>\n",
       "      <th>thumbnail_url</th>\n",
       "      <th>transit</th>\n",
       "      <th>weekly_price_USD</th>\n",
       "      <th>xl_picture_url</th>\n",
       "      <th>zipcode</th>\n",
       "      <th>city_name</th>\n",
       "    </tr>\n",
       "  </thead>\n",
       "  <tbody>\n",
       "    <tr>\n",
       "      <th>0</th>\n",
       "      <td>NaN</td>\n",
       "      <td>2.0</td>\n",
       "      <td>{Internet,\"Wireless Internet\",\"Air Conditionin...</td>\n",
       "      <td>30.0</td>\n",
       "      <td>365</td>\n",
       "      <td>60</td>\n",
       "      <td>90.0</td>\n",
       "      <td>1</td>\n",
       "      <td>Real Bed</td>\n",
       "      <td>1</td>\n",
       "      <td>...</td>\n",
       "      <td>NaN</td>\n",
       "      <td>CA</td>\n",
       "      <td>South 2nd Avenue, Arcadia, CA 91006, United St...</td>\n",
       "      <td>我們j位於Arcadia市中心,非常适合专业商務人士，学生，渡假遊學...鄰近高速公路,餐厅...</td>\n",
       "      <td>https://a0.muscache.com/ac/pictures/52102815/8...</td>\n",
       "      <td>聚集高尔夫球场，网球场，大型购物中心，影院，图书馆，大型街心公园，跑马场，医院，诊所。非常便...</td>\n",
       "      <td>650.0</td>\n",
       "      <td>https://a0.muscache.com/ac/pictures/52102815/8...</td>\n",
       "      <td>91006.0</td>\n",
       "      <td>los-angeles</td>\n",
       "    </tr>\n",
       "    <tr>\n",
       "      <th>1</th>\n",
       "      <td>NaN</td>\n",
       "      <td>1.0</td>\n",
       "      <td>{TV,\"Cable TV\",Internet,\"Wireless Internet\",\"A...</td>\n",
       "      <td>30.0</td>\n",
       "      <td>365</td>\n",
       "      <td>60</td>\n",
       "      <td>90.0</td>\n",
       "      <td>1</td>\n",
       "      <td>Real Bed</td>\n",
       "      <td>1</td>\n",
       "      <td>...</td>\n",
       "      <td>NaN</td>\n",
       "      <td>CA</td>\n",
       "      <td>North Sycamore Avenue, Los Angeles, CA 90036, ...</td>\n",
       "      <td>Small but real clean apartment in Hancock Park...</td>\n",
       "      <td>https://a2.muscache.com/ac/pictures/23837943/9...</td>\n",
       "      <td>NaN</td>\n",
       "      <td>500.0</td>\n",
       "      <td>https://a2.muscache.com/ac/pictures/23837943/9...</td>\n",
       "      <td>90036.0</td>\n",
       "      <td>los-angeles</td>\n",
       "    </tr>\n",
       "    <tr>\n",
       "      <th>2</th>\n",
       "      <td>NaN</td>\n",
       "      <td>6.0</td>\n",
       "      <td>{TV,\"Cable TV\",Internet,\"Wireless Internet\",\"A...</td>\n",
       "      <td>0.0</td>\n",
       "      <td>24</td>\n",
       "      <td>0</td>\n",
       "      <td>0.0</td>\n",
       "      <td>3</td>\n",
       "      <td>Real Bed</td>\n",
       "      <td>3</td>\n",
       "      <td>...</td>\n",
       "      <td>NaN</td>\n",
       "      <td>CA</td>\n",
       "      <td>Foothill Drive, Los Angeles, CA 90068, United ...</td>\n",
       "      <td>Originally built in 1922, this Italian-style v...</td>\n",
       "      <td>https://a1.muscache.com/ac/pictures/85102851/4...</td>\n",
       "      <td>NaN</td>\n",
       "      <td>NaN</td>\n",
       "      <td>https://a1.muscache.com/ac/pictures/85102851/4...</td>\n",
       "      <td>90068.0</td>\n",
       "      <td>los-angeles</td>\n",
       "    </tr>\n",
       "    <tr>\n",
       "      <th>3</th>\n",
       "      <td>NaN</td>\n",
       "      <td>1.0</td>\n",
       "      <td>{TV,\"Cable TV\",Internet,\"Wireless Internet\",\"A...</td>\n",
       "      <td>15.0</td>\n",
       "      <td>344</td>\n",
       "      <td>39</td>\n",
       "      <td>69.0</td>\n",
       "      <td>1</td>\n",
       "      <td>Couch</td>\n",
       "      <td>1</td>\n",
       "      <td>...</td>\n",
       "      <td>NaN</td>\n",
       "      <td>CA</td>\n",
       "      <td>Club Dr, Los Angeles, CA 90064, United States</td>\n",
       "      <td>Extra comfy beanbag that can easily fit two.</td>\n",
       "      <td>https://a0.muscache.com/ac/pictures/74769434/8...</td>\n",
       "      <td>#12 Bus is 100 yards from the apartment and ru...</td>\n",
       "      <td>NaN</td>\n",
       "      <td>https://a0.muscache.com/ac/pictures/74769434/8...</td>\n",
       "      <td>90064.0</td>\n",
       "      <td>los-angeles</td>\n",
       "    </tr>\n",
       "    <tr>\n",
       "      <th>4</th>\n",
       "      <td>NaN</td>\n",
       "      <td>2.0</td>\n",
       "      <td>{\"Cable TV\",Internet,\"Wireless Internet\",Kitch...</td>\n",
       "      <td>18.0</td>\n",
       "      <td>261</td>\n",
       "      <td>32</td>\n",
       "      <td>62.0</td>\n",
       "      <td>1</td>\n",
       "      <td>Real Bed</td>\n",
       "      <td>1</td>\n",
       "      <td>...</td>\n",
       "      <td>175.0</td>\n",
       "      <td>CA</td>\n",
       "      <td>Martelo Ave, Pasadena, CA 91107, United States</td>\n",
       "      <td>NaN</td>\n",
       "      <td>https://a2.muscache.com/ac/pictures/7556540/fe...</td>\n",
       "      <td>NaN</td>\n",
       "      <td>350.0</td>\n",
       "      <td>https://a2.muscache.com/ac/pictures/7556540/fe...</td>\n",
       "      <td>91107.0</td>\n",
       "      <td>los-angeles</td>\n",
       "    </tr>\n",
       "  </tbody>\n",
       "</table>\n",
       "<p>5 rows × 98 columns</p>\n",
       "</div>"
      ],
      "text/plain": [
       "  access  accommodates                                          amenities  \\\n",
       "0    NaN           2.0  {Internet,\"Wireless Internet\",\"Air Conditionin...   \n",
       "1    NaN           1.0  {TV,\"Cable TV\",Internet,\"Wireless Internet\",\"A...   \n",
       "2    NaN           6.0  {TV,\"Cable TV\",Internet,\"Wireless Internet\",\"A...   \n",
       "3    NaN           1.0  {TV,\"Cable TV\",Internet,\"Wireless Internet\",\"A...   \n",
       "4    NaN           2.0  {\"Cable TV\",Internet,\"Wireless Internet\",Kitch...   \n",
       "\n",
       "   availability_30 availability_365 availability_60  availability_90  \\\n",
       "0             30.0              365              60             90.0   \n",
       "1             30.0              365              60             90.0   \n",
       "2              0.0               24               0              0.0   \n",
       "3             15.0              344              39             69.0   \n",
       "4             18.0              261              32             62.0   \n",
       "\n",
       "  bathrooms  bed_type bedrooms     ...      square_feet  state  \\\n",
       "0         1  Real Bed        1     ...              NaN     CA   \n",
       "1         1  Real Bed        1     ...              NaN     CA   \n",
       "2         3  Real Bed        3     ...              NaN     CA   \n",
       "3         1     Couch        1     ...              NaN     CA   \n",
       "4         1  Real Bed        1     ...            175.0     CA   \n",
       "\n",
       "                                              street  \\\n",
       "0  South 2nd Avenue, Arcadia, CA 91006, United St...   \n",
       "1  North Sycamore Avenue, Los Angeles, CA 90036, ...   \n",
       "2  Foothill Drive, Los Angeles, CA 90068, United ...   \n",
       "3      Club Dr, Los Angeles, CA 90064, United States   \n",
       "4     Martelo Ave, Pasadena, CA 91107, United States   \n",
       "\n",
       "                                             summary  \\\n",
       "0  我們j位於Arcadia市中心,非常适合专业商務人士，学生，渡假遊學...鄰近高速公路,餐厅...   \n",
       "1  Small but real clean apartment in Hancock Park...   \n",
       "2  Originally built in 1922, this Italian-style v...   \n",
       "3      Extra comfy beanbag that can easily fit two.    \n",
       "4                                                NaN   \n",
       "\n",
       "                                       thumbnail_url  \\\n",
       "0  https://a0.muscache.com/ac/pictures/52102815/8...   \n",
       "1  https://a2.muscache.com/ac/pictures/23837943/9...   \n",
       "2  https://a1.muscache.com/ac/pictures/85102851/4...   \n",
       "3  https://a0.muscache.com/ac/pictures/74769434/8...   \n",
       "4  https://a2.muscache.com/ac/pictures/7556540/fe...   \n",
       "\n",
       "                                             transit weekly_price_USD  \\\n",
       "0  聚集高尔夫球场，网球场，大型购物中心，影院，图书馆，大型街心公园，跑马场，医院，诊所。非常便...            650.0   \n",
       "1                                                NaN            500.0   \n",
       "2                                                NaN              NaN   \n",
       "3  #12 Bus is 100 yards from the apartment and ru...              NaN   \n",
       "4                                                NaN            350.0   \n",
       "\n",
       "                                      xl_picture_url  zipcode    city_name  \n",
       "0  https://a0.muscache.com/ac/pictures/52102815/8...  91006.0  los-angeles  \n",
       "1  https://a2.muscache.com/ac/pictures/23837943/9...  90036.0  los-angeles  \n",
       "2  https://a1.muscache.com/ac/pictures/85102851/4...  90068.0  los-angeles  \n",
       "3  https://a0.muscache.com/ac/pictures/74769434/8...  90064.0  los-angeles  \n",
       "4  https://a2.muscache.com/ac/pictures/7556540/fe...  91107.0  los-angeles  \n",
       "\n",
       "[5 rows x 98 columns]"
      ]
     },
     "execution_count": 4,
     "metadata": {},
     "output_type": "execute_result"
    }
   ],
   "source": [
    "listings.head()"
   ]
  },
  {
   "cell_type": "markdown",
   "metadata": {},
   "source": [
    "### Data Cleaning: Listings"
   ]
  },
  {
   "cell_type": "markdown",
   "metadata": {},
   "source": [
    "Checking the number of entries and size of the dataframe:"
   ]
  },
  {
   "cell_type": "code",
   "execution_count": 5,
   "metadata": {},
   "outputs": [
    {
     "name": "stdout",
     "output_type": "stream",
     "text": [
      "<class 'pandas.core.frame.DataFrame'>\n",
      "RangeIndex: 620453 entries, 0 to 620452\n",
      "Data columns (total 98 columns):\n",
      "access                              322669 non-null object\n",
      "accommodates                        620419 non-null float64\n",
      "amenities                           605932 non-null object\n",
      "availability_30                     620439 non-null float64\n",
      "availability_365                    620437 non-null object\n",
      "availability_60                     620439 non-null object\n",
      "availability_90                     620437 non-null float64\n",
      "bathrooms                           618643 non-null object\n",
      "bed_type                            620453 non-null object\n",
      "bedrooms                            619830 non-null object\n",
      "beds                                619471 non-null object\n",
      "calculated_host_listings_count      620443 non-null float64\n",
      "calendar_last_scraped               620443 non-null object\n",
      "calendar_updated                    620453 non-null object\n",
      "cancellation_policy                 605932 non-null object\n",
      "city                                620291 non-null object\n",
      "cleaning_fee_USD                    490689 non-null object\n",
      "country                             620447 non-null object\n",
      "country_code                        605914 non-null object\n",
      "date_recorded                       620453 non-null object\n",
      "description                         616602 non-null object\n",
      "experiences_offered                 605930 non-null object\n",
      "extra_people_USD                    620451 non-null object\n",
      "first_review                        482573 non-null object\n",
      "guests_included                     620438 non-null object\n",
      "has_availability                    448695 non-null object\n",
      "host_about                          411821 non-null object\n",
      "host_acceptance_rate_percentage     131162 non-null float64\n",
      "host_has_profile_pic                605864 non-null object\n",
      "host_id                             620417 non-null object\n",
      "host_identity_verified              605900 non-null object\n",
      "host_is_superhost                   620417 non-null object\n",
      "host_listings_count                 605642 non-null float64\n",
      "host_location                       618143 non-null object\n",
      "host_name                           620159 non-null object\n",
      "host_neighbourhood                  500994 non-null object\n",
      "host_picture_url                    620159 non-null object\n",
      "host_response_rate_percentage       493254 non-null object\n",
      "host_response_time                  493263 non-null object\n",
      "host_since                          620159 non-null object\n",
      "host_thumbnail_url                  605606 non-null object\n",
      "host_total_listings_count           605629 non-null object\n",
      "host_url                            620417 non-null object\n",
      "host_verifications                  605900 non-null object\n",
      "house_rules                         356858 non-null object\n",
      "id                                  620417 non-null object\n",
      "instant_bookable                    605898 non-null object\n",
      "interaction                         310295 non-null object\n",
      "is_business_travel_ready            376317 non-null object\n",
      "is_location_exact                   620411 non-null object\n",
      "jurisdiction_names                  347133 non-null object\n",
      "last_review                         482657 non-null object\n",
      "last_scraped                        620411 non-null object\n",
      "latitude                            620402 non-null float64\n",
      "license                             5434 non-null object\n",
      "listing_url                         620402 non-null object\n",
      "longitude                           620411 non-null float64\n",
      "market                              615193 non-null object\n",
      "maximum_nights                      620417 non-null float64\n",
      "medium_url                          180557 non-null object\n",
      "minimum_nights                      620415 non-null object\n",
      "monthly_price_USD                   8784 non-null object\n",
      "name                                620305 non-null object\n",
      "neighborhood_overview               378577 non-null object\n",
      "neighbourhood                       542506 non-null object\n",
      "neighbourhood_cleansed              620417 non-null object\n",
      "neighbourhood_group_cleansed        0 non-null float64\n",
      "notes                               292875 non-null object\n",
      "number_of_reviews                   620382 non-null float64\n",
      "picture_url                         620381 non-null object\n",
      "price_USD                           608026 non-null float64\n",
      "property_type                       620378 non-null object\n",
      "require_guest_phone_verification    605864 non-null object\n",
      "require_guest_profile_picture       605864 non-null object\n",
      "requires_license                    620381 non-null object\n",
      "review_scores_accuracy              473264 non-null float64\n",
      "review_scores_checkin               472785 non-null float64\n",
      "review_scores_cleanliness           473365 non-null float64\n",
      "review_scores_communication         473396 non-null float64\n",
      "review_scores_location              472762 non-null float64\n",
      "review_scores_rating                474123 non-null float64\n",
      "review_scores_value                 472640 non-null float64\n",
      "reviews_per_month                   482507 non-null float64\n",
      "room_type                           620381 non-null object\n",
      "scrape_id                           620381 non-null float64\n",
      "security_deposit_USD                353023 non-null float64\n",
      "smart_location                      590139 non-null object\n",
      "space                               454218 non-null object\n",
      "square_feet                         8149 non-null float64\n",
      "state                               620347 non-null object\n",
      "street                              620381 non-null object\n",
      "summary                             599208 non-null object\n",
      "thumbnail_url                       180537 non-null object\n",
      "transit                             363860 non-null object\n",
      "weekly_price_USD                    109704 non-null float64\n",
      "xl_picture_url                      180537 non-null object\n",
      "zipcode                             613528 non-null float64\n",
      "city_name                           620453 non-null object\n",
      "dtypes: float64(25), object(73)\n",
      "memory usage: 4.5 GB\n"
     ]
    }
   ],
   "source": [
    "listings.info(memory_usage='deep')"
   ]
  },
  {
   "cell_type": "markdown",
   "metadata": {},
   "source": [
    "**Column: Review Scores Rating**\n",
    "\n",
    "Summary statistics of the reviews scores, the value that we are going to try to predict:"
   ]
  },
  {
   "cell_type": "code",
   "execution_count": 6,
   "metadata": {},
   "outputs": [
    {
     "data": {
      "text/plain": [
       "count    474123.000000\n",
       "mean         94.242865\n",
       "std           8.335447\n",
       "min          20.000000\n",
       "25%          92.000000\n",
       "50%          97.000000\n",
       "75%         100.000000\n",
       "max         100.000000\n",
       "Name: review_scores_rating, dtype: float64"
      ]
     },
     "execution_count": 6,
     "metadata": {},
     "output_type": "execute_result"
    }
   ],
   "source": [
    "listings.review_scores_rating.describe()"
   ]
  },
  {
   "cell_type": "markdown",
   "metadata": {},
   "source": [
    "Calculate the amount of missing values for this column:"
   ]
  },
  {
   "cell_type": "code",
   "execution_count": 27,
   "metadata": {},
   "outputs": [
    {
     "name": "stdout",
     "output_type": "stream",
     "text": [
      "Percentage missing: 23.584381089300884\n"
     ]
    }
   ],
   "source": [
    "num_missing = listings.review_scores_rating.isna().sum()\n",
    "len_col = len(listings.review_scores_rating)\n",
    "# calculate percentage of missing data\n",
    "percent_missing = (num_missing/len_col)*100\n",
    "\n",
    "print('Percentage missing:', percent_missing)"
   ]
  },
  {
   "cell_type": "markdown",
   "metadata": {},
   "source": [
    "Plot a histogram of review scores data:"
   ]
  },
  {
   "cell_type": "code",
   "execution_count": 7,
   "metadata": {},
   "outputs": [
    {
     "data": {
      "text/plain": [
       "<matplotlib.axes._subplots.AxesSubplot at 0x119bee5f8>"
      ]
     },
     "execution_count": 7,
     "metadata": {},
     "output_type": "execute_result"
    },
    {
     "data": {
      "image/png": "[encoded data removed]",
      "text/plain": [
       "<Figure size 432x288 with 1 Axes>"
      ]
     },
     "metadata": {
      "needs_background": "light"
     },
     "output_type": "display_data"
    }
   ],
   "source": [
    "listings.review_scores_rating.plot('hist')"
   ]
  },
  {
   "cell_type": "markdown",
   "metadata": {},
   "source": [
    "From the summary statistics and histogram, it's already evident that the review score data range from 20 to 100, with a mean of 94 and is clearly left skewed, with the majority of listings reviews being in the 90-range."
   ]
  },
  {
   "cell_type": "markdown",
   "metadata": {},
   "source": [
    "Plot boxplots of review scores per city:"
   ]
  },
  {
   "cell_type": "code",
   "execution_count": 8,
   "metadata": {},
   "outputs": [
    {
     "data": {
      "text/plain": [
       "<matplotlib.axes._subplots.AxesSubplot at 0x119aa9eb8>"
      ]
     },
     "execution_count": 8,
     "metadata": {},
     "output_type": "execute_result"
    },
    {
     "data": {
      "image/png": "[encoded data removed]",
      "text/plain": [
       "<Figure size 432x288 with 1 Axes>"
      ]
     },
     "metadata": {
      "needs_background": "light"
     },
     "output_type": "display_data"
    }
   ],
   "source": [
    "listings.boxplot(column='review_scores_rating', by='city_name')"
   ]
  },
  {
   "cell_type": "markdown",
   "metadata": {},
   "source": [
    "The boxplot shows that the data is very right skewed, and that there are several outliers. These outliers are probably the very few Airbnb listings that receive poor ratings scores."
   ]
  },
  {
   "cell_type": "markdown",
   "metadata": {},
   "source": [
    "**Column: Price**\n",
    "\n",
    "Changing the price column from object to a numeric type - this is another option for an attribute  we can predict: "
   ]
  },
  {
   "cell_type": "code",
   "execution_count": 9,
   "metadata": {},
   "outputs": [],
   "source": [
    "listings['price_USD'] = pd.to_numeric(listings['price_USD'], errors='coerce')"
   ]
  },
  {
   "cell_type": "markdown",
   "metadata": {},
   "source": [
    "Summary statistics for price data:"
   ]
  },
  {
   "cell_type": "code",
   "execution_count": 10,
   "metadata": {},
   "outputs": [
    {
     "data": {
      "text/plain": [
       "count    608026.000000\n",
       "mean        151.470664\n",
       "std         705.170875\n",
       "min           0.000000\n",
       "25%          70.000000\n",
       "50%         100.000000\n",
       "75%         171.000000\n",
       "max       90403.000000\n",
       "Name: price_USD, dtype: float64"
      ]
     },
     "execution_count": 10,
     "metadata": {},
     "output_type": "execute_result"
    }
   ],
   "source": [
    "listings.price_USD.describe()"
   ]
  },
  {
   "cell_type": "markdown",
   "metadata": {},
   "source": [
    "Calculate the amount of missing values for this column:"
   ]
  },
  {
   "cell_type": "code",
   "execution_count": 28,
   "metadata": {},
   "outputs": [
    {
     "name": "stdout",
     "output_type": "stream",
     "text": [
      "Percentage missing: 2.0028914357735395\n"
     ]
    }
   ],
   "source": [
    "num_missing = listings.price_USD.isna().sum()\n",
    "len_col = len(listings.price_USD)\n",
    "# calculate percentage of missing data\n",
    "percent_missing = (num_missing/len_col)*100\n",
    "\n",
    "print('Percentage missing:', percent_missing)"
   ]
  },
  {
   "cell_type": "markdown",
   "metadata": {},
   "source": [
    "Since only 2% of price data is missing (versus almost 23% for ratings data), it might be a better idea to try to predict the price metric, and to remove rows in the dataframe that do not have price data."
   ]
  },
  {
   "cell_type": "markdown",
   "metadata": {},
   "source": [
    "Plot a histogram of price data:"
   ]
  },
  {
   "cell_type": "code",
   "execution_count": 11,
   "metadata": {},
   "outputs": [
    {
     "data": {
      "text/plain": [
       "<matplotlib.axes._subplots.AxesSubplot at 0x119aa4470>"
      ]
     },
     "execution_count": 11,
     "metadata": {},
     "output_type": "execute_result"
    },
    {
     "data": {
      "image/png": "[encoded data removed]",
      "text/plain": [
       "<Figure size 432x288 with 1 Axes>"
      ]
     },
     "metadata": {
      "needs_background": "light"
     },
     "output_type": "display_data"
    }
   ],
   "source": [
    "listings.price_USD.plot('hist', bins=100)"
   ]
  },
  {
   "cell_type": "markdown",
   "metadata": {},
   "source": [
    "The summary statistics and histogram show that the price data range from 0 to 90,403 dollars, with a mean of about 151 dollars and is clearly right skewed, with the majority of listings reviews being in the low hundreds."
   ]
  },
  {
   "cell_type": "markdown",
   "metadata": {},
   "source": [
    "Plot boxplots of price per city:"
   ]
  },
  {
   "cell_type": "code",
   "execution_count": 12,
   "metadata": {},
   "outputs": [
    {
     "data": {
      "text/plain": [
       "<matplotlib.axes._subplots.AxesSubplot at 0x11a5ffb00>"
      ]
     },
     "execution_count": 12,
     "metadata": {},
     "output_type": "execute_result"
    },
    {
     "data": {
      "image/png": "[encoded data removed]",
      "text/plain": [
       "<Figure size 432x288 with 1 Axes>"
      ]
     },
     "metadata": {
      "needs_background": "light"
     },
     "output_type": "display_data"
    }
   ],
   "source": [
    "listings.boxplot(column='price_USD')"
   ]
  },
  {
   "cell_type": "markdown",
   "metadata": {},
   "source": [
    "The boxplot shows that the data is extremely right skewed, and that there are several outliers. These outliers are probably the very few Airbnb listings that are likely very upscale and have expensive prices."
   ]
  },
  {
   "cell_type": "markdown",
   "metadata": {},
   "source": [
    "#### Tidying Data:\n",
    "Process 'amenities' columns, which is presently a string containing a list of amenities at that listing. I want to turn each amenity into a separate column of boolean type.  "
   ]
  },
  {
   "cell_type": "code",
   "execution_count": 13,
   "metadata": {},
   "outputs": [],
   "source": [
    "listings['amenities'] = listings.amenities.str.replace('{','').str.replace('}','').str.replace('\"','')"
   ]
  },
  {
   "cell_type": "code",
   "execution_count": 14,
   "metadata": {},
   "outputs": [
    {
     "data": {
      "text/plain": [
       "NaN                                                                                                                                                                                                                                                                                                                                                                                                                                                                                                                                                                                                     14521\n",
       "                                                                                                                                                                                                                                                                                                                                                                                                                                                                                                                                                                                                         6243\n",
       "translation missing: en.hosting_amenity_49,translation missing: en.hosting_amenity_50                                                                                                                                                                                                                                                                                                                                                                                                                                                                                                                     602\n",
       "Family/kid friendly                                                                                                                                                                                                                                                                                                                                                                                                                                                                                                                                                                                       330\n",
       "TV,Wifi,Kitchen,Smoke detector,Carbon monoxide detector,Fire extinguisher,Essentials,Shampoo,Hangers,Hair dryer,Iron,Private entrance,Hot water,Body soap,Bed linens,Microwave,Coffee maker,Refrigerator,Dishes and silverware,Cooking basics,Stove                                                                                                                                                                                                                                                                                                                                                       199\n",
       "Internet,Wifi,Air conditioning,Kitchen,Free parking on premises,Breakfast,Free street parking,Heating,Washer,Dryer,Smoke detector,First aid kit,Fire extinguisher,Essentials,Shampoo,Hangers,Hair dryer,Laptop friendly workspace,Hot water,Host greets you                                                                                                                                                                                                                                                                                                                                               170\n",
       "TV,Wifi,Air conditioning,Pool,Kitchen,Heating,Essentials,Shampoo,Hangers                                                                                                                                                                                                                                                                                                                                                                                                                                                                                                                                  140\n",
       "TV,Wifi,Air conditioning,Kitchen,Free parking on premises,Heating,Smoke detector,Carbon monoxide detector,Essentials,Shampoo,Hangers,Laptop friendly workspace,Self check-in,Keypad                                                                                                                                                                                                                                                                                                                                                                                                                       140\n",
       "TV,Cable TV,Wifi,Air conditioning,Pool,Kitchen,Free parking on premises,Hot tub,Indoor fireplace,Heating,Family/kid friendly,Washer,Dryer,Smoke detector,Carbon monoxide detector,Essentials,Shampoo,Hangers,Laptop friendly workspace,Babysitter recommendations,Hot water,Bed linens,Microwave,Coffee maker,Refrigerator,Dishwasher,Dishes and silverware,Cooking basics,Oven,Stove,BBQ grill,Patio or balcony,Garden or backyard,Long term stays allowed                                                                                                                                               140\n",
       "TV,Cable TV,Internet,Wireless Internet,Air Conditioning,Kitchen,Free Parking on Premises,Heating,Family/Kid Friendly,Washer,Dryer,Smoke Detector,Carbon Monoxide Detector,First Aid Kit,Safety Card,Fire Extinguisher,Essentials,Shampoo,24-Hour Check-in,Hangers,Hair Dryer,Iron,Laptop Friendly Workspace                                                                                                                                                                                                                                                                                               119\n",
       "Pets allowed,Family/kid friendly                                                                                                                                                                                                                                                                                                                                                                                                                                                                                                                                                                          114\n",
       "TV,Wifi,Kitchen,Washer,Smoke detector,Carbon monoxide detector,Fire extinguisher,Essentials,Shampoo,Hangers,Hair dryer,Iron,Private entrance,Hot water,Body soap,Bed linens,Microwave,Coffee maker,Refrigerator,Dishes and silverware,Cooking basics,Stove                                                                                                                                                                                                                                                                                                                                                112\n",
       "TV,Cable TV,Internet,Wireless Internet,Air Conditioning,Kitchen,Free Parking on Premises,Heating,Family/Kid Friendly,Washer,Dryer,Smoke Detector,Carbon Monoxide Detector,Essentials,Shampoo                                                                                                                                                                                                                                                                                                                                                                                                              102\n",
       "Wifi,Air conditioning,Kitchen,Free parking on premises,Heating,Washer,Dryer,Smoke detector,Carbon monoxide detector,Fire extinguisher,Essentials,Shampoo,Hangers,Hair dryer,Hot water,Bed linens,Microwave,Coffee maker,Refrigerator,Dishes and silverware,Cooking basics,Oven,Stove,Patio or balcony,Garden or backyard,Luggage dropoff allowed,Long term stays allowed                                                                                                                                                                                                                                  102\n",
       "TV,Cable TV,Internet,Wifi,Air conditioning,Kitchen,Heating,Smoke detector,Carbon monoxide detector,First aid kit,Safety card,Fire extinguisher,Essentials,Shampoo,Lock on bedroom door,Hangers,Hair dryer,Iron,Laptop friendly workspace,translation missing: en.hosting_amenity_49,translation missing: en.hosting_amenity_50,Hot water,Host greets you                                                                                                                                                                                                                                                  100\n",
       "TV,Wifi,Air conditioning,Kitchen,Paid parking off premises,Free street parking,Heating,Smoke detector,Carbon monoxide detector,First aid kit,Safety card,Fire extinguisher,Essentials,Shampoo,Hangers,Hair dryer,Iron,Laptop friendly workspace,translation missing: en.hosting_amenity_49,translation missing: en.hosting_amenity_50,Self check-in,Keypad,Hot water,Paid parking on premises                                                                                                                                                                                                              99\n",
       "TV,Internet,Wireless Internet,Air Conditioning,Kitchen,Free Parking on Premises,Heating,Washer,Dryer,Smoke Detector,Carbon Monoxide Detector,Essentials,Shampoo                                                                                                                                                                                                                                                                                                                                                                                                                                            99\n",
       "TV,Cable TV,Internet,Wifi,Kitchen,Breakfast,Indoor fireplace,Buzzer/wireless intercom,Washer,Dryer,Essentials,24-hour check-in,Hair dryer,Iron                                                                                                                                                                                                                                                                                                                                                                                                                                                             99\n",
       "TV,Cable TV,Internet,Wireless Internet,Air Conditioning,Kitchen,Free Parking on Premises,Heating,Family/Kid Friendly,Washer,Dryer,Smoke Detector,Carbon Monoxide Detector,First Aid Kit,Safety Card,Fire Extinguisher,Essentials,Shampoo                                                                                                                                                                                                                                                                                                                                                                   98\n",
       "Wifi,Air conditioning,Kitchen,Heating,Washer,Dryer,Essentials,Hangers,Laptop friendly workspace,translation missing: en.hosting_amenity_49,translation missing: en.hosting_amenity_50                                                                                                                                                                                                                                                                                                                                                                                                                      95\n",
       "TV,Cable TV,Internet,Wireless Internet,Air Conditioning,Kitchen,Free Parking on Premises,Heating,Family/Kid Friendly,Washer,Dryer,Smoke Detector,Carbon Monoxide Detector,Essentials,Shampoo,24-Hour Check-in,Hangers,Hair Dryer,Iron,Laptop Friendly Workspace                                                                                                                                                                                                                                                                                                                                            93\n",
       "TV,Internet,Wireless Internet,Air Conditioning,Kitchen,Free Parking on Premises,Heating,Family/Kid Friendly,Washer,Dryer,Smoke Detector,Carbon Monoxide Detector,Essentials,Shampoo                                                                                                                                                                                                                                                                                                                                                                                                                        91\n",
       "TV,Cable TV,Internet,Wireless Internet,Air Conditioning,Kitchen,Free Parking on Premises,Heating,Washer,Dryer                                                                                                                                                                                                                                                                                                                                                                                                                                                                                              89\n",
       "TV,Cable TV,Internet,Wifi,Air conditioning,Pool,Kitchen,Gym,Elevator,Heating,Family/kid friendly,Washer,Dryer,Smoke detector,Carbon monoxide detector,First aid kit,Fire extinguisher,Essentials,Shampoo,Hangers,Hair dryer,Iron,Laptop friendly workspace,Private living room                                                                                                                                                                                                                                                                                                                             88\n",
       "Wireless Internet,Kitchen,Free Parking on Premises,Heating,Washer,Dryer                                                                                                                                                                                                                                                                                                                                                                                                                                                                                                                                    87\n",
       "TV,Cable TV,Internet,Wireless Internet,Air Conditioning,Kitchen,Free Parking on Premises,Heating,Family/Kid Friendly,Washer,Dryer,Smoke Detector,Carbon Monoxide Detector,First Aid Kit,Fire Extinguisher,Essentials,Shampoo                                                                                                                                                                                                                                                                                                                                                                               87\n",
       "TV,Wifi,Air conditioning,Kitchen,Heating,Smoke detector,Carbon monoxide detector,Fire extinguisher,Essentials,Shampoo,Lock on bedroom door,Hangers,Hair dryer,Iron,Laptop friendly workspace                                                                                                                                                                                                                                                                                                                                                                                                               86\n",
       "Family/kid friendly,translation missing: en.hosting_amenity_50                                                                                                                                                                                                                                                                                                                                                                                                                                                                                                                                             84\n",
       "TV,Cable TV,Internet,Wireless Internet,Air Conditioning,Wheelchair Accessible,Pool,Kitchen,Free Parking on Premises,Doorman,Gym,Elevator in Building,Hot Tub,Buzzer/Wireless Intercom,Heating,Family/Kid Friendly,Washer,Dryer,Smoke Detector,Carbon Monoxide Detector,First Aid Kit,Safety Card,Fire Extinguisher,Essentials,Shampoo,24-Hour Check-in,Hangers,Hair Dryer,Iron,Laptop Friendly Workspace                                                                                                                                                                                                   83\n",
       "TV,Cable TV,Wifi,Pool,Kitchen,Free parking on premises,Gym,Pets live on this property,Elevator,Indoor fireplace,Heating,Washer,Dryer,Smoke detector,Carbon monoxide detector,Fire extinguisher,Essentials,Hangers,Hair dryer,Iron,Laptop friendly workspace,Self check-in,Lockbox,Private entrance,Bathtub,Hot water,Bed linens,Ethernet connection,Microwave,Coffee maker,Refrigerator,Dishwasher,Dishes and silverware,Oven,Stove,Patio or balcony,Long term stays allowed,Beachfront                                                                                                                    83\n",
       "                                                                                                                                                                                                                                                                                                                                                                                                                                                                                                                                                                                                        ...  \n",
       "TV,Internet,Wireless Internet,Air Conditioning,Kitchen,Free Parking on Premises,Indoor Fireplace,Buzzer/Wireless Intercom,Heating,Washer,Dryer,Smoke Detector,Carbon Monoxide Detector,First Aid Kit,Essentials,Shampoo,Hangers,Hair Dryer,Iron,Laptop Friendly Workspace                                                                                                                                                                                                                                                                                                                                   1\n",
       "TV,Cable TV,Wifi,Kitchen,Free street parking,Indoor fireplace,Washer,Dryer,Smoke detector,Carbon monoxide detector,First aid kit,Fire extinguisher,Essentials,Shampoo,Hangers,Hair dryer,Iron,Laptop friendly workspace,translation missing: en.hosting_amenity_49,translation missing: en.hosting_amenity_50,Hot water,Microwave,Coffee maker,Refrigerator,Dishes and silverware,Stove,Patio or balcony,Long term stays allowed,Other                                                                                                                                                                      1\n",
       "TV,Cable TV,Internet,Wireless Internet,Air Conditioning,Wheelchair Accessible,Pool,Kitchen,Free Parking on Premises,Gym,Elevator in Building,Heating,Family/Kid Friendly,Washer,Dryer,Smoke Detector,Carbon Monoxide Detector,Fire Extinguisher,Essentials,Shampoo,24-Hour Check-in,Hangers,Hair Dryer,Iron,Laptop Friendly Workspace                                                                                                                                                                                                                                                                       1\n",
       "Internet,Wireless Internet,Kitchen,Free Parking on Premises,Indoor Fireplace,Heating,Family/Kid Friendly,Washer,Dryer,Smoke Detector,Fire Extinguisher,Essentials,24-Hour Check-in,Hair Dryer,Laptop Friendly Workspace                                                                                                                                                                                                                                                                                                                                                                                     1\n",
       "Wireless Internet,Pool,Kitchen,Free Parking on Premises,Smoking Allowed,Gym,Family/Kid Friendly,Washer,Dryer,Smoke Detector,Carbon Monoxide Detector,First Aid Kit,Safety Card,Fire Extinguisher,Lock on Bedroom Door,Laptop Friendly Workspace                                                                                                                                                                                                                                                                                                                                                             1\n",
       "TV,Wifi,Air conditioning,Kitchen,Free street parking,Heating,Family/kid friendly,Washer,Dryer,Smoke detector,Carbon monoxide detector,First aid kit,Fire extinguisher,Essentials,Shampoo,Lock on bedroom door,Hangers,Hair dryer,Iron,Laptop friendly workspace,translation missing: en.hosting_amenity_50,Self check-in,Lockbox,Bathtub,Room-darkening shades,Hot water,Bed linens,Ethernet connection,Microwave,Coffee maker,Refrigerator,Dishes and silverware,Cooking basics,Oven,Stove,Single level home,BBQ grill,Patio or balcony,Luggage dropoff allowed,Long term stays allowed                    1\n",
       "TV,Wifi,Air conditioning,Kitchen,Free parking on premises,Free street parking,Heating,Family/kid friendly,Washer,Dryer,Smoke detector,Carbon monoxide detector,Fire extinguisher,Essentials,Shampoo,Hangers,Hair dryer,Laptop friendly workspace,Self check-in,Lockbox,Bathtub,Changing table,High chair,Children’s books and toys,Crib,Children’s dinnerware,Hot water,Coffee maker,Refrigerator,Dishes and silverware,Cooking basics,Oven,Stove,Single level home,BBQ grill,Garden or backyard,Luggage dropoff allowed,Long term stays allowed,Step-free access,Step-free access,Step-free access         1\n",
       "TV,Internet,Wireless Internet,Air Conditioning,Kitchen,Free Parking on Premises,Pets live on this property,Heating,Washer,Dryer,Smoke Detector,Carbon Monoxide Detector,First Aid Kit                                                                                                                                                                                                                                                                                                                                                                                                                       1\n",
       "TV,Cable TV,Internet,Wifi,Kitchen,Heating,Washer,Dryer,Smoke detector,Carbon monoxide detector,Essentials,Shampoo,Hangers,Hair dryer,Iron,Laptop friendly workspace,Self check-in,Lockbox,Hot water,Long term stays allowed                                                                                                                                                                                                                                                                                                                                                                                 1\n",
       "TV,Cable TV,Wifi,Air conditioning,Pool,Kitchen,Free parking on premises,Pets allowed,Free street parking,Indoor fireplace,Heating,Family/kid friendly,Washer,Dryer,Smoke detector,Carbon monoxide detector,Fire extinguisher,Essentials,Shampoo,Hangers,Hair dryer,Iron,Laptop friendly workspace,Self check-in,Lockbox,Private entrance,High chair,Crib,Hot water,Bed linens,Extra pillows and blankets,Ethernet connection,Microwave,Coffee maker,Refrigerator,Dishwasher,Dishes and silverware,Cooking basics,Oven,Stove,Patio or balcony,Luggage dropoff allowed,Long term stays allowed                1\n",
       "TV,Wifi,Kitchen,Breakfast,Heating,Washer,Dryer,Smoke detector,Carbon monoxide detector,First aid kit,Safety card,Essentials,Shampoo,Hangers,Hair dryer,Iron,Private entrance                                                                                                                                                                                                                                                                                                                                                                                                                                1\n",
       "TV,Wifi,Pool,Kitchen,Free parking on premises,Free street parking,Hot tub,Indoor fireplace,Family/kid friendly,Suitable for events,Washer,Dryer,Smoke detector,Carbon monoxide detector,First aid kit,Fire extinguisher,Essentials,Shampoo,Lock on bedroom door,Hangers,Hair dryer,Iron,Laptop friendly workspace,Hot water,Other                                                                                                                                                                                                                                                                           1\n",
       "Internet,Wireless Internet,Air Conditioning,Kitchen,Elevator in Building,Buzzer/Wireless Intercom,Heating,Washer,Dryer,Smoke Detector,Carbon Monoxide Detector,Fire Extinguisher,Essentials,Shampoo,translation missing: en.hosting_amenity_49,translation missing: en.hosting_amenity_50                                                                                                                                                                                                                                                                                                                   1\n",
       "TV,Cable TV,Internet,Wifi,Air conditioning,Kitchen,Heating,Smoke detector,Carbon monoxide detector,First aid kit,Fire extinguisher,Essentials,Shampoo,Hangers,Hair dryer,Iron,Private entrance                                                                                                                                                                                                                                                                                                                                                                                                              1\n",
       "TV,Wifi,Air conditioning,Kitchen,Pets allowed,Gym,Breakfast,Heating,Washer,Dryer,Smoke detector,Carbon monoxide detector,First aid kit,Fire extinguisher,Essentials,Shampoo,Lock on bedroom door,Hangers,Hair dryer,Iron,Laptop friendly workspace,Hot water,Host greets you                                                                                                                                                                                                                                                                                                                                1\n",
       "Wifi,Air conditioning,Kitchen,Free parking on premises,Breakfast,Heating,Washer,Dryer,Smoke detector,Carbon monoxide detector,First aid kit,Safety card,Fire extinguisher,Essentials,Shampoo,Lock on bedroom door,Hangers,Hair dryer,Laptop friendly workspace,Private entrance,Hot water,Host greets you                                                                                                                                                                                                                                                                                                   1\n",
       "TV,Cable TV,Wifi,Air conditioning,Kitchen,Free parking on premises,Heating,Washer,Dryer,Smoke detector,Carbon monoxide detector,First aid kit,Safety card,Fire extinguisher,Essentials,Shampoo,Lock on bedroom door,Hangers,Hair dryer,Iron,Laptop friendly workspace,Private living room,Private entrance,Bathtub,Room-darkening shades,Children’s dinnerware,Hot water,Bed linens,Extra pillows and blankets,Microwave,Coffee maker,Refrigerator,Dishes and silverware,Cooking basics,Oven,Stove,Garden or backyard,Luggage dropoff allowed,Long term stays allowed,Cleaning before checkout,Other        1\n",
       "TV,Internet,Wireless Internet,Air Conditioning,Kitchen,Free Parking on Premises,Heating,Washer,Dryer,Smoke Detector,First Aid Kit,Safety Card,Fire Extinguisher,Essentials                                                                                                                                                                                                                                                                                                                                                                                                                                  1\n",
       "Internet,Wireless Internet,Air conditioning,Kitchen,Pets allowed,Breakfast,Pets live on this property,Dog(s),Heating,Family/kid friendly,Washer,Dryer,Smoke detector,Carbon monoxide detector,First aid kit,Fire extinguisher,Essentials,Shampoo,Hangers,Hair dryer,Iron,Laptop friendly workspace,Private entrance                                                                                                                                                                                                                                                                                         1\n",
       "TV,Wifi,Air conditioning,Kitchen,Free street parking,Heating,Family/kid friendly,Washer,Dryer,Smoke detector,Fire extinguisher,Essentials,Shampoo,Lock on bedroom door,Hangers,Hair dryer,Iron,Laptop friendly workspace,translation missing: en.hosting_amenity_50,Hot water,Long term stays allowed,Host greets you                                                                                                                                                                                                                                                                                       1\n",
       "TV,Cable TV,Wifi,Air conditioning,Kitchen,Free parking on premises,Heating,Smoke detector,Carbon monoxide detector,Safety card,Fire extinguisher,Essentials,Shampoo,Lock on bedroom door,Hangers,Hair dryer,Laptop friendly workspace,Self check-in,Keypad,Private living room                                                                                                                                                                                                                                                                                                                              1\n",
       "TV,Internet,Wireless Internet,Air Conditioning,Kitchen,Pets live on this property,Dog(s),Heating,Washer,Dryer,Essentials,Shampoo,Hangers,Hair Dryer,Iron,translation missing: en.hosting_amenity_49,translation missing: en.hosting_amenity_50                                                                                                                                                                                                                                                                                                                                                              1\n",
       "TV,Cable TV,Internet,Wireless Internet,Air conditioning,Kitchen,Pets live on this property,Cat(s),Heating,Washer,Dryer,Shampoo                                                                                                                                                                                                                                                                                                                                                                                                                                                                              1\n",
       "TV,Cable TV,Wifi,Kitchen,Free parking on premises,Pets live on this property,Dog(s),Free street parking,Heating,Washer,Dryer,Smoke detector,Carbon monoxide detector,Essentials,Shampoo,Bed linens,Luggage dropoff allowed                                                                                                                                                                                                                                                                                                                                                                                  1\n",
       "TV,Wireless Internet,Air conditioning,Kitchen,Free parking on premises,Pets allowed,Indoor fireplace,Heating,Family/kid friendly,Suitable for events,Washer,Dryer,Smoke detector,Carbon monoxide detector,First aid kit,Safety card,Fire extinguisher,Essentials,Shampoo,Lock on bedroom door,Hangers,Hair dryer,Iron,Private entrance                                                                                                                                                                                                                                                                      1\n",
       "TV,Wifi,Air conditioning,Kitchen,Heating,Washer,Dryer,Smoke detector,Carbon monoxide detector,Essentials,Hot water                                                                                                                                                                                                                                                                                                                                                                                                                                                                                          1\n",
       "TV,Internet,Wireless Internet,Air conditioning,Wheelchair accessible,Kitchen,Free parking on premises,Elevator in building,Buzzer/wireless intercom,Heating,Family/kid friendly,Suitable for events,Washer,Dryer,Smoke detector,Carbon monoxide detector,Safety card,Fire extinguisher,Essentials,Shampoo,24-hour check-in,Hangers,Hair dryer,Iron,Laptop friendly workspace,Self Check-In,Smartlock,Private entrance                                                                                                                                                                                       1\n",
       "TV,Cable TV,Internet,Wireless Internet,Air conditioning,Kitchen,Free parking on premises,Pets live on this property,Dog(s),Heating,Family/kid friendly,Washer,Dryer,Essentials,Shampoo,Lock on bedroom door,Hangers,Hair dryer,Iron,Laptop friendly workspace                                                                                                                                                                                                                                                                                                                                               1\n",
       "TV,Internet,Wireless Internet,Air Conditioning,Free Parking on Premises,Pets live on this property,Dog(s),Hot Tub,Heating,Smoke Detector,Carbon Monoxide Detector,First Aid Kit,Safety Card,Fire Extinguisher,Essentials,Shampoo,Lock on Bedroom Door,24-Hour Check-in,Hangers,Hair Dryer,Iron,Laptop Friendly Workspace                                                                                                                                                                                                                                                                                    1\n",
       "Cable TV,Internet,Wireless Internet,Air Conditioning,Kitchen,Indoor Fireplace,Heating,Family/Kid Friendly,Washer,Dryer,Smoke Detector,Essentials,Hangers,Hair Dryer,Iron,Laptop Friendly Workspace                                                                                                                                                                                                                                                                                                                                                                                                          1\n",
       "Name: amenities, Length: 177795, dtype: int64"
      ]
     },
     "execution_count": 14,
     "metadata": {},
     "output_type": "execute_result"
    }
   ],
   "source": [
    "listings.amenities.value_counts(dropna=False)"
   ]
  },
  {
   "cell_type": "markdown",
   "metadata": {},
   "source": [
    "### Data Cleaning: Reviews"
   ]
  },
  {
   "cell_type": "markdown",
   "metadata": {},
   "source": [
    "Checking the number of entries and size of the dataframe:"
   ]
  },
  {
   "cell_type": "code",
   "execution_count": 3,
   "metadata": {},
   "outputs": [],
   "source": [
    "# import reviews files for Los Angeles\n",
    "# add a city column\n",
    "city = 'los-angeles'\n",
    "reviews = pd.read_csv(directory + city + '_reviews.csv')\n",
    "reviews['city_name'] = city"
   ]
  },
  {
   "cell_type": "code",
   "execution_count": 4,
   "metadata": {},
   "outputs": [
    {
     "name": "stdout",
     "output_type": "stream",
     "text": [
      "<class 'pandas.core.frame.DataFrame'>\n",
      "RangeIndex: 14198249 entries, 0 to 14198248\n",
      "Data columns (total 8 columns):\n",
      "listing_id       int64\n",
      "id               int64\n",
      "date             object\n",
      "reviewer_id      int64\n",
      "reviewer_name    object\n",
      "comments         object\n",
      "date_recorded    object\n",
      "city_name        object\n",
      "dtypes: int64(3), object(5)\n",
      "memory usage: 8.8 GB\n"
     ]
    }
   ],
   "source": [
    "reviews.info(memory_usage='deep')"
   ]
  },
  {
   "cell_type": "code",
   "execution_count": 5,
   "metadata": {},
   "outputs": [
    {
     "data": {
      "text/html": [
       "<div>\n",
       "<style scoped>\n",
       "    .dataframe tbody tr th:only-of-type {\n",
       "        vertical-align: middle;\n",
       "    }\n",
       "\n",
       "    .dataframe tbody tr th {\n",
       "        vertical-align: top;\n",
       "    }\n",
       "\n",
       "    .dataframe thead th {\n",
       "        text-align: right;\n",
       "    }\n",
       "</style>\n",
       "<table border=\"1\" class=\"dataframe\">\n",
       "  <thead>\n",
       "    <tr style=\"text-align: right;\">\n",
       "      <th></th>\n",
       "      <th>listing_id</th>\n",
       "      <th>id</th>\n",
       "      <th>date</th>\n",
       "      <th>reviewer_id</th>\n",
       "      <th>reviewer_name</th>\n",
       "      <th>comments</th>\n",
       "      <th>date_recorded</th>\n",
       "      <th>city_name</th>\n",
       "    </tr>\n",
       "  </thead>\n",
       "  <tbody>\n",
       "    <tr>\n",
       "      <th>0</th>\n",
       "      <td>7680552</td>\n",
       "      <td>50209733</td>\n",
       "      <td>2015-10-10</td>\n",
       "      <td>43618076</td>\n",
       "      <td>Paul</td>\n",
       "      <td>Was a great stay! Host was very helpful.</td>\n",
       "      <td>2017-03-02</td>\n",
       "      <td>los-angeles</td>\n",
       "    </tr>\n",
       "    <tr>\n",
       "      <th>1</th>\n",
       "      <td>7680552</td>\n",
       "      <td>50521911</td>\n",
       "      <td>2015-10-12</td>\n",
       "      <td>44347928</td>\n",
       "      <td>Dwendalyz</td>\n",
       "      <td>It was a beautiful home. The kitchen view was ...</td>\n",
       "      <td>2017-03-02</td>\n",
       "      <td>los-angeles</td>\n",
       "    </tr>\n",
       "    <tr>\n",
       "      <th>2</th>\n",
       "      <td>7680552</td>\n",
       "      <td>53635576</td>\n",
       "      <td>2015-11-10</td>\n",
       "      <td>31371772</td>\n",
       "      <td>Varunn</td>\n",
       "      <td>The house is a very beautiful house with a gre...</td>\n",
       "      <td>2017-03-02</td>\n",
       "      <td>los-angeles</td>\n",
       "    </tr>\n",
       "    <tr>\n",
       "      <th>3</th>\n",
       "      <td>7680552</td>\n",
       "      <td>54673483</td>\n",
       "      <td>2015-11-22</td>\n",
       "      <td>2530719</td>\n",
       "      <td>Lina</td>\n",
       "      <td>Stunning house ! Very clean and comfortable  i...</td>\n",
       "      <td>2017-03-02</td>\n",
       "      <td>los-angeles</td>\n",
       "    </tr>\n",
       "    <tr>\n",
       "      <th>4</th>\n",
       "      <td>7680552</td>\n",
       "      <td>57881891</td>\n",
       "      <td>2015-12-30</td>\n",
       "      <td>2357565</td>\n",
       "      <td>Sage</td>\n",
       "      <td>Servando was easy to get ahold of as well as p...</td>\n",
       "      <td>2017-03-02</td>\n",
       "      <td>los-angeles</td>\n",
       "    </tr>\n",
       "  </tbody>\n",
       "</table>\n",
       "</div>"
      ],
      "text/plain": [
       "   listing_id        id        date  reviewer_id reviewer_name  \\\n",
       "0     7680552  50209733  2015-10-10     43618076          Paul   \n",
       "1     7680552  50521911  2015-10-12     44347928     Dwendalyz   \n",
       "2     7680552  53635576  2015-11-10     31371772        Varunn   \n",
       "3     7680552  54673483  2015-11-22      2530719          Lina   \n",
       "4     7680552  57881891  2015-12-30      2357565          Sage   \n",
       "\n",
       "                                            comments date_recorded  \\\n",
       "0          Was a great stay! Host was very helpful.     2017-03-02   \n",
       "1  It was a beautiful home. The kitchen view was ...    2017-03-02   \n",
       "2  The house is a very beautiful house with a gre...    2017-03-02   \n",
       "3  Stunning house ! Very clean and comfortable  i...    2017-03-02   \n",
       "4  Servando was easy to get ahold of as well as p...    2017-03-02   \n",
       "\n",
       "     city_name  \n",
       "0  los-angeles  \n",
       "1  los-angeles  \n",
       "2  los-angeles  \n",
       "3  los-angeles  \n",
       "4  los-angeles  "
      ]
     },
     "execution_count": 5,
     "metadata": {},
     "output_type": "execute_result"
    }
   ],
   "source": [
    "reviews.head()"
   ]
  },
  {
   "cell_type": "markdown",
   "metadata": {},
   "source": [
    "#### Remove non-English reviews\n",
    "Since the sentiment analysis I will do only considers the syntax of English, I will remove rows of the dataframe with non-English reviews:"
   ]
  },
  {
   "cell_type": "code",
   "execution_count": 4,
   "metadata": {},
   "outputs": [
    {
     "name": "stdout",
     "output_type": "stream",
     "text": [
      "Was a great stay! Host was very helpful. \n",
      "It was a beautiful home. The kitchen view was my favorite but I was overall pleased and so were my other friends. I appreciated the communication the host had with me. He was accommodating to my needs since I had a large party. I had a chance to meet him and he was an all around friendly person. I would definitely book here again in the future. \n",
      "The house is a very beautiful house with a great view. Steve (Servando) was very polite and courteous. I certainly recommend this place to others looking for a great house in Los Angeles. \n",
      "Stunning house ! Very clean and comfortable  in beautiful Area with amazing view. \n",
      "It was simply the perfect place and location . \n",
      "The host was more than great . If I am in the area again I will definitely book the house again.  \n",
      "Servando was easy to get ahold of as well as prompt and friendly in all communications. The place itself is lovely and spacious with an incredible view of downtown Los Angeles from the living room and the wonderful patio. Perfect for families or other groups, with very nice, separate bedrooms, lots of room to spread out and a well-equipped kitchen. Excellent rental! Hope to visit again soon!\n"
     ]
    }
   ],
   "source": [
    "for comment in reviews['comments'][0:5]:\n",
    "    print(comment)"
   ]
  },
  {
   "cell_type": "code",
   "execution_count": null,
   "metadata": {},
   "outputs": [],
   "source": [
    "lang = []\n",
    "\n",
    "for comment in reviews['comments']:\n",
    "    try:\n",
    "        lang.append(detect(comment))\n",
    "    except: #NaN\n",
    "        lang.append('')\n",
    "\n",
    "lang = pd.Series(lang)\n",
    "reviews['language'] = lang.values"
   ]
  },
  {
   "cell_type": "code",
   "execution_count": null,
   "metadata": {},
   "outputs": [],
   "source": [
    "reviews.language.head()"
   ]
  },
  {
   "cell_type": "code",
   "execution_count": null,
   "metadata": {},
   "outputs": [],
   "source": [
    "reviews.language.value_counts(dropna=False)"
   ]
  },
  {
   "cell_type": "code",
   "execution_count": 35,
   "metadata": {},
   "outputs": [],
   "source": [
    "# only keep English reviews in the dataframe\n",
    "reviews = reviews[reviews.language == 'en']"
   ]
  }
 ],
 "metadata": {
  "kernelspec": {
   "display_name": "Python 3",
   "language": "python",
   "name": "python3"
  },
  "language_info": {
   "codemirror_mode": {
    "name": "ipython",
    "version": 3
   },
   "file_extension": ".py",
   "mimetype": "text/x-python",
   "name": "python",
   "nbconvert_exporter": "python",
   "pygments_lexer": "ipython3",
   "version": "3.7.0"
  }
 },
 "nbformat": 4,
 "nbformat_minor": 2
}
