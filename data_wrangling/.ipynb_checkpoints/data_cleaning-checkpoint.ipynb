{
 "cells": [
  {
   "cell_type": "markdown",
   "metadata": {},
   "source": [
    "## Data Wrangling: Data Cleaning"
   ]
  },
  {
   "cell_type": "markdown",
   "metadata": {},
   "source": [
    "Now that the data has been sourced and consolidated into separate csv files for each city, I will further clean and  the data using pandas dataframes. I will also conduct some preliminary data exploration."
   ]
  },
  {
   "cell_type": "code",
   "execution_count": 1,
   "metadata": {},
   "outputs": [],
   "source": [
    "# import relevant packages\n",
    "import pandas as pd\n",
    "import os\n",
    "import time"
   ]
  },
  {
   "cell_type": "code",
   "execution_count": 2,
   "metadata": {},
   "outputs": [],
   "source": [
    "# establish the directory\n",
    "directory = '/Users/limesncoconuts2/springboard_data/data_capstone_one/csv/'"
   ]
  },
  {
   "cell_type": "markdown",
   "metadata": {},
   "source": [
    "### Consolidate all files into a single dataframe\n",
    "It will be easier to explore the Airbnb listings and reviews data if the data for all of the cities is consolidated into one dataframe for listings and another for reviews.\n",
    "\n",
    "In order to keep the data tidy and to preserve vital information about the data, I will add a column called 'city_name' each time a csv file is imported to preserve the information about which city the data corresponds to."
   ]
  },
  {
   "cell_type": "markdown",
   "metadata": {},
   "source": [
    "### Test code idea on one dataframe\n",
    "Using the time package, I tested importing the dataframe on the largest listings and reviews files, which are for Paris."
   ]
  },
  {
   "cell_type": "code",
   "execution_count": 3,
   "metadata": {},
   "outputs": [
    {
     "name": "stderr",
     "output_type": "stream",
     "text": [
      "/anaconda3/lib/python3.7/site-packages/IPython/core/interactiveshell.py:2785: DtypeWarning: Columns (0,2,4,5,7,9,10,11,14,16,18,21,24,25,27,28,29,30,35,40,43,44,45,46,47,48,50,54,59,60,63,67,72,73,85,86,92,93,95,96) have mixed types. Specify dtype option on import or set low_memory=False.\n",
      "  interactivity=interactivity, compiler=compiler, result=result)\n"
     ]
    },
    {
     "name": "stdout",
     "output_type": "stream",
     "text": [
      "Time: 874.1586329936981\n"
     ]
    },
    {
     "data": {
      "text/html": [
       "<div>\n",
       "<style scoped>\n",
       "    .dataframe tbody tr th:only-of-type {\n",
       "        vertical-align: middle;\n",
       "    }\n",
       "\n",
       "    .dataframe tbody tr th {\n",
       "        vertical-align: top;\n",
       "    }\n",
       "\n",
       "    .dataframe thead th {\n",
       "        text-align: right;\n",
       "    }\n",
       "</style>\n",
       "<table border=\"1\" class=\"dataframe\">\n",
       "  <thead>\n",
       "    <tr style=\"text-align: right;\">\n",
       "      <th></th>\n",
       "      <th>access</th>\n",
       "      <th>accommodates</th>\n",
       "      <th>amenities</th>\n",
       "      <th>availability_30</th>\n",
       "      <th>availability_365</th>\n",
       "      <th>availability_60</th>\n",
       "      <th>availability_90</th>\n",
       "      <th>bathrooms</th>\n",
       "      <th>bed_type</th>\n",
       "      <th>bedrooms</th>\n",
       "      <th>...</th>\n",
       "      <th>space</th>\n",
       "      <th>square_feet</th>\n",
       "      <th>state</th>\n",
       "      <th>street</th>\n",
       "      <th>summary</th>\n",
       "      <th>thumbnail_url</th>\n",
       "      <th>transit</th>\n",
       "      <th>weekly_price</th>\n",
       "      <th>xl_picture_url</th>\n",
       "      <th>zipcode</th>\n",
       "    </tr>\n",
       "  </thead>\n",
       "  <tbody>\n",
       "    <tr>\n",
       "      <th>0</th>\n",
       "      <td>NaN</td>\n",
       "      <td>4.0</td>\n",
       "      <td>{TV,\"Cable TV\",Internet,\"Wireless Internet\",Ki...</td>\n",
       "      <td>22.0</td>\n",
       "      <td>353</td>\n",
       "      <td>48</td>\n",
       "      <td>78.0</td>\n",
       "      <td>1</td>\n",
       "      <td>Real Bed</td>\n",
       "      <td>1</td>\n",
       "      <td>...</td>\n",
       "      <td>Plein de charme avec ses poutres apparentes, d...</td>\n",
       "      <td>NaN</td>\n",
       "      <td>Île-de-France</td>\n",
       "      <td>Rue Legendre, Paris, Île-de-France 75017, France</td>\n",
       "      <td>Dans le village des Batignolles, un des quarti...</td>\n",
       "      <td>NaN</td>\n",
       "      <td>Metro: La fourche (Ligne 13)  Train: Pont Card...</td>\n",
       "      <td>NaN</td>\n",
       "      <td>NaN</td>\n",
       "      <td>75017</td>\n",
       "    </tr>\n",
       "    <tr>\n",
       "      <th>1</th>\n",
       "      <td>NaN</td>\n",
       "      <td>2.0</td>\n",
       "      <td>{TV,\"Wireless Internet\",Kitchen,\"Elevator in B...</td>\n",
       "      <td>9.0</td>\n",
       "      <td>13</td>\n",
       "      <td>13</td>\n",
       "      <td>13.0</td>\n",
       "      <td>1</td>\n",
       "      <td>Real Bed</td>\n",
       "      <td>0</td>\n",
       "      <td>...</td>\n",
       "      <td>NaN</td>\n",
       "      <td>NaN</td>\n",
       "      <td>Île-de-France</td>\n",
       "      <td>Rue des Acacias, Paris, Île-de-France 75017, F...</td>\n",
       "      <td>Mon logement est proche de Arc de Triomphe, Ch...</td>\n",
       "      <td>NaN</td>\n",
       "      <td>NaN</td>\n",
       "      <td>NaN</td>\n",
       "      <td>NaN</td>\n",
       "      <td>75017</td>\n",
       "    </tr>\n",
       "    <tr>\n",
       "      <th>2</th>\n",
       "      <td>NaN</td>\n",
       "      <td>5.0</td>\n",
       "      <td>{TV,\"Cable TV\",Internet,\"Wireless Internet\",Ki...</td>\n",
       "      <td>11.0</td>\n",
       "      <td>11</td>\n",
       "      <td>11</td>\n",
       "      <td>11.0</td>\n",
       "      <td>2</td>\n",
       "      <td>Real Bed</td>\n",
       "      <td>3</td>\n",
       "      <td>...</td>\n",
       "      <td>Appartement  très agréable à vivre dans  un jo...</td>\n",
       "      <td>NaN</td>\n",
       "      <td>Île-de-France</td>\n",
       "      <td>Rue de Prony, Paris, Île-de-France 75017, France</td>\n",
       "      <td>Appartement de 145 m2, grand salon avec parque...</td>\n",
       "      <td>NaN</td>\n",
       "      <td>Metro, bus et RER au pied de l'appartement. Me...</td>\n",
       "      <td>NaN</td>\n",
       "      <td>NaN</td>\n",
       "      <td>75017</td>\n",
       "    </tr>\n",
       "    <tr>\n",
       "      <th>3</th>\n",
       "      <td>NaN</td>\n",
       "      <td>2.0</td>\n",
       "      <td>{TV,\"Wireless Internet\",Kitchen,Heating,Washer...</td>\n",
       "      <td>28.0</td>\n",
       "      <td>363</td>\n",
       "      <td>58</td>\n",
       "      <td>88.0</td>\n",
       "      <td>1</td>\n",
       "      <td>Pull-out Sofa</td>\n",
       "      <td>0</td>\n",
       "      <td>...</td>\n",
       "      <td>NaN</td>\n",
       "      <td>NaN</td>\n",
       "      <td>Île-de-France</td>\n",
       "      <td>Rue d'Héliopolis, Paris, Île-de-France 75017, ...</td>\n",
       "      <td>Mon logement est proche de TOUS COMMERCES, RES...</td>\n",
       "      <td>NaN</td>\n",
       "      <td>NaN</td>\n",
       "      <td>NaN</td>\n",
       "      <td>NaN</td>\n",
       "      <td>75017</td>\n",
       "    </tr>\n",
       "    <tr>\n",
       "      <th>4</th>\n",
       "      <td>NaN</td>\n",
       "      <td>6.0</td>\n",
       "      <td>{Internet,\"Wireless Internet\",Kitchen,\"Elevato...</td>\n",
       "      <td>0.0</td>\n",
       "      <td>0</td>\n",
       "      <td>0</td>\n",
       "      <td>0.0</td>\n",
       "      <td>1</td>\n",
       "      <td>Real Bed</td>\n",
       "      <td>2</td>\n",
       "      <td>...</td>\n",
       "      <td>NaN</td>\n",
       "      <td>NaN</td>\n",
       "      <td>Île-de-France</td>\n",
       "      <td>Rue de Phalsbourg, Paris, Île-de-France 75017,...</td>\n",
       "      <td>Joli 3 pièces situé juste à côté du superbe Pa...</td>\n",
       "      <td>NaN</td>\n",
       "      <td>NaN</td>\n",
       "      <td>NaN</td>\n",
       "      <td>NaN</td>\n",
       "      <td>75017</td>\n",
       "    </tr>\n",
       "  </tbody>\n",
       "</table>\n",
       "<p>5 rows × 97 columns</p>\n",
       "</div>"
      ],
      "text/plain": [
       "  access  accommodates                                          amenities  \\\n",
       "0    NaN           4.0  {TV,\"Cable TV\",Internet,\"Wireless Internet\",Ki...   \n",
       "1    NaN           2.0  {TV,\"Wireless Internet\",Kitchen,\"Elevator in B...   \n",
       "2    NaN           5.0  {TV,\"Cable TV\",Internet,\"Wireless Internet\",Ki...   \n",
       "3    NaN           2.0  {TV,\"Wireless Internet\",Kitchen,Heating,Washer...   \n",
       "4    NaN           6.0  {Internet,\"Wireless Internet\",Kitchen,\"Elevato...   \n",
       "\n",
       "   availability_30 availability_365 availability_60  availability_90  \\\n",
       "0             22.0              353              48             78.0   \n",
       "1              9.0               13              13             13.0   \n",
       "2             11.0               11              11             11.0   \n",
       "3             28.0              363              58             88.0   \n",
       "4              0.0                0               0              0.0   \n",
       "\n",
       "  bathrooms       bed_type bedrooms   ...    \\\n",
       "0         1       Real Bed        1   ...     \n",
       "1         1       Real Bed        0   ...     \n",
       "2         2       Real Bed        3   ...     \n",
       "3         1  Pull-out Sofa        0   ...     \n",
       "4         1       Real Bed        2   ...     \n",
       "\n",
       "                                               space square_feet  \\\n",
       "0  Plein de charme avec ses poutres apparentes, d...         NaN   \n",
       "1                                                NaN         NaN   \n",
       "2  Appartement  très agréable à vivre dans  un jo...         NaN   \n",
       "3                                                NaN         NaN   \n",
       "4                                                NaN         NaN   \n",
       "\n",
       "           state                                             street  \\\n",
       "0  Île-de-France   Rue Legendre, Paris, Île-de-France 75017, France   \n",
       "1  Île-de-France  Rue des Acacias, Paris, Île-de-France 75017, F...   \n",
       "2  Île-de-France   Rue de Prony, Paris, Île-de-France 75017, France   \n",
       "3  Île-de-France  Rue d'Héliopolis, Paris, Île-de-France 75017, ...   \n",
       "4  Île-de-France  Rue de Phalsbourg, Paris, Île-de-France 75017,...   \n",
       "\n",
       "                                             summary thumbnail_url  \\\n",
       "0  Dans le village des Batignolles, un des quarti...           NaN   \n",
       "1  Mon logement est proche de Arc de Triomphe, Ch...           NaN   \n",
       "2  Appartement de 145 m2, grand salon avec parque...           NaN   \n",
       "3  Mon logement est proche de TOUS COMMERCES, RES...           NaN   \n",
       "4  Joli 3 pièces situé juste à côté du superbe Pa...           NaN   \n",
       "\n",
       "                                             transit weekly_price  \\\n",
       "0  Metro: La fourche (Ligne 13)  Train: Pont Card...          NaN   \n",
       "1                                                NaN          NaN   \n",
       "2  Metro, bus et RER au pied de l'appartement. Me...          NaN   \n",
       "3                                                NaN          NaN   \n",
       "4                                                NaN          NaN   \n",
       "\n",
       "  xl_picture_url zipcode  \n",
       "0            NaN   75017  \n",
       "1            NaN   75017  \n",
       "2            NaN   75017  \n",
       "3            NaN   75017  \n",
       "4            NaN   75017  \n",
       "\n",
       "[5 rows x 97 columns]"
      ]
     },
     "execution_count": 3,
     "metadata": {},
     "output_type": "execute_result"
    }
   ],
   "source": [
    "# time test of largest listings dataframe\n",
    "start_time = time.time()\n",
    "df = pd.read_csv(directory + 'paris_listings.csv')\n",
    "time_to_run = time.time() - start_time\n",
    "print('Time:',time_to_run)\n",
    "df.head()"
   ]
  },
  {
   "cell_type": "code",
   "execution_count": 4,
   "metadata": {},
   "outputs": [
    {
     "name": "stderr",
     "output_type": "stream",
     "text": [
      "/anaconda3/lib/python3.7/site-packages/IPython/core/interactiveshell.py:2785: DtypeWarning: Columns (0,1,2,4,5,6) have mixed types. Specify dtype option on import or set low_memory=False.\n",
      "  interactivity=interactivity, compiler=compiler, result=result)\n"
     ]
    },
    {
     "name": "stdout",
     "output_type": "stream",
     "text": [
      "Time: 1205.3079187870026\n"
     ]
    },
    {
     "data": {
      "text/html": [
       "<div>\n",
       "<style scoped>\n",
       "    .dataframe tbody tr th:only-of-type {\n",
       "        vertical-align: middle;\n",
       "    }\n",
       "\n",
       "    .dataframe tbody tr th {\n",
       "        vertical-align: top;\n",
       "    }\n",
       "\n",
       "    .dataframe thead th {\n",
       "        text-align: right;\n",
       "    }\n",
       "</style>\n",
       "<table border=\"1\" class=\"dataframe\">\n",
       "  <thead>\n",
       "    <tr style=\"text-align: right;\">\n",
       "      <th></th>\n",
       "      <th>listing_id</th>\n",
       "      <th>id</th>\n",
       "      <th>date</th>\n",
       "      <th>reviewer_id</th>\n",
       "      <th>reviewer_name</th>\n",
       "      <th>comments</th>\n",
       "      <th>date_recorded</th>\n",
       "    </tr>\n",
       "  </thead>\n",
       "  <tbody>\n",
       "    <tr>\n",
       "      <th>0</th>\n",
       "      <td>3109</td>\n",
       "      <td>123127969</td>\n",
       "      <td>2016-12-27</td>\n",
       "      <td>12389804.0</td>\n",
       "      <td>Sophie</td>\n",
       "      <td>The host canceled this reservation the day bef...</td>\n",
       "      <td>2018-02-05</td>\n",
       "    </tr>\n",
       "    <tr>\n",
       "      <th>1</th>\n",
       "      <td>3109</td>\n",
       "      <td>123274144</td>\n",
       "      <td>2016-12-28</td>\n",
       "      <td>67553494.0</td>\n",
       "      <td>Tom'S</td>\n",
       "      <td>The host canceled this reservation 2 days befo...</td>\n",
       "      <td>2018-02-05</td>\n",
       "    </tr>\n",
       "    <tr>\n",
       "      <th>2</th>\n",
       "      <td>3109</td>\n",
       "      <td>207127433</td>\n",
       "      <td>2017-10-28</td>\n",
       "      <td>51636494.0</td>\n",
       "      <td>Patricia</td>\n",
       "      <td>Tout s'est bien déroulé. Merci bien. PG</td>\n",
       "      <td>2018-02-05</td>\n",
       "    </tr>\n",
       "    <tr>\n",
       "      <th>3</th>\n",
       "      <td>3109</td>\n",
       "      <td>208779822</td>\n",
       "      <td>2017-11-03</td>\n",
       "      <td>4142888.0</td>\n",
       "      <td>Patricia</td>\n",
       "      <td>Un petit nid fouiller douillet situé dans  app...</td>\n",
       "      <td>2018-02-05</td>\n",
       "    </tr>\n",
       "    <tr>\n",
       "      <th>4</th>\n",
       "      <td>4886</td>\n",
       "      <td>9023</td>\n",
       "      <td>2009-09-05</td>\n",
       "      <td>15977.0</td>\n",
       "      <td>Alicia</td>\n",
       "      <td>The studio was in an incredible location, and ...</td>\n",
       "      <td>2018-02-05</td>\n",
       "    </tr>\n",
       "  </tbody>\n",
       "</table>\n",
       "</div>"
      ],
      "text/plain": [
       "  listing_id         id        date  reviewer_id reviewer_name  \\\n",
       "0       3109  123127969  2016-12-27   12389804.0        Sophie   \n",
       "1       3109  123274144  2016-12-28   67553494.0         Tom'S   \n",
       "2       3109  207127433  2017-10-28   51636494.0      Patricia   \n",
       "3       3109  208779822  2017-11-03    4142888.0      Patricia   \n",
       "4       4886       9023  2009-09-05      15977.0        Alicia   \n",
       "\n",
       "                                            comments date_recorded  \n",
       "0  The host canceled this reservation the day bef...    2018-02-05  \n",
       "1  The host canceled this reservation 2 days befo...    2018-02-05  \n",
       "2            Tout s'est bien déroulé. Merci bien. PG    2018-02-05  \n",
       "3  Un petit nid fouiller douillet situé dans  app...    2018-02-05  \n",
       "4  The studio was in an incredible location, and ...    2018-02-05  "
      ]
     },
     "execution_count": 4,
     "metadata": {},
     "output_type": "execute_result"
    }
   ],
   "source": [
    "# time test of largest reviews dataframe\n",
    "start_time = time.time()\n",
    "df = pd.read_csv(directory + 'paris_reviews.csv')\n",
    "time_to_run = time.time() - start_time\n",
    "print('Time:',time_to_run)\n",
    "df.head()"
   ]
  },
  {
   "cell_type": "code",
   "execution_count": null,
   "metadata": {},
   "outputs": [
    {
     "name": "stderr",
     "output_type": "stream",
     "text": [
      "/anaconda3/lib/python3.7/site-packages/IPython/core/interactiveshell.py:2785: DtypeWarning: Columns (38,88) have mixed types. Specify dtype option on import or set low_memory=False.\n",
      "  interactivity=interactivity, compiler=compiler, result=result)\n",
      "/anaconda3/lib/python3.7/site-packages/ipykernel_launcher.py:8: FutureWarning: Sorting because non-concatenation axis is not aligned. A future version\n",
      "of pandas will change to not sort by default.\n",
      "\n",
      "To accept the future behavior, pass 'sort=False'.\n",
      "\n",
      "To retain the current behavior and silence the warning, pass 'sort=True'.\n",
      "\n",
      "  \n",
      "/anaconda3/lib/python3.7/site-packages/IPython/core/interactiveshell.py:2785: DtypeWarning: Columns (0,1) have mixed types. Specify dtype option on import or set low_memory=False.\n",
      "  interactivity=interactivity, compiler=compiler, result=result)\n",
      "/anaconda3/lib/python3.7/site-packages/IPython/core/interactiveshell.py:2785: DtypeWarning: Columns (25,27,48,96) have mixed types. Specify dtype option on import or set low_memory=False.\n",
      "  interactivity=interactivity, compiler=compiler, result=result)\n",
      "/anaconda3/lib/python3.7/site-packages/IPython/core/interactiveshell.py:2785: DtypeWarning: Columns (87,88) have mixed types. Specify dtype option on import or set low_memory=False.\n",
      "  interactivity=interactivity, compiler=compiler, result=result)\n",
      "/anaconda3/lib/python3.7/site-packages/IPython/core/interactiveshell.py:2785: DtypeWarning: Columns (4,5,7,9,10,11,27,29,45,59,60,61,92,94,95) have mixed types. Specify dtype option on import or set low_memory=False.\n",
      "  interactivity=interactivity, compiler=compiler, result=result)\n",
      "/anaconda3/lib/python3.7/site-packages/IPython/core/interactiveshell.py:2785: DtypeWarning: Columns (25,27,48,54,59,92,95,96) have mixed types. Specify dtype option on import or set low_memory=False.\n",
      "  interactivity=interactivity, compiler=compiler, result=result)\n"
     ]
    }
   ],
   "source": [
    "# import listings files, add a city column for each file\n",
    "listings_list = []\n",
    "for file in os.listdir(directory):\n",
    "    df = pd.read_csv(directory + file)\n",
    "    df['city_name'] = file.split('_')[0]\n",
    "    listings_list.append(df)\n",
    "    # concat files in list\n",
    "    listings = pd.concat(listings_list)\n",
    "    # reset index\n",
    "    listings.reset_index(drop=True, inplace=True)"
   ]
  },
  {
   "cell_type": "code",
   "execution_count": null,
   "metadata": {},
   "outputs": [],
   "source": [
    "# import reviews files, add a city column for each file\n",
    "reviews_list = []\n",
    "for file in os.listdir(directory):\n",
    "    df = pd.read_csv(directory + file)\n",
    "    df['city_name'] = file.split('_')[0]\n",
    "    reviews_list.append(df)\n",
    "    # concat files in list\n",
    "    reviews = pd.concat(reviews_list)\n",
    "    # reset index\n",
    "    reviews.reset_index(drop=True, inplace=True)"
   ]
  },
  {
   "cell_type": "markdown",
   "metadata": {},
   "source": [
    "### Data Cleaning Due Diligence\n",
    "Because of the sheer size of the data, I will start out by going through a checklist of standard aspects to investigate in a dataset."
   ]
  },
  {
   "cell_type": "markdown",
   "metadata": {},
   "source": [
    "#### Missing Data"
   ]
  },
  {
   "cell_type": "markdown",
   "metadata": {},
   "source": [
    "#### Duplicate Rows"
   ]
  },
  {
   "cell_type": "markdown",
   "metadata": {},
   "source": [
    "#### Untidy Data"
   ]
  },
  {
   "cell_type": "markdown",
   "metadata": {},
   "source": [
    "#### Outliers"
   ]
  },
  {
   "cell_type": "markdown",
   "metadata": {},
   "source": [
    "#### Summary Statistics\n",
    "(.describe())/frequency counts/plots"
   ]
  },
  {
   "cell_type": "markdown",
   "metadata": {},
   "source": [
    "**Other Stuff**\n",
    "- need to process columns\n",
    "- column types can signal unexpected data values\n",
    "- summary statistics\n",
    "- merging/concatenating data\n",
    "- assert statements"
   ]
  },
  {
   "cell_type": "markdown",
   "metadata": {},
   "source": [
    "#### Check to see if there are user ids across different cities"
   ]
  }
 ],
 "metadata": {
  "kernelspec": {
   "display_name": "Python 3",
   "language": "python",
   "name": "python3"
  },
  "language_info": {
   "codemirror_mode": {
    "name": "ipython",
    "version": 3
   },
   "file_extension": ".py",
   "mimetype": "text/x-python",
   "name": "python",
   "nbconvert_exporter": "python",
   "pygments_lexer": "ipython3",
   "version": "3.7.0"
  }
 },
 "nbformat": 4,
 "nbformat_minor": 2
}
