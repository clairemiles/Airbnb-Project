{
 "cells": [
  {
   "cell_type": "markdown",
   "metadata": {},
   "source": [
    "## Statistical Analysis\n",
    "\n",
    "Now that the data is cleaned and I've conducted some preliminary analysis, it's time to enrich my exploration with further analysis. My exploratory data analysis will include the following steps:\n",
    "   1. Identify important features with a first-pass random forests model.\n",
    "   2. Look at the distributions of the most important features.\n",
    "   3. Re-evaluate the original project question based on the results.\n",
    "\n",
    "Once again, I will focus on the listings dataset in this notebook, as the listing data hosts all numerical features that the dataset currently has. The reviews data, which contains the review text for different listings, will be interpreted using NLP later on in the project process, as will other text data in the listings file."
   ]
  },
  {
   "cell_type": "code",
   "execution_count": 1,
   "metadata": {},
   "outputs": [],
   "source": [
    "# remove warnings\n",
    "import warnings\n",
    "warnings.filterwarnings(\"ignore\")"
   ]
  },
  {
   "cell_type": "code",
   "execution_count": 2,
   "metadata": {},
   "outputs": [
    {
     "name": "stderr",
     "output_type": "stream",
     "text": [
      "/anaconda3/lib/python3.7/site-packages/sklearn/ensemble/weight_boosting.py:29: DeprecationWarning: numpy.core.umath_tests is an internal NumPy module and should not be imported. It will be removed in a future NumPy release.\n",
      "  from numpy.core.umath_tests import inner1d\n"
     ]
    }
   ],
   "source": [
    "# import relevant packages\n",
    "import pandas as pd\n",
    "import numpy as np\n",
    "import scipy.stats as st\n",
    "import matplotlib.pyplot as plt\n",
    "import seaborn as sns\n",
    "\n",
    "from sklearn.ensemble import RandomForestRegressor\n",
    "from sklearn.model_selection import train_test_split\n",
    "from sklearn.metrics import mean_squared_error as MSE\n",
    "\n",
    "# set seaborn theme\n",
    "sns.set(style='ticks')\n",
    "\n",
    "%matplotlib inline"
   ]
  },
  {
   "cell_type": "code",
   "execution_count": 3,
   "metadata": {},
   "outputs": [
    {
     "data": {
      "text/html": [
       "<div>\n",
       "<style scoped>\n",
       "    .dataframe tbody tr th:only-of-type {\n",
       "        vertical-align: middle;\n",
       "    }\n",
       "\n",
       "    .dataframe tbody tr th {\n",
       "        vertical-align: top;\n",
       "    }\n",
       "\n",
       "    .dataframe thead th {\n",
       "        text-align: right;\n",
       "    }\n",
       "</style>\n",
       "<table border=\"1\" class=\"dataframe\">\n",
       "  <thead>\n",
       "    <tr style=\"text-align: right;\">\n",
       "      <th></th>\n",
       "      <th>access</th>\n",
       "      <th>accommodates</th>\n",
       "      <th>availability_30</th>\n",
       "      <th>availability_365</th>\n",
       "      <th>availability_60</th>\n",
       "      <th>availability_90</th>\n",
       "      <th>bathrooms</th>\n",
       "      <th>bed_type</th>\n",
       "      <th>bedrooms</th>\n",
       "      <th>beds</th>\n",
       "      <th>...</th>\n",
       "      <th>phone_verification</th>\n",
       "      <th>photographer_verification</th>\n",
       "      <th>reviews_verification</th>\n",
       "      <th>selfie_verification</th>\n",
       "      <th>sent_id_verification</th>\n",
       "      <th>sesame_verification</th>\n",
       "      <th>sesame_offline_verification</th>\n",
       "      <th>weibo_verification</th>\n",
       "      <th>work_email_verification</th>\n",
       "      <th>zhima_selfie_verification</th>\n",
       "    </tr>\n",
       "  </thead>\n",
       "  <tbody>\n",
       "    <tr>\n",
       "      <th>0</th>\n",
       "      <td>NaN</td>\n",
       "      <td>2.0</td>\n",
       "      <td>30.0</td>\n",
       "      <td>365.0</td>\n",
       "      <td>60.0</td>\n",
       "      <td>90.0</td>\n",
       "      <td>1.0</td>\n",
       "      <td>Real Bed</td>\n",
       "      <td>1.0</td>\n",
       "      <td>1.0</td>\n",
       "      <td>...</td>\n",
       "      <td>True</td>\n",
       "      <td>False</td>\n",
       "      <td>True</td>\n",
       "      <td>False</td>\n",
       "      <td>False</td>\n",
       "      <td>False</td>\n",
       "      <td>False</td>\n",
       "      <td>False</td>\n",
       "      <td>False</td>\n",
       "      <td>False</td>\n",
       "    </tr>\n",
       "    <tr>\n",
       "      <th>1</th>\n",
       "      <td>NaN</td>\n",
       "      <td>1.0</td>\n",
       "      <td>30.0</td>\n",
       "      <td>365.0</td>\n",
       "      <td>60.0</td>\n",
       "      <td>90.0</td>\n",
       "      <td>1.0</td>\n",
       "      <td>Real Bed</td>\n",
       "      <td>1.0</td>\n",
       "      <td>1.0</td>\n",
       "      <td>...</td>\n",
       "      <td>True</td>\n",
       "      <td>False</td>\n",
       "      <td>False</td>\n",
       "      <td>False</td>\n",
       "      <td>False</td>\n",
       "      <td>False</td>\n",
       "      <td>False</td>\n",
       "      <td>False</td>\n",
       "      <td>False</td>\n",
       "      <td>False</td>\n",
       "    </tr>\n",
       "    <tr>\n",
       "      <th>2</th>\n",
       "      <td>NaN</td>\n",
       "      <td>1.0</td>\n",
       "      <td>15.0</td>\n",
       "      <td>344.0</td>\n",
       "      <td>39.0</td>\n",
       "      <td>69.0</td>\n",
       "      <td>1.0</td>\n",
       "      <td>Couch</td>\n",
       "      <td>1.0</td>\n",
       "      <td>1.0</td>\n",
       "      <td>...</td>\n",
       "      <td>True</td>\n",
       "      <td>False</td>\n",
       "      <td>True</td>\n",
       "      <td>False</td>\n",
       "      <td>False</td>\n",
       "      <td>False</td>\n",
       "      <td>False</td>\n",
       "      <td>False</td>\n",
       "      <td>False</td>\n",
       "      <td>False</td>\n",
       "    </tr>\n",
       "    <tr>\n",
       "      <th>3</th>\n",
       "      <td>NaN</td>\n",
       "      <td>2.0</td>\n",
       "      <td>18.0</td>\n",
       "      <td>261.0</td>\n",
       "      <td>32.0</td>\n",
       "      <td>62.0</td>\n",
       "      <td>1.0</td>\n",
       "      <td>Real Bed</td>\n",
       "      <td>1.0</td>\n",
       "      <td>1.0</td>\n",
       "      <td>...</td>\n",
       "      <td>True</td>\n",
       "      <td>False</td>\n",
       "      <td>False</td>\n",
       "      <td>False</td>\n",
       "      <td>False</td>\n",
       "      <td>False</td>\n",
       "      <td>False</td>\n",
       "      <td>False</td>\n",
       "      <td>False</td>\n",
       "      <td>False</td>\n",
       "    </tr>\n",
       "    <tr>\n",
       "      <th>4</th>\n",
       "      <td>NaN</td>\n",
       "      <td>1.0</td>\n",
       "      <td>30.0</td>\n",
       "      <td>365.0</td>\n",
       "      <td>60.0</td>\n",
       "      <td>90.0</td>\n",
       "      <td>1.0</td>\n",
       "      <td>Futon</td>\n",
       "      <td>1.0</td>\n",
       "      <td>1.0</td>\n",
       "      <td>...</td>\n",
       "      <td>True</td>\n",
       "      <td>False</td>\n",
       "      <td>True</td>\n",
       "      <td>False</td>\n",
       "      <td>False</td>\n",
       "      <td>False</td>\n",
       "      <td>False</td>\n",
       "      <td>False</td>\n",
       "      <td>False</td>\n",
       "      <td>False</td>\n",
       "    </tr>\n",
       "  </tbody>\n",
       "</table>\n",
       "<p>5 rows × 316 columns</p>\n",
       "</div>"
      ],
      "text/plain": [
       "  access  accommodates  availability_30  availability_365  availability_60  \\\n",
       "0    NaN           2.0             30.0             365.0             60.0   \n",
       "1    NaN           1.0             30.0             365.0             60.0   \n",
       "2    NaN           1.0             15.0             344.0             39.0   \n",
       "3    NaN           2.0             18.0             261.0             32.0   \n",
       "4    NaN           1.0             30.0             365.0             60.0   \n",
       "\n",
       "   availability_90  bathrooms  bed_type  bedrooms  beds  \\\n",
       "0             90.0        1.0  Real Bed       1.0   1.0   \n",
       "1             90.0        1.0  Real Bed       1.0   1.0   \n",
       "2             69.0        1.0     Couch       1.0   1.0   \n",
       "3             62.0        1.0  Real Bed       1.0   1.0   \n",
       "4             90.0        1.0     Futon       1.0   1.0   \n",
       "\n",
       "             ...             phone_verification photographer_verification  \\\n",
       "0            ...                           True                     False   \n",
       "1            ...                           True                     False   \n",
       "2            ...                           True                     False   \n",
       "3            ...                           True                     False   \n",
       "4            ...                           True                     False   \n",
       "\n",
       "  reviews_verification selfie_verification sent_id_verification  \\\n",
       "0                 True               False                False   \n",
       "1                False               False                False   \n",
       "2                 True               False                False   \n",
       "3                False               False                False   \n",
       "4                 True               False                False   \n",
       "\n",
       "   sesame_verification sesame_offline_verification weibo_verification  \\\n",
       "0                False                       False              False   \n",
       "1                False                       False              False   \n",
       "2                False                       False              False   \n",
       "3                False                       False              False   \n",
       "4                False                       False              False   \n",
       "\n",
       "  work_email_verification zhima_selfie_verification  \n",
       "0                   False                     False  \n",
       "1                   False                     False  \n",
       "2                   False                     False  \n",
       "3                   False                     False  \n",
       "4                   False                     False  \n",
       "\n",
       "[5 rows x 316 columns]"
      ]
     },
     "execution_count": 3,
     "metadata": {},
     "output_type": "execute_result"
    }
   ],
   "source": [
    "# load listings dataset\n",
    "df = pd.read_csv('/Users/limesncoconuts2/datasets/capstone_one/los_angeles/los-angeles_listings.csv')\n",
    "df.head()"
   ]
  },
  {
   "cell_type": "markdown",
   "metadata": {},
   "source": [
    "This statistical analysis will focus on numerical and categorical data. The text data will be interpreted as features later on in the project process."
   ]
  },
  {
   "cell_type": "code",
   "execution_count": 4,
   "metadata": {},
   "outputs": [],
   "source": [
    "# fix categories that didn't transfer from the data cleaning notebook?\n",
    "to_category = ['property_type','room_type','bed_type','cancellation_policy','market','neighbourhood','city','state','calendar_updated','host_neighbourhood']\n",
    "for col_name in to_category:\n",
    "        try:\n",
    "            df[col_name] = df[col_name].astype('category')\n",
    "        except KeyError:\n",
    "            pass"
   ]
  },
  {
   "cell_type": "code",
   "execution_count": 5,
   "metadata": {},
   "outputs": [],
   "source": [
    "# turn boolean columns into 0 or 1 integers\n",
    "for col in df:\n",
    "    if df[col].dtype == 'bool':\n",
    "        df[col] = df[col].astype('int64')"
   ]
  },
  {
   "cell_type": "code",
   "execution_count": 6,
   "metadata": {},
   "outputs": [],
   "source": [
    "# cut down dataframe to include only numerical and categorical data\n",
    "df = df.select_dtypes(include=['number', 'datetime', 'category'])"
   ]
  },
  {
   "cell_type": "code",
   "execution_count": 7,
   "metadata": {},
   "outputs": [],
   "source": [
    "# one hot encode categorical data\n",
    "df = pd.get_dummies(df, dummy_na=True)"
   ]
  },
  {
   "cell_type": "code",
   "execution_count": 8,
   "metadata": {},
   "outputs": [],
   "source": [
    "df.interpolate(method='linear', axis=1, inplace=True)"
   ]
  },
  {
   "cell_type": "code",
   "execution_count": 9,
   "metadata": {},
   "outputs": [
    {
     "name": "stdout",
     "output_type": "stream",
     "text": [
      "<class 'pandas.core.frame.DataFrame'>\n",
      "RangeIndex: 599177 entries, 0 to 599176\n",
      "Columns: 1696 entries, accommodates to state_nan\n",
      "dtypes: float64(1696)\n",
      "memory usage: 7.6 GB\n"
     ]
    }
   ],
   "source": [
    "df.info()"
   ]
  },
  {
   "cell_type": "markdown",
   "metadata": {},
   "source": [
    "### Random Forests Feature Importances"
   ]
  },
  {
   "cell_type": "code",
   "execution_count": 10,
   "metadata": {
    "scrolled": false
   },
   "outputs": [
    {
     "name": "stdout",
     "output_type": "stream",
     "text": [
      "80.21366218441405\n"
     ]
    }
   ],
   "source": [
    "# random forests for feature selection\n",
    "X = df.drop(['price_USD','neighbourhood_group_cleansed'], axis=1)\n",
    "y = df.price_USD\n",
    "SEED = 1\n",
    "\n",
    "# select a random subset of X and y to use for the random forest (save on time)\n",
    "X = X.sample(frac=0.33, random_state=SEED)\n",
    "y = y.sample(frac=0.33, random_state=SEED)\n",
    "\n",
    "X_train, X_test, y_train, y_test = train_test_split(X, y, test_size=0.2,random_state=SEED)\n",
    "\n",
    "rf = RandomForestRegressor(n_estimators = 100,\n",
    "                           max_depth = 5,\n",
    "                          random_state = SEED)\n",
    "rf.fit(X_train, y_train)\n",
    "y_pred = rf.predict(X_test)\n",
    "\n",
    "rmse_test = MSE(y_test, y_pred)**(1/2)\n",
    "\n",
    "print(rmse_test)"
   ]
  },
  {
   "cell_type": "code",
   "execution_count": 11,
   "metadata": {},
   "outputs": [
    {
     "data": {
      "image/png": "[encoded data removed]",
      "text/plain": [
       "<Figure size 432x288 with 1 Axes>"
      ]
     },
     "metadata": {
      "needs_background": "light"
     },
     "output_type": "display_data"
    }
   ],
   "source": [
    "importances_rf = pd.Series(rf.feature_importances_,\n",
    "                          index = X.columns)\n",
    "sorted_importances_rf = importances_rf.sort_values(ascending=False)\n",
    "\n",
    "sorted_importances_rf[0:7].plot(kind='barh',\n",
    "                          color='lightgreen')\n",
    "plt.show()"
   ]
  },
  {
   "cell_type": "markdown",
   "metadata": {},
   "source": [
    "The random forest has found the most important features to be:\n",
    "1. bedrooms\n",
    "2. cleaning fee\n",
    "3. bathrooms\n",
    "4. room type-entire home/apartment\n",
    "5. longitude\n",
    "6. security deposit\n",
    "7. accommodates\n",
    "\n",
    "It's important to note, however, that this is a very simplistic first-pass at the data, and that the feature importance algorithm for random forests shows some [bias towards continuous features or high-cardinality categorical variables](https://towardsdatascience.com/explaining-feature-importance-by-example-of-a-random-forest-d9166011959e)."
   ]
  },
  {
   "cell_type": "markdown",
   "metadata": {},
   "source": [
    "### Histograms\n",
    "\n",
    "I'll plot histograms of the features and the target variable to get a better picture of their distributions."
   ]
  },
  {
   "cell_type": "code",
   "execution_count": 12,
   "metadata": {},
   "outputs": [
    {
     "data": {
      "text/plain": [
       "<Figure size 1440x720 with 0 Axes>"
      ]
     },
     "metadata": {},
     "output_type": "display_data"
    },
    {
     "data": {
      "image/png": "[encoded data removed]",
      "text/plain": [
       "<Figure size 432x288 with 8 Axes>"
      ]
     },
     "metadata": {
      "needs_background": "light"
     },
     "output_type": "display_data"
    }
   ],
   "source": [
    "# bedrooms, cleaning fee, bathrooms, room_type_Entire home/apt, longitude, security deposit, accomodates\n",
    "plt.figure(figsize=(20,10))\n",
    "plt.subplots(2,4)\n",
    "\n",
    "plt.subplot(2,4,1)\n",
    "plt.hist(df.bedrooms)\n",
    "plt.title('Bedrooms')\n",
    "\n",
    "plt.subplot(2,4,2)\n",
    "plt.hist(df.cleaning_fee_USD)\n",
    "plt.title('Cleaning Fee')\n",
    "\n",
    "plt.subplot(2,4,3)\n",
    "plt.hist(df.bathrooms)\n",
    "plt.title('Bathrooms')\n",
    "\n",
    "plt.subplot(2,4,4)\n",
    "plt.hist(df['room_type_Entire home/apt'])\n",
    "plt.title('Room Type')\n",
    "\n",
    "plt.subplot(2,4,5)\n",
    "plt.hist(df.longitude)\n",
    "plt.title('Longitude')\n",
    "\n",
    "plt.subplot(2,4,6)\n",
    "plt.hist(df.security_deposit_USD)\n",
    "plt.title('Security Deposit')\n",
    "\n",
    "plt.subplot(2,4,7)\n",
    "plt.hist(df.accommodates)\n",
    "plt.title('Accommodates')\n",
    "\n",
    "plt.subplot(2,4,8)\n",
    "plt.hist(df.price_USD)\n",
    "plt.title('Price')\n",
    "\n",
    "plt.tight_layout()"
   ]
  },
  {
   "cell_type": "markdown",
   "metadata": {},
   "source": [
    "It appears that longitude is the only normally distributed feature, with bedrooms, bathrooms, cleaning fee, accommodates, and price being right skewed. This makes sense since Airbnb listings are spread throughout the entire city, with some cities being a bit more popular than others. Also, most Airbnb listings are small, affordable, and for hosting just a few people - the smaller amount of larger listings creates the skew of the histogram. Room type is a categorical variable that has been transformed in the one hot encoding process, therefore the histogram just shows that there are more entire homes/apartments than not. For security deposit, it looks like most listings do not have one, but those that do may give us important insights into a listing's price."
   ]
  },
  {
   "cell_type": "markdown",
   "metadata": {},
   "source": [
    "### Re-evaluation of project question"
   ]
  },
  {
   "cell_type": "markdown",
   "metadata": {},
   "source": [
    "The biggest finding of my statistical analysis is that I've identified several of the most important features in the dataset and looked at their distributions. This will inform which features to pay the most attention to in the next stage of the project.\n",
    "\n",
    "Moving forward, the machine learning analysis will likely offer more complex insights than this statistical analysis, especially as I incorporate information from the reviews data. It may be the case that some features that are not significant in this analysis play a larger role down the line.\n",
    "\n",
    "This analysis does not alter the initial project question of trying to decipher a listing's price from its other features."
   ]
  }
 ],
 "metadata": {
  "kernelspec": {
   "display_name": "Python 3",
   "language": "python",
   "name": "python3"
  },
  "language_info": {
   "codemirror_mode": {
    "name": "ipython",
    "version": 3
   },
   "file_extension": ".py",
   "mimetype": "text/x-python",
   "name": "python",
   "nbconvert_exporter": "python",
   "pygments_lexer": "ipython3",
   "version": "3.7.2"
  }
 },
 "nbformat": 4,
 "nbformat_minor": 2
}
