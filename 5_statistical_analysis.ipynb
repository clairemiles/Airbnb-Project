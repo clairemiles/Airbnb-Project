{
 "cells": [
  {
   "cell_type": "markdown",
   "metadata": {},
   "source": [
    "## Statistical Analysis\n",
    "\n",
    "Now that the data is cleaned and I've conducted some preliminary analysis, it's time to enrich my exploration with inferential statistics. My exploratory data analysis will include the following steps:\n",
    "   1. Look for numerical variables in the dataset that are correlated.\n",
    "   2. Run confidence intervals and significance tests on variables that are related to the project question.\n",
    "   3. Re-evaluate the original project question based on statistical evidence.\n",
    "\n",
    "Once again, I will focus on the listings dataset in this notebook, as the listing data hosts all numerical features that the dataset currently has. The reviews data, which contains the review text for different listings, will be interpreted using NLP later on in the project process, as will other text data in the listings file."
   ]
  },
  {
   "cell_type": "code",
   "execution_count": 1,
   "metadata": {},
   "outputs": [],
   "source": [
    "# remove warnings\n",
    "import warnings\n",
    "warnings.filterwarnings(\"ignore\")"
   ]
  },
  {
   "cell_type": "code",
   "execution_count": 2,
   "metadata": {},
   "outputs": [
    {
     "name": "stderr",
     "output_type": "stream",
     "text": [
      "/anaconda3/lib/python3.7/site-packages/sklearn/ensemble/weight_boosting.py:29: DeprecationWarning: numpy.core.umath_tests is an internal NumPy module and should not be imported. It will be removed in a future NumPy release.\n",
      "  from numpy.core.umath_tests import inner1d\n"
     ]
    }
   ],
   "source": [
    "# import relevant packages\n",
    "import pandas as pd\n",
    "import numpy as np\n",
    "import scipy.stats as st\n",
    "import matplotlib.pyplot as plt\n",
    "import seaborn as sns\n",
    "\n",
    "from sklearn.ensemble import RandomForestRegressor\n",
    "from sklearn.model_selection import train_test_split\n",
    "from sklearn.metrics import mean_squared_error as MSE\n",
    "\n",
    "# set seaborn theme\n",
    "sns.set(style='ticks')\n",
    "\n",
    "%matplotlib inline"
   ]
  },
  {
   "cell_type": "code",
   "execution_count": 3,
   "metadata": {},
   "outputs": [
    {
     "data": {
      "text/html": [
       "<div>\n",
       "<style scoped>\n",
       "    .dataframe tbody tr th:only-of-type {\n",
       "        vertical-align: middle;\n",
       "    }\n",
       "\n",
       "    .dataframe tbody tr th {\n",
       "        vertical-align: top;\n",
       "    }\n",
       "\n",
       "    .dataframe thead th {\n",
       "        text-align: right;\n",
       "    }\n",
       "</style>\n",
       "<table border=\"1\" class=\"dataframe\">\n",
       "  <thead>\n",
       "    <tr style=\"text-align: right;\">\n",
       "      <th></th>\n",
       "      <th>access</th>\n",
       "      <th>accommodates</th>\n",
       "      <th>availability_30</th>\n",
       "      <th>availability_365</th>\n",
       "      <th>availability_60</th>\n",
       "      <th>availability_90</th>\n",
       "      <th>bathrooms</th>\n",
       "      <th>bed_type</th>\n",
       "      <th>bedrooms</th>\n",
       "      <th>beds</th>\n",
       "      <th>...</th>\n",
       "      <th>phone_verification</th>\n",
       "      <th>photographer_verification</th>\n",
       "      <th>reviews_verification</th>\n",
       "      <th>selfie_verification</th>\n",
       "      <th>sent_id_verification</th>\n",
       "      <th>sesame_verification</th>\n",
       "      <th>sesame_offline_verification</th>\n",
       "      <th>weibo_verification</th>\n",
       "      <th>work_email_verification</th>\n",
       "      <th>zhima_selfie_verification</th>\n",
       "    </tr>\n",
       "  </thead>\n",
       "  <tbody>\n",
       "    <tr>\n",
       "      <th>0</th>\n",
       "      <td>NaN</td>\n",
       "      <td>2.0</td>\n",
       "      <td>30.0</td>\n",
       "      <td>365.0</td>\n",
       "      <td>60.0</td>\n",
       "      <td>90.0</td>\n",
       "      <td>1.0</td>\n",
       "      <td>Real Bed</td>\n",
       "      <td>1.0</td>\n",
       "      <td>1.0</td>\n",
       "      <td>...</td>\n",
       "      <td>True</td>\n",
       "      <td>False</td>\n",
       "      <td>True</td>\n",
       "      <td>False</td>\n",
       "      <td>False</td>\n",
       "      <td>False</td>\n",
       "      <td>False</td>\n",
       "      <td>False</td>\n",
       "      <td>False</td>\n",
       "      <td>False</td>\n",
       "    </tr>\n",
       "    <tr>\n",
       "      <th>1</th>\n",
       "      <td>NaN</td>\n",
       "      <td>1.0</td>\n",
       "      <td>30.0</td>\n",
       "      <td>365.0</td>\n",
       "      <td>60.0</td>\n",
       "      <td>90.0</td>\n",
       "      <td>1.0</td>\n",
       "      <td>Real Bed</td>\n",
       "      <td>1.0</td>\n",
       "      <td>1.0</td>\n",
       "      <td>...</td>\n",
       "      <td>True</td>\n",
       "      <td>False</td>\n",
       "      <td>False</td>\n",
       "      <td>False</td>\n",
       "      <td>False</td>\n",
       "      <td>False</td>\n",
       "      <td>False</td>\n",
       "      <td>False</td>\n",
       "      <td>False</td>\n",
       "      <td>False</td>\n",
       "    </tr>\n",
       "    <tr>\n",
       "      <th>2</th>\n",
       "      <td>NaN</td>\n",
       "      <td>1.0</td>\n",
       "      <td>15.0</td>\n",
       "      <td>344.0</td>\n",
       "      <td>39.0</td>\n",
       "      <td>69.0</td>\n",
       "      <td>1.0</td>\n",
       "      <td>Couch</td>\n",
       "      <td>1.0</td>\n",
       "      <td>1.0</td>\n",
       "      <td>...</td>\n",
       "      <td>True</td>\n",
       "      <td>False</td>\n",
       "      <td>True</td>\n",
       "      <td>False</td>\n",
       "      <td>False</td>\n",
       "      <td>False</td>\n",
       "      <td>False</td>\n",
       "      <td>False</td>\n",
       "      <td>False</td>\n",
       "      <td>False</td>\n",
       "    </tr>\n",
       "    <tr>\n",
       "      <th>3</th>\n",
       "      <td>NaN</td>\n",
       "      <td>2.0</td>\n",
       "      <td>18.0</td>\n",
       "      <td>261.0</td>\n",
       "      <td>32.0</td>\n",
       "      <td>62.0</td>\n",
       "      <td>1.0</td>\n",
       "      <td>Real Bed</td>\n",
       "      <td>1.0</td>\n",
       "      <td>1.0</td>\n",
       "      <td>...</td>\n",
       "      <td>True</td>\n",
       "      <td>False</td>\n",
       "      <td>False</td>\n",
       "      <td>False</td>\n",
       "      <td>False</td>\n",
       "      <td>False</td>\n",
       "      <td>False</td>\n",
       "      <td>False</td>\n",
       "      <td>False</td>\n",
       "      <td>False</td>\n",
       "    </tr>\n",
       "    <tr>\n",
       "      <th>4</th>\n",
       "      <td>NaN</td>\n",
       "      <td>1.0</td>\n",
       "      <td>30.0</td>\n",
       "      <td>365.0</td>\n",
       "      <td>60.0</td>\n",
       "      <td>90.0</td>\n",
       "      <td>1.0</td>\n",
       "      <td>Futon</td>\n",
       "      <td>1.0</td>\n",
       "      <td>1.0</td>\n",
       "      <td>...</td>\n",
       "      <td>True</td>\n",
       "      <td>False</td>\n",
       "      <td>True</td>\n",
       "      <td>False</td>\n",
       "      <td>False</td>\n",
       "      <td>False</td>\n",
       "      <td>False</td>\n",
       "      <td>False</td>\n",
       "      <td>False</td>\n",
       "      <td>False</td>\n",
       "    </tr>\n",
       "  </tbody>\n",
       "</table>\n",
       "<p>5 rows × 316 columns</p>\n",
       "</div>"
      ],
      "text/plain": [
       "  access  accommodates  availability_30  availability_365  availability_60  \\\n",
       "0    NaN           2.0             30.0             365.0             60.0   \n",
       "1    NaN           1.0             30.0             365.0             60.0   \n",
       "2    NaN           1.0             15.0             344.0             39.0   \n",
       "3    NaN           2.0             18.0             261.0             32.0   \n",
       "4    NaN           1.0             30.0             365.0             60.0   \n",
       "\n",
       "   availability_90  bathrooms  bed_type  bedrooms  beds  \\\n",
       "0             90.0        1.0  Real Bed       1.0   1.0   \n",
       "1             90.0        1.0  Real Bed       1.0   1.0   \n",
       "2             69.0        1.0     Couch       1.0   1.0   \n",
       "3             62.0        1.0  Real Bed       1.0   1.0   \n",
       "4             90.0        1.0     Futon       1.0   1.0   \n",
       "\n",
       "             ...             phone_verification photographer_verification  \\\n",
       "0            ...                           True                     False   \n",
       "1            ...                           True                     False   \n",
       "2            ...                           True                     False   \n",
       "3            ...                           True                     False   \n",
       "4            ...                           True                     False   \n",
       "\n",
       "  reviews_verification selfie_verification sent_id_verification  \\\n",
       "0                 True               False                False   \n",
       "1                False               False                False   \n",
       "2                 True               False                False   \n",
       "3                False               False                False   \n",
       "4                 True               False                False   \n",
       "\n",
       "   sesame_verification sesame_offline_verification weibo_verification  \\\n",
       "0                False                       False              False   \n",
       "1                False                       False              False   \n",
       "2                False                       False              False   \n",
       "3                False                       False              False   \n",
       "4                False                       False              False   \n",
       "\n",
       "  work_email_verification zhima_selfie_verification  \n",
       "0                   False                     False  \n",
       "1                   False                     False  \n",
       "2                   False                     False  \n",
       "3                   False                     False  \n",
       "4                   False                     False  \n",
       "\n",
       "[5 rows x 316 columns]"
      ]
     },
     "execution_count": 3,
     "metadata": {},
     "output_type": "execute_result"
    }
   ],
   "source": [
    "# load listings dataset\n",
    "df = pd.read_csv('/Users/limesncoconuts2/datasets/capstone_one/los_angeles/los-angeles_listings.csv')\n",
    "df.head()"
   ]
  },
  {
   "cell_type": "markdown",
   "metadata": {},
   "source": [
    "This statistical analysis will focus on numerical and categorical data. The text data will be interpreted as features later on in the project process."
   ]
  },
  {
   "cell_type": "code",
   "execution_count": 4,
   "metadata": {},
   "outputs": [],
   "source": [
    "# fix categories that didn't transfer from the data cleaning notebook?\n",
    "to_category = ['property_type','room_type','bed_type','cancellation_policy','market','neighbourhood','city','state','calendar_updated','host_neighbourhood']\n",
    "for col_name in to_category:\n",
    "        try:\n",
    "            df[col_name] = df[col_name].astype('category')\n",
    "        except KeyError:\n",
    "            pass"
   ]
  },
  {
   "cell_type": "code",
   "execution_count": 5,
   "metadata": {},
   "outputs": [],
   "source": [
    "# turn boolean columns into 0 or 1 integers\n",
    "for col in df:\n",
    "    if df[col].dtype == 'bool':\n",
    "        df[col] = df[col].astype('int64')"
   ]
  },
  {
   "cell_type": "code",
   "execution_count": 6,
   "metadata": {},
   "outputs": [],
   "source": [
    "# cut down dataframe to include only numerical and categorical data\n",
    "df = df.select_dtypes(include=['number', 'datetime', 'category'])"
   ]
  },
  {
   "cell_type": "code",
   "execution_count": 7,
   "metadata": {},
   "outputs": [],
   "source": [
    "# one hot encode categorical data\n",
    "df = pd.get_dummies(df, dummy_na=True)"
   ]
  },
  {
   "cell_type": "code",
   "execution_count": 8,
   "metadata": {},
   "outputs": [],
   "source": [
    "df.interpolate(method='linear', axis=1, inplace=True)"
   ]
  },
  {
   "cell_type": "code",
   "execution_count": 9,
   "metadata": {},
   "outputs": [
    {
     "name": "stdout",
     "output_type": "stream",
     "text": [
      "<class 'pandas.core.frame.DataFrame'>\n",
      "RangeIndex: 599177 entries, 0 to 599176\n",
      "Columns: 1696 entries, accommodates to state_nan\n",
      "dtypes: float64(1696)\n",
      "memory usage: 7.6 GB\n"
     ]
    }
   ],
   "source": [
    "df.info()"
   ]
  },
  {
   "cell_type": "markdown",
   "metadata": {},
   "source": [
    "### Random Forests Feature Importances"
   ]
  },
  {
   "cell_type": "code",
   "execution_count": 10,
   "metadata": {
    "scrolled": false
   },
   "outputs": [
    {
     "name": "stdout",
     "output_type": "stream",
     "text": [
      "106.8054894753863\n"
     ]
    }
   ],
   "source": [
    "# random forests for feature selection\n",
    "X = df.drop(['price_USD','neighbourhood_group_cleansed'], axis=1)\n",
    "y = df.price_USD\n",
    "SEED = 1\n",
    "\n",
    "# select a random subset of X and y to use for the random forest (save on time)\n",
    "X = X.sample(frac=0.33, random_state=SEED)\n",
    "y = y.sample(frac=0.33, random_state=SEED)\n",
    "\n",
    "X_train, X_test, y_train, y_test = train_test_split(X, y, test_size=0.2,random_state=SEED)\n",
    "\n",
    "rf = RandomForestRegressor(n_estimators = 100,\n",
    "                          min_samples_leaf = 0.15,\n",
    "                          random_state = SEED)\n",
    "rf.fit(X_train, y_train)\n",
    "y_pred = rf.predict(X_test)\n",
    "\n",
    "rmse_test = MSE(y_test, y_pred)**(1/2)\n",
    "\n",
    "print(rmse_test)"
   ]
  },
  {
   "cell_type": "code",
   "execution_count": 11,
   "metadata": {},
   "outputs": [
    {
     "data": {
      "image/png": "[encoded data removed]",
      "text/plain": [
       "<Figure size 432x288 with 1 Axes>"
      ]
     },
     "metadata": {
      "needs_background": "light"
     },
     "output_type": "display_data"
    }
   ],
   "source": [
    "importances_rf = pd.Series(rf.feature_importances_,\n",
    "                          index = X.columns)\n",
    "sorted_importances_rf = importances_rf.sort_values(ascending=False)\n",
    "\n",
    "sorted_importances_rf[0:10].plot(kind='barh',\n",
    "                          color='lightgreen')\n",
    "plt.show()"
   ]
  },
  {
   "cell_type": "markdown",
   "metadata": {},
   "source": [
    "The most important features to our question seem to be bedrooms and if the room type is an entire home/apartment. It's important to note, however, that this is a very simplistic first-pass at the data, and that the feature importance algorithm for random forests shows some [bias towards continuous features or high-cardinality categorical variables](https://towardsdatascience.com/explaining-feature-importance-by-example-of-a-random-forest-d9166011959e). Therefore, we should take this result with a grain of salt.\n",
    "\n",
    "Next, I'll plot these features, as well as some other features I've previously identified as important, on a heatmap with price."
   ]
  },
  {
   "cell_type": "markdown",
   "metadata": {},
   "source": [
    "### Correlation-Finding"
   ]
  },
  {
   "cell_type": "code",
   "execution_count": 12,
   "metadata": {
    "scrolled": false
   },
   "outputs": [
    {
     "data": {
      "text/plain": [
       "<matplotlib.axes._subplots.AxesSubplot at 0x1a1f5dccc0>"
      ]
     },
     "execution_count": 12,
     "metadata": {},
     "output_type": "execute_result"
    },
    {
     "data": {
      "image/png": "[encoded data removed]",
      "text/plain": [
       "<Figure size 432x288 with 2 Axes>"
      ]
     },
     "metadata": {
      "needs_background": "light"
     },
     "output_type": "display_data"
    }
   ],
   "source": [
    "# heatmap for most influential features\n",
    "cols = ['bathrooms', 'bedrooms', 'beds', 'square_feet', 'room_type_Entire home/apt', 'reviews_per_month', 'zipcode', 'price_USD']\n",
    "sns.heatmap(df[cols].corr(), square=True, cmap='RdYlGn')"
   ]
  },
  {
   "cell_type": "markdown",
   "metadata": {},
   "source": [
    "From looking at the 'price_USD' row of the heatmap, we see that 'bathrooms', 'bedrooms', 'beds', and 'room_type_Entire home/apt' all have some sort of correlation with price. Additionally, seeing that 'bedrooms' and 'beds' are correlated might indicate that we should remove 'beds' from the dataset.\n",
    "\n",
    "Another way to check for correlation is by running hypothesis tests of correlation between a particular feature and price. By permuting one of the features and computing the Pearson correlation coefficient, we can see if the correlation we see between features is most likely by chance, or statistically significantly correlated."
   ]
  },
  {
   "cell_type": "markdown",
   "metadata": {},
   "source": [
    "### Statistical Testing"
   ]
  },
  {
   "cell_type": "markdown",
   "metadata": {},
   "source": [
    "I will perform hypothesis tests for correlation for the three features that showed correlation with price: bathrooms, bedrooms, and room type (Entire home/apartment). \n",
    "\n",
    "The null hypothesis for these tests is that the two features are NOT correlated, with the alternative hypothesis being the opposite."
   ]
  },
  {
   "cell_type": "markdown",
   "metadata": {},
   "source": [
    "#### Bathrooms and Price"
   ]
  },
  {
   "cell_type": "code",
   "execution_count": 13,
   "metadata": {},
   "outputs": [
    {
     "name": "stdout",
     "output_type": "stream",
     "text": [
      "Observed Pearson correlation coefficient: 0.53\n",
      "p-value: 0.0\n",
      "Reject null hypothesis\n"
     ]
    }
   ],
   "source": [
    "# conduct hypothesis test of correlation\n",
    "# test statistic is the Pearson correlation coefficient (r)\n",
    "alpha = 0.05\n",
    "bathrooms = df['bathrooms'].astype(float)\n",
    "price = df['price_USD'].astype(float)\n",
    "obs_r = np.corrcoef(bathrooms, price)[0,1]\n",
    "print('Observed Pearson correlation coefficient:', round(obs_r,3))\n",
    "\n",
    "# use permutation to generate replicates of the data assuming no correlation is present\n",
    "replicates = np.empty(10000)\n",
    "\n",
    "for i in range(len(replicates)):\n",
    "    # permute discharge data\n",
    "    permuted = np.random.permutation(bathrooms)\n",
    "    \n",
    "    # compute r and add to replicates array\n",
    "    replicates[i] = np.corrcoef(permuted, price)[0,1]\n",
    "    \n",
    "p_value = np.sum(replicates >= obs_r) / len(replicates)\n",
    "\n",
    "print('p-value:', float(p_value))\n",
    "if p_value < alpha:\n",
    "    print('Reject null hypothesis')\n",
    "else:\n",
    "    print('Fail to reject null hypothesis')"
   ]
  },
  {
   "cell_type": "markdown",
   "metadata": {},
   "source": [
    "#### Bedrooms and Price"
   ]
  },
  {
   "cell_type": "code",
   "execution_count": 14,
   "metadata": {},
   "outputs": [
    {
     "name": "stdout",
     "output_type": "stream",
     "text": [
      "Observed Pearson correlation coefficient: 0.632\n",
      "p-value: 0.0\n",
      "Reject null hypothesis\n"
     ]
    }
   ],
   "source": [
    "# conduct hypothesis test of correlation\n",
    "# test statistic is the Pearson correlation coefficient (r)\n",
    "alpha = 0.05\n",
    "bedrooms = df['bedrooms'].astype(float)\n",
    "price = df['price_USD'].astype(float)\n",
    "obs_r = np.corrcoef(bedrooms, price)[0,1]\n",
    "print('Observed Pearson correlation coefficient:', round(obs_r,3))\n",
    "\n",
    "# use permutation to generate replicates of the data assuming no correlation is present\n",
    "replicates = np.empty(10000)\n",
    "\n",
    "for i in range(len(replicates)):\n",
    "    # permute discharge data\n",
    "    permuted = np.random.permutation(bedrooms)\n",
    "    \n",
    "    # compute r and add to replicates array\n",
    "    replicates[i] = np.corrcoef(permuted, price)[0,1]\n",
    "    \n",
    "p_value = np.sum(replicates >= obs_r) / len(replicates)\n",
    "\n",
    "print('p-value:', float(p_value))\n",
    "if p_value < alpha:\n",
    "    print('Reject null hypothesis')\n",
    "else:\n",
    "    print('Fail to reject null hypothesis')"
   ]
  },
  {
   "cell_type": "markdown",
   "metadata": {},
   "source": [
    "#### Room Type and Price"
   ]
  },
  {
   "cell_type": "code",
   "execution_count": 15,
   "metadata": {},
   "outputs": [
    {
     "name": "stdout",
     "output_type": "stream",
     "text": [
      "Observed Pearson correlation coefficient: 0.433\n",
      "p-value: 0.0\n",
      "Reject null hypothesis\n"
     ]
    }
   ],
   "source": [
    "# conduct hypothesis test of correlation\n",
    "# test statistic is the Pearson correlation coefficient (r)\n",
    "alpha = 0.05\n",
    "home = df['room_type_Entire home/apt'].astype(float)\n",
    "price = df['price_USD'].astype(float)\n",
    "obs_r = np.corrcoef(home, price)[0,1]\n",
    "print('Observed Pearson correlation coefficient:', round(obs_r,3))\n",
    "\n",
    "# use permutation to generate replicates of the data assuming no correlation is present\n",
    "replicates = np.empty(10000)\n",
    "\n",
    "for i in range(len(replicates)):\n",
    "    # permute discharge data\n",
    "    permuted = np.random.permutation(home)\n",
    "    \n",
    "    # compute r and add to replicates array\n",
    "    replicates[i] = np.corrcoef(permuted, price)[0,1]\n",
    "    \n",
    "p_value = np.sum(replicates >= obs_r) / len(replicates)\n",
    "\n",
    "print('p-value:', float(p_value))\n",
    "if p_value < alpha:\n",
    "    print('Reject null hypothesis')\n",
    "else:\n",
    "    print('Fail to reject null hypothesis')"
   ]
  },
  {
   "cell_type": "markdown",
   "metadata": {},
   "source": [
    "All three tests reject the null hypothesis, meaning that a correlation does exist between price and the three features of bedrooms, bathrooms, and room type."
   ]
  },
  {
   "cell_type": "markdown",
   "metadata": {},
   "source": [
    "### Re-evaluation of project question"
   ]
  },
  {
   "cell_type": "markdown",
   "metadata": {},
   "source": [
    "The biggest finding of my statistical analysis is that it appears that the 'bedrooms' and 'room_type_entire Home/apt' features will most likely be important to the our machine learning model. Additionally, we had statistically significant confirmation that many of the features we thought were correlated indeed are. \n",
    "\n",
    "Moving forward, the machine learning analysis will likely offer more complex insights than this statistical analysis, especially as I incorporate information from the reviews data. It may be the case that some features that are not significant in this analysis play a larger role down the line.\n",
    "\n",
    "This analysis does not alter the initial project question of trying to decipher a listing's price from its other features."
   ]
  }
 ],
 "metadata": {
  "kernelspec": {
   "display_name": "Python 3",
   "language": "python",
   "name": "python3"
  },
  "language_info": {
   "codemirror_mode": {
    "name": "ipython",
    "version": 3
   },
   "file_extension": ".py",
   "mimetype": "text/x-python",
   "name": "python",
   "nbconvert_exporter": "python",
   "pygments_lexer": "ipython3",
   "version": "3.7.2"
  }
 },
 "nbformat": 4,
 "nbformat_minor": 2
}
