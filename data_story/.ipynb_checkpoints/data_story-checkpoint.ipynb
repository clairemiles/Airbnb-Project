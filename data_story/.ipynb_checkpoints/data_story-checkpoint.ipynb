{
 "cells": [
  {
   "cell_type": "markdown",
   "metadata": {},
   "source": [
    "## Data Story\n",
    "\n",
    "In this notebook, I will explore a subset of the data using the Los Angeles files and try to uncover some interesting initial trends and qualities of the Airbnb data. Since the reviews data only contains ID numbers and review text (which will be analyzed with machine learning later on in the project), I will be focusing on the listings data in this notebook."
   ]
  },
  {
   "cell_type": "code",
   "execution_count": 1,
   "metadata": {},
   "outputs": [],
   "source": [
    "# import relevant packages\n",
    "import pandas as pd\n",
    "import matplotlib.pyplot as plt\n",
    "import seaborn as sns\n",
    "%matplotlib inline"
   ]
  },
  {
   "cell_type": "code",
   "execution_count": 2,
   "metadata": {},
   "outputs": [],
   "source": [
    "# show all columns\n",
    "pd.set_option('display.max_columns', None)"
   ]
  },
  {
   "cell_type": "code",
   "execution_count": 3,
   "metadata": {},
   "outputs": [
    {
     "name": "stderr",
     "output_type": "stream",
     "text": [
      "/anaconda3/lib/python3.7/site-packages/IPython/core/interactiveshell.py:2785: DtypeWarning: Columns (0,2,4,5,7,9,10,14,16,18,21,22,24,25,28,29,30,31,35,37,40,41,44,45,46,47,48,49,54,59,60,61,67,72,73,74,86,92,93,95) have mixed types. Specify dtype option on import or set low_memory=False.\n",
      "  interactivity=interactivity, compiler=compiler, result=result)\n"
     ]
    }
   ],
   "source": [
    "# load the data\n",
    "listings = pd.read_csv('/Users/limesncoconuts2/springboard_data/data_capstone_one/csv/los-angeles_listings.csv')"
   ]
  },
  {
   "cell_type": "code",
   "execution_count": 4,
   "metadata": {},
   "outputs": [
    {
     "data": {
      "text/html": [
       "<div>\n",
       "<style scoped>\n",
       "    .dataframe tbody tr th:only-of-type {\n",
       "        vertical-align: middle;\n",
       "    }\n",
       "\n",
       "    .dataframe tbody tr th {\n",
       "        vertical-align: top;\n",
       "    }\n",
       "\n",
       "    .dataframe thead th {\n",
       "        text-align: right;\n",
       "    }\n",
       "</style>\n",
       "<table border=\"1\" class=\"dataframe\">\n",
       "  <thead>\n",
       "    <tr style=\"text-align: right;\">\n",
       "      <th></th>\n",
       "      <th>access</th>\n",
       "      <th>accommodates</th>\n",
       "      <th>amenities</th>\n",
       "      <th>availability_30</th>\n",
       "      <th>availability_365</th>\n",
       "      <th>availability_60</th>\n",
       "      <th>availability_90</th>\n",
       "      <th>bathrooms</th>\n",
       "      <th>bed_type</th>\n",
       "      <th>bedrooms</th>\n",
       "      <th>beds</th>\n",
       "      <th>calculated_host_listings_count</th>\n",
       "      <th>calendar_last_scraped</th>\n",
       "      <th>calendar_updated</th>\n",
       "      <th>cancellation_policy</th>\n",
       "      <th>city</th>\n",
       "      <th>cleaning_fee_USD</th>\n",
       "      <th>country</th>\n",
       "      <th>country_code</th>\n",
       "      <th>date_recorded</th>\n",
       "      <th>description</th>\n",
       "      <th>experiences_offered</th>\n",
       "      <th>extra_people_USD</th>\n",
       "      <th>first_review</th>\n",
       "      <th>guests_included</th>\n",
       "      <th>has_availability</th>\n",
       "      <th>host_about</th>\n",
       "      <th>host_acceptance_rate_percentage</th>\n",
       "      <th>host_has_profile_pic</th>\n",
       "      <th>host_id</th>\n",
       "      <th>host_identity_verified</th>\n",
       "      <th>host_is_superhost</th>\n",
       "      <th>host_listings_count</th>\n",
       "      <th>host_location</th>\n",
       "      <th>host_name</th>\n",
       "      <th>host_neighbourhood</th>\n",
       "      <th>host_picture_url</th>\n",
       "      <th>host_response_rate_percentage</th>\n",
       "      <th>host_response_time</th>\n",
       "      <th>host_since</th>\n",
       "      <th>host_thumbnail_url</th>\n",
       "      <th>host_total_listings_count</th>\n",
       "      <th>host_url</th>\n",
       "      <th>host_verifications</th>\n",
       "      <th>house_rules</th>\n",
       "      <th>id</th>\n",
       "      <th>instant_bookable</th>\n",
       "      <th>interaction</th>\n",
       "      <th>is_business_travel_ready</th>\n",
       "      <th>is_location_exact</th>\n",
       "      <th>jurisdiction_names</th>\n",
       "      <th>last_review</th>\n",
       "      <th>last_scraped</th>\n",
       "      <th>latitude</th>\n",
       "      <th>license</th>\n",
       "      <th>listing_url</th>\n",
       "      <th>longitude</th>\n",
       "      <th>market</th>\n",
       "      <th>maximum_nights</th>\n",
       "      <th>medium_url</th>\n",
       "      <th>minimum_nights</th>\n",
       "      <th>monthly_price_USD</th>\n",
       "      <th>name</th>\n",
       "      <th>neighborhood_overview</th>\n",
       "      <th>neighbourhood</th>\n",
       "      <th>neighbourhood_cleansed</th>\n",
       "      <th>neighbourhood_group_cleansed</th>\n",
       "      <th>notes</th>\n",
       "      <th>number_of_reviews</th>\n",
       "      <th>picture_url</th>\n",
       "      <th>price_USD</th>\n",
       "      <th>property_type</th>\n",
       "      <th>require_guest_phone_verification</th>\n",
       "      <th>require_guest_profile_picture</th>\n",
       "      <th>requires_license</th>\n",
       "      <th>review_scores_accuracy</th>\n",
       "      <th>review_scores_checkin</th>\n",
       "      <th>review_scores_cleanliness</th>\n",
       "      <th>review_scores_communication</th>\n",
       "      <th>review_scores_location</th>\n",
       "      <th>review_scores_rating</th>\n",
       "      <th>review_scores_value</th>\n",
       "      <th>reviews_per_month</th>\n",
       "      <th>room_type</th>\n",
       "      <th>scrape_id</th>\n",
       "      <th>security_deposit_USD</th>\n",
       "      <th>smart_location</th>\n",
       "      <th>space</th>\n",
       "      <th>square_feet</th>\n",
       "      <th>state</th>\n",
       "      <th>street</th>\n",
       "      <th>summary</th>\n",
       "      <th>thumbnail_url</th>\n",
       "      <th>transit</th>\n",
       "      <th>weekly_price_USD</th>\n",
       "      <th>xl_picture_url</th>\n",
       "      <th>zipcode</th>\n",
       "    </tr>\n",
       "  </thead>\n",
       "  <tbody>\n",
       "    <tr>\n",
       "      <th>0</th>\n",
       "      <td>NaN</td>\n",
       "      <td>2.0</td>\n",
       "      <td>{Internet,\"Wireless Internet\",\"Air Conditionin...</td>\n",
       "      <td>30.0</td>\n",
       "      <td>365</td>\n",
       "      <td>60</td>\n",
       "      <td>90.0</td>\n",
       "      <td>1</td>\n",
       "      <td>Real Bed</td>\n",
       "      <td>1</td>\n",
       "      <td>1</td>\n",
       "      <td>1.0</td>\n",
       "      <td>2015-07-28</td>\n",
       "      <td>6 months ago</td>\n",
       "      <td>moderate</td>\n",
       "      <td>Arcadia</td>\n",
       "      <td>10</td>\n",
       "      <td>United States</td>\n",
       "      <td>US</td>\n",
       "      <td>2015-07-25</td>\n",
       "      <td>安靜舒適的独立大套房. 阳光明媚的大卧室，(附帶冰箱)一个超大衣帽間和浴室. 提供免费无线高...</td>\n",
       "      <td>none</td>\n",
       "      <td>20</td>\n",
       "      <td>2014-09-15</td>\n",
       "      <td>1</td>\n",
       "      <td>True</td>\n",
       "      <td>NaN</td>\n",
       "      <td>100.0</td>\n",
       "      <td>True</td>\n",
       "      <td>20130073</td>\n",
       "      <td>False</td>\n",
       "      <td>False</td>\n",
       "      <td>1.0</td>\n",
       "      <td>PH</td>\n",
       "      <td>Cici</td>\n",
       "      <td>NaN</td>\n",
       "      <td>https://a2.muscache.com/ac/users/20130073/prof...</td>\n",
       "      <td>100</td>\n",
       "      <td>within a day</td>\n",
       "      <td>2014-08-16</td>\n",
       "      <td>https://a2.muscache.com/ac/users/20130073/prof...</td>\n",
       "      <td>1</td>\n",
       "      <td>https://www.airbnb.com/users/show/20130073</td>\n",
       "      <td>['email', 'phone', 'reviews']</td>\n",
       "      <td>NaN</td>\n",
       "      <td>3890624</td>\n",
       "      <td>False</td>\n",
       "      <td>NaN</td>\n",
       "      <td>NaN</td>\n",
       "      <td>True</td>\n",
       "      <td>NaN</td>\n",
       "      <td>2014-11-02</td>\n",
       "      <td>2015-07-28</td>\n",
       "      <td>34.132812</td>\n",
       "      <td>NaN</td>\n",
       "      <td>https://www.airbnb.com/rooms/3890624</td>\n",
       "      <td>-118.025147</td>\n",
       "      <td>Los Angeles</td>\n",
       "      <td>1125.0</td>\n",
       "      <td>https://a0.muscache.com/ac/pictures/52102815/8...</td>\n",
       "      <td>1</td>\n",
       "      <td>NaN</td>\n",
       "      <td>安靜舒適的独立大套房,非常适合专业商務人士，学生，实习，渡假遊學...</td>\n",
       "      <td>风景秀丽，豪宅林立，闹中取静，交通方便，华人超市!</td>\n",
       "      <td>NaN</td>\n",
       "      <td>Arcadia</td>\n",
       "      <td>NaN</td>\n",
       "      <td>无合约要求，适合短期旅游，探亲访友，随时拎包入住，</td>\n",
       "      <td>2.0</td>\n",
       "      <td>https://a0.muscache.com/ac/pictures/52102815/8...</td>\n",
       "      <td>90.0</td>\n",
       "      <td>House</td>\n",
       "      <td>False</td>\n",
       "      <td>False</td>\n",
       "      <td>False</td>\n",
       "      <td>10.0</td>\n",
       "      <td>10.0</td>\n",
       "      <td>8.0</td>\n",
       "      <td>10.0</td>\n",
       "      <td>10.0</td>\n",
       "      <td>90.0</td>\n",
       "      <td>8.0</td>\n",
       "      <td>0.19</td>\n",
       "      <td>Private room</td>\n",
       "      <td>2.015073e+13</td>\n",
       "      <td>NaN</td>\n",
       "      <td>NaN</td>\n",
       "      <td>安靜舒適的独立大套房. 阳光明媚的大卧室，(附帶冰箱)一个超大衣帽間和浴室.</td>\n",
       "      <td>NaN</td>\n",
       "      <td>CA</td>\n",
       "      <td>South 2nd Avenue, Arcadia, CA 91006, United St...</td>\n",
       "      <td>我們j位於Arcadia市中心,非常适合专业商務人士，学生，渡假遊學...鄰近高速公路,餐厅...</td>\n",
       "      <td>https://a0.muscache.com/ac/pictures/52102815/8...</td>\n",
       "      <td>聚集高尔夫球场，网球场，大型购物中心，影院，图书馆，大型街心公园，跑马场，医院，诊所。非常便...</td>\n",
       "      <td>650.0</td>\n",
       "      <td>https://a0.muscache.com/ac/pictures/52102815/8...</td>\n",
       "      <td>91006.0</td>\n",
       "    </tr>\n",
       "    <tr>\n",
       "      <th>1</th>\n",
       "      <td>NaN</td>\n",
       "      <td>1.0</td>\n",
       "      <td>{TV,\"Cable TV\",Internet,\"Wireless Internet\",\"A...</td>\n",
       "      <td>30.0</td>\n",
       "      <td>365</td>\n",
       "      <td>60</td>\n",
       "      <td>90.0</td>\n",
       "      <td>1</td>\n",
       "      <td>Real Bed</td>\n",
       "      <td>1</td>\n",
       "      <td>1</td>\n",
       "      <td>1.0</td>\n",
       "      <td>2015-07-28</td>\n",
       "      <td>never</td>\n",
       "      <td>flexible</td>\n",
       "      <td>Los Angeles</td>\n",
       "      <td>NaN</td>\n",
       "      <td>United States</td>\n",
       "      <td>US</td>\n",
       "      <td>2015-07-25</td>\n",
       "      <td>Small but real clean apartment in Hancock Park...</td>\n",
       "      <td>none</td>\n",
       "      <td>0</td>\n",
       "      <td>NaN</td>\n",
       "      <td>1</td>\n",
       "      <td>True</td>\n",
       "      <td>Clean &amp; well educated, proffessional, mature</td>\n",
       "      <td>NaN</td>\n",
       "      <td>True</td>\n",
       "      <td>8786086</td>\n",
       "      <td>False</td>\n",
       "      <td>False</td>\n",
       "      <td>1.0</td>\n",
       "      <td>Los Angeles, California, United States</td>\n",
       "      <td>Nick</td>\n",
       "      <td>Mid-Wilshire</td>\n",
       "      <td>https://a0.muscache.com/ac/users/8786086/profi...</td>\n",
       "      <td>NaN</td>\n",
       "      <td>NaN</td>\n",
       "      <td>2013-09-12</td>\n",
       "      <td>https://a0.muscache.com/ac/users/8786086/profi...</td>\n",
       "      <td>1</td>\n",
       "      <td>https://www.airbnb.com/users/show/8786086</td>\n",
       "      <td>['email', 'phone']</td>\n",
       "      <td>NaN</td>\n",
       "      <td>1661292</td>\n",
       "      <td>False</td>\n",
       "      <td>NaN</td>\n",
       "      <td>NaN</td>\n",
       "      <td>True</td>\n",
       "      <td>NaN</td>\n",
       "      <td>NaN</td>\n",
       "      <td>2015-07-28</td>\n",
       "      <td>34.079586</td>\n",
       "      <td>NaN</td>\n",
       "      <td>https://www.airbnb.com/rooms/1661292</td>\n",
       "      <td>-118.341913</td>\n",
       "      <td>Los Angeles</td>\n",
       "      <td>1125.0</td>\n",
       "      <td>https://a2.muscache.com/ac/pictures/23837943/9...</td>\n",
       "      <td>1</td>\n",
       "      <td>NaN</td>\n",
       "      <td>Shared Small Well Decorated &amp; Clean</td>\n",
       "      <td>NaN</td>\n",
       "      <td>Mid-Wilshire</td>\n",
       "      <td>Hancock Park</td>\n",
       "      <td>NaN</td>\n",
       "      <td>NaN</td>\n",
       "      <td>0.0</td>\n",
       "      <td>https://a2.muscache.com/ac/pictures/23837943/9...</td>\n",
       "      <td>75.0</td>\n",
       "      <td>Apartment</td>\n",
       "      <td>False</td>\n",
       "      <td>False</td>\n",
       "      <td>False</td>\n",
       "      <td>NaN</td>\n",
       "      <td>NaN</td>\n",
       "      <td>NaN</td>\n",
       "      <td>NaN</td>\n",
       "      <td>NaN</td>\n",
       "      <td>NaN</td>\n",
       "      <td>NaN</td>\n",
       "      <td>NaN</td>\n",
       "      <td>Shared room</td>\n",
       "      <td>2.015073e+13</td>\n",
       "      <td>NaN</td>\n",
       "      <td>NaN</td>\n",
       "      <td>NaN</td>\n",
       "      <td>NaN</td>\n",
       "      <td>CA</td>\n",
       "      <td>North Sycamore Avenue, Los Angeles, CA 90036, ...</td>\n",
       "      <td>Small but real clean apartment in Hancock Park...</td>\n",
       "      <td>https://a2.muscache.com/ac/pictures/23837943/9...</td>\n",
       "      <td>NaN</td>\n",
       "      <td>500.0</td>\n",
       "      <td>https://a2.muscache.com/ac/pictures/23837943/9...</td>\n",
       "      <td>90036.0</td>\n",
       "    </tr>\n",
       "    <tr>\n",
       "      <th>2</th>\n",
       "      <td>NaN</td>\n",
       "      <td>6.0</td>\n",
       "      <td>{TV,\"Cable TV\",Internet,\"Wireless Internet\",\"A...</td>\n",
       "      <td>0.0</td>\n",
       "      <td>24</td>\n",
       "      <td>0</td>\n",
       "      <td>0.0</td>\n",
       "      <td>3</td>\n",
       "      <td>Real Bed</td>\n",
       "      <td>3</td>\n",
       "      <td>4</td>\n",
       "      <td>1.0</td>\n",
       "      <td>2015-07-28</td>\n",
       "      <td>7 weeks ago</td>\n",
       "      <td>flexible</td>\n",
       "      <td>Los Angeles</td>\n",
       "      <td>120</td>\n",
       "      <td>United States</td>\n",
       "      <td>US</td>\n",
       "      <td>2015-07-25</td>\n",
       "      <td>Originally built in 1922, this Italian-style v...</td>\n",
       "      <td>none</td>\n",
       "      <td>0</td>\n",
       "      <td>NaN</td>\n",
       "      <td>1</td>\n",
       "      <td>True</td>\n",
       "      <td>NaN</td>\n",
       "      <td>NaN</td>\n",
       "      <td>True</td>\n",
       "      <td>35283911</td>\n",
       "      <td>False</td>\n",
       "      <td>False</td>\n",
       "      <td>1.0</td>\n",
       "      <td>US</td>\n",
       "      <td>Grant</td>\n",
       "      <td>Hollywood Hills</td>\n",
       "      <td>https://a1.muscache.com/ac/users/35283911/prof...</td>\n",
       "      <td>100</td>\n",
       "      <td>within a few hours</td>\n",
       "      <td>2015-06-08</td>\n",
       "      <td>https://a1.muscache.com/ac/users/35283911/prof...</td>\n",
       "      <td>1</td>\n",
       "      <td>https://www.airbnb.com/users/show/35283911</td>\n",
       "      <td>['email', 'phone']</td>\n",
       "      <td>NaN</td>\n",
       "      <td>6737686</td>\n",
       "      <td>False</td>\n",
       "      <td>NaN</td>\n",
       "      <td>NaN</td>\n",
       "      <td>True</td>\n",
       "      <td>NaN</td>\n",
       "      <td>NaN</td>\n",
       "      <td>2015-07-28</td>\n",
       "      <td>34.109388</td>\n",
       "      <td>NaN</td>\n",
       "      <td>https://www.airbnb.com/rooms/6737686</td>\n",
       "      <td>-118.318135</td>\n",
       "      <td>Los Angeles</td>\n",
       "      <td>1125.0</td>\n",
       "      <td>https://a1.muscache.com/ac/pictures/85102851/4...</td>\n",
       "      <td>1</td>\n",
       "      <td>NaN</td>\n",
       "      <td>\"Villa Maria\" in Hollywood Hills</td>\n",
       "      <td>NaN</td>\n",
       "      <td>Hollywood Hills</td>\n",
       "      <td>Hollywood Hills</td>\n",
       "      <td>NaN</td>\n",
       "      <td>NaN</td>\n",
       "      <td>0.0</td>\n",
       "      <td>https://a1.muscache.com/ac/pictures/85102851/4...</td>\n",
       "      <td>NaN</td>\n",
       "      <td>House</td>\n",
       "      <td>False</td>\n",
       "      <td>False</td>\n",
       "      <td>False</td>\n",
       "      <td>NaN</td>\n",
       "      <td>NaN</td>\n",
       "      <td>NaN</td>\n",
       "      <td>NaN</td>\n",
       "      <td>NaN</td>\n",
       "      <td>NaN</td>\n",
       "      <td>NaN</td>\n",
       "      <td>NaN</td>\n",
       "      <td>Entire home/apt</td>\n",
       "      <td>2.015073e+13</td>\n",
       "      <td>NaN</td>\n",
       "      <td>NaN</td>\n",
       "      <td>NaN</td>\n",
       "      <td>NaN</td>\n",
       "      <td>CA</td>\n",
       "      <td>Foothill Drive, Los Angeles, CA 90068, United ...</td>\n",
       "      <td>Originally built in 1922, this Italian-style v...</td>\n",
       "      <td>https://a1.muscache.com/ac/pictures/85102851/4...</td>\n",
       "      <td>NaN</td>\n",
       "      <td>NaN</td>\n",
       "      <td>https://a1.muscache.com/ac/pictures/85102851/4...</td>\n",
       "      <td>90068.0</td>\n",
       "    </tr>\n",
       "    <tr>\n",
       "      <th>3</th>\n",
       "      <td>NaN</td>\n",
       "      <td>1.0</td>\n",
       "      <td>{TV,\"Cable TV\",Internet,\"Wireless Internet\",\"A...</td>\n",
       "      <td>15.0</td>\n",
       "      <td>344</td>\n",
       "      <td>39</td>\n",
       "      <td>69.0</td>\n",
       "      <td>1</td>\n",
       "      <td>Couch</td>\n",
       "      <td>1</td>\n",
       "      <td>1</td>\n",
       "      <td>2.0</td>\n",
       "      <td>2015-07-28</td>\n",
       "      <td>3 days ago</td>\n",
       "      <td>flexible</td>\n",
       "      <td>Los Angeles</td>\n",
       "      <td>5</td>\n",
       "      <td>United States</td>\n",
       "      <td>US</td>\n",
       "      <td>2015-07-25</td>\n",
       "      <td>Extra comfy beanbag that can easily fit two.  ...</td>\n",
       "      <td>none</td>\n",
       "      <td>15</td>\n",
       "      <td>2015-01-15</td>\n",
       "      <td>1</td>\n",
       "      <td>True</td>\n",
       "      <td>My name is Sheerene and I live with my boyfrie...</td>\n",
       "      <td>86.0</td>\n",
       "      <td>True</td>\n",
       "      <td>12223017</td>\n",
       "      <td>True</td>\n",
       "      <td>False</td>\n",
       "      <td>3.0</td>\n",
       "      <td>Los Angeles, California, United States</td>\n",
       "      <td>Sheerene</td>\n",
       "      <td>Westside</td>\n",
       "      <td>https://a1.muscache.com/ac/users/12223017/prof...</td>\n",
       "      <td>53</td>\n",
       "      <td>within a day</td>\n",
       "      <td>2014-02-13</td>\n",
       "      <td>https://a1.muscache.com/ac/users/12223017/prof...</td>\n",
       "      <td>3</td>\n",
       "      <td>https://www.airbnb.com/users/show/12223017</td>\n",
       "      <td>['email', 'phone', 'reviews', 'jumio']</td>\n",
       "      <td>NaN</td>\n",
       "      <td>5046813</td>\n",
       "      <td>False</td>\n",
       "      <td>NaN</td>\n",
       "      <td>NaN</td>\n",
       "      <td>False</td>\n",
       "      <td>NaN</td>\n",
       "      <td>2015-07-12</td>\n",
       "      <td>2015-07-28</td>\n",
       "      <td>34.029917</td>\n",
       "      <td>NaN</td>\n",
       "      <td>https://www.airbnb.com/rooms/5046813</td>\n",
       "      <td>-118.403306</td>\n",
       "      <td>Los Angeles</td>\n",
       "      <td>1125.0</td>\n",
       "      <td>https://a0.muscache.com/ac/pictures/74769434/8...</td>\n",
       "      <td>1</td>\n",
       "      <td>NaN</td>\n",
       "      <td>Extra Large Beanbag</td>\n",
       "      <td>NaN</td>\n",
       "      <td>NaN</td>\n",
       "      <td>Cheviot Hills</td>\n",
       "      <td>NaN</td>\n",
       "      <td>NaN</td>\n",
       "      <td>16.0</td>\n",
       "      <td>https://a0.muscache.com/ac/pictures/74769434/8...</td>\n",
       "      <td>30.0</td>\n",
       "      <td>Apartment</td>\n",
       "      <td>False</td>\n",
       "      <td>False</td>\n",
       "      <td>False</td>\n",
       "      <td>10.0</td>\n",
       "      <td>10.0</td>\n",
       "      <td>10.0</td>\n",
       "      <td>10.0</td>\n",
       "      <td>10.0</td>\n",
       "      <td>98.0</td>\n",
       "      <td>10.0</td>\n",
       "      <td>2.46</td>\n",
       "      <td>Shared room</td>\n",
       "      <td>2.015073e+13</td>\n",
       "      <td>NaN</td>\n",
       "      <td>NaN</td>\n",
       "      <td>Check in is 4pm. Check out is 11am. No excepti...</td>\n",
       "      <td>NaN</td>\n",
       "      <td>CA</td>\n",
       "      <td>Club Dr, Los Angeles, CA 90064, United States</td>\n",
       "      <td>Extra comfy beanbag that can easily fit two.</td>\n",
       "      <td>https://a0.muscache.com/ac/pictures/74769434/8...</td>\n",
       "      <td>#12 Bus is 100 yards from the apartment and ru...</td>\n",
       "      <td>NaN</td>\n",
       "      <td>https://a0.muscache.com/ac/pictures/74769434/8...</td>\n",
       "      <td>90064.0</td>\n",
       "    </tr>\n",
       "    <tr>\n",
       "      <th>4</th>\n",
       "      <td>NaN</td>\n",
       "      <td>2.0</td>\n",
       "      <td>{\"Cable TV\",Internet,\"Wireless Internet\",Kitch...</td>\n",
       "      <td>18.0</td>\n",
       "      <td>261</td>\n",
       "      <td>32</td>\n",
       "      <td>62.0</td>\n",
       "      <td>1</td>\n",
       "      <td>Real Bed</td>\n",
       "      <td>1</td>\n",
       "      <td>1</td>\n",
       "      <td>6.0</td>\n",
       "      <td>2015-07-28</td>\n",
       "      <td>3 months ago</td>\n",
       "      <td>moderate</td>\n",
       "      <td>Pasadena</td>\n",
       "      <td>NaN</td>\n",
       "      <td>United States</td>\n",
       "      <td>US</td>\n",
       "      <td>2015-07-25</td>\n",
       "      <td>If you are planning to visit our wonderful cit...</td>\n",
       "      <td>none</td>\n",
       "      <td>10</td>\n",
       "      <td>2012-01-04</td>\n",
       "      <td>2</td>\n",
       "      <td>True</td>\n",
       "      <td>I am a  retired school teacher, but still very...</td>\n",
       "      <td>100.0</td>\n",
       "      <td>True</td>\n",
       "      <td>244186</td>\n",
       "      <td>True</td>\n",
       "      <td>False</td>\n",
       "      <td>6.0</td>\n",
       "      <td>Pasadena, California, United States</td>\n",
       "      <td>Albert</td>\n",
       "      <td>Pasadena</td>\n",
       "      <td>https://a1.muscache.com/ac/users/244186/profil...</td>\n",
       "      <td>100</td>\n",
       "      <td>within a few hours</td>\n",
       "      <td>2010-09-24</td>\n",
       "      <td>https://a1.muscache.com/ac/users/244186/profil...</td>\n",
       "      <td>6</td>\n",
       "      <td>https://www.airbnb.com/users/show/244186</td>\n",
       "      <td>['email', 'phone', 'reviews', 'jumio']</td>\n",
       "      <td>NaN</td>\n",
       "      <td>277038</td>\n",
       "      <td>True</td>\n",
       "      <td>NaN</td>\n",
       "      <td>NaN</td>\n",
       "      <td>True</td>\n",
       "      <td>NaN</td>\n",
       "      <td>2015-06-08</td>\n",
       "      <td>2015-07-28</td>\n",
       "      <td>34.151309</td>\n",
       "      <td>NaN</td>\n",
       "      <td>https://www.airbnb.com/rooms/277038</td>\n",
       "      <td>-118.106849</td>\n",
       "      <td>Los Angeles</td>\n",
       "      <td>365.0</td>\n",
       "      <td>https://a2.muscache.com/ac/pictures/7556540/fe...</td>\n",
       "      <td>2</td>\n",
       "      <td>NaN</td>\n",
       "      <td>Great Pasadena Historical Landmark</td>\n",
       "      <td>NaN</td>\n",
       "      <td>Pasadena</td>\n",
       "      <td>Pasadena</td>\n",
       "      <td>NaN</td>\n",
       "      <td>NaN</td>\n",
       "      <td>28.0</td>\n",
       "      <td>https://a2.muscache.com/ac/pictures/7556540/fe...</td>\n",
       "      <td>70.0</td>\n",
       "      <td>House</td>\n",
       "      <td>False</td>\n",
       "      <td>False</td>\n",
       "      <td>False</td>\n",
       "      <td>10.0</td>\n",
       "      <td>10.0</td>\n",
       "      <td>9.0</td>\n",
       "      <td>10.0</td>\n",
       "      <td>9.0</td>\n",
       "      <td>96.0</td>\n",
       "      <td>10.0</td>\n",
       "      <td>0.65</td>\n",
       "      <td>Private room</td>\n",
       "      <td>2.015073e+13</td>\n",
       "      <td>NaN</td>\n",
       "      <td>NaN</td>\n",
       "      <td>If you are planning to visit our wonderful cit...</td>\n",
       "      <td>175.0</td>\n",
       "      <td>CA</td>\n",
       "      <td>Martelo Ave, Pasadena, CA 91107, United States</td>\n",
       "      <td>NaN</td>\n",
       "      <td>https://a2.muscache.com/ac/pictures/7556540/fe...</td>\n",
       "      <td>NaN</td>\n",
       "      <td>350.0</td>\n",
       "      <td>https://a2.muscache.com/ac/pictures/7556540/fe...</td>\n",
       "      <td>91107.0</td>\n",
       "    </tr>\n",
       "  </tbody>\n",
       "</table>\n",
       "</div>"
      ],
      "text/plain": [
       "  access  accommodates                                          amenities  \\\n",
       "0    NaN           2.0  {Internet,\"Wireless Internet\",\"Air Conditionin...   \n",
       "1    NaN           1.0  {TV,\"Cable TV\",Internet,\"Wireless Internet\",\"A...   \n",
       "2    NaN           6.0  {TV,\"Cable TV\",Internet,\"Wireless Internet\",\"A...   \n",
       "3    NaN           1.0  {TV,\"Cable TV\",Internet,\"Wireless Internet\",\"A...   \n",
       "4    NaN           2.0  {\"Cable TV\",Internet,\"Wireless Internet\",Kitch...   \n",
       "\n",
       "   availability_30 availability_365 availability_60  availability_90  \\\n",
       "0             30.0              365              60             90.0   \n",
       "1             30.0              365              60             90.0   \n",
       "2              0.0               24               0              0.0   \n",
       "3             15.0              344              39             69.0   \n",
       "4             18.0              261              32             62.0   \n",
       "\n",
       "  bathrooms  bed_type bedrooms beds  calculated_host_listings_count  \\\n",
       "0         1  Real Bed        1    1                             1.0   \n",
       "1         1  Real Bed        1    1                             1.0   \n",
       "2         3  Real Bed        3    4                             1.0   \n",
       "3         1     Couch        1    1                             2.0   \n",
       "4         1  Real Bed        1    1                             6.0   \n",
       "\n",
       "  calendar_last_scraped calendar_updated cancellation_policy         city  \\\n",
       "0            2015-07-28     6 months ago            moderate      Arcadia   \n",
       "1            2015-07-28            never            flexible  Los Angeles   \n",
       "2            2015-07-28      7 weeks ago            flexible  Los Angeles   \n",
       "3            2015-07-28       3 days ago            flexible  Los Angeles   \n",
       "4            2015-07-28     3 months ago            moderate     Pasadena   \n",
       "\n",
       "  cleaning_fee_USD        country country_code date_recorded  \\\n",
       "0               10  United States           US    2015-07-25   \n",
       "1              NaN  United States           US    2015-07-25   \n",
       "2              120  United States           US    2015-07-25   \n",
       "3                5  United States           US    2015-07-25   \n",
       "4              NaN  United States           US    2015-07-25   \n",
       "\n",
       "                                         description experiences_offered  \\\n",
       "0  安靜舒適的独立大套房. 阳光明媚的大卧室，(附帶冰箱)一个超大衣帽間和浴室. 提供免费无线高...                none   \n",
       "1  Small but real clean apartment in Hancock Park...                none   \n",
       "2  Originally built in 1922, this Italian-style v...                none   \n",
       "3  Extra comfy beanbag that can easily fit two.  ...                none   \n",
       "4  If you are planning to visit our wonderful cit...                none   \n",
       "\n",
       "  extra_people_USD first_review guests_included has_availability  \\\n",
       "0               20   2014-09-15               1             True   \n",
       "1                0          NaN               1             True   \n",
       "2                0          NaN               1             True   \n",
       "3               15   2015-01-15               1             True   \n",
       "4               10   2012-01-04               2             True   \n",
       "\n",
       "                                          host_about  \\\n",
       "0                                                NaN   \n",
       "1       Clean & well educated, proffessional, mature   \n",
       "2                                                NaN   \n",
       "3  My name is Sheerene and I live with my boyfrie...   \n",
       "4  I am a  retired school teacher, but still very...   \n",
       "\n",
       "   host_acceptance_rate_percentage host_has_profile_pic   host_id  \\\n",
       "0                            100.0                 True  20130073   \n",
       "1                              NaN                 True   8786086   \n",
       "2                              NaN                 True  35283911   \n",
       "3                             86.0                 True  12223017   \n",
       "4                            100.0                 True    244186   \n",
       "\n",
       "  host_identity_verified host_is_superhost  host_listings_count  \\\n",
       "0                  False             False                  1.0   \n",
       "1                  False             False                  1.0   \n",
       "2                  False             False                  1.0   \n",
       "3                   True             False                  3.0   \n",
       "4                   True             False                  6.0   \n",
       "\n",
       "                            host_location host_name host_neighbourhood  \\\n",
       "0                                      PH      Cici                NaN   \n",
       "1  Los Angeles, California, United States      Nick       Mid-Wilshire   \n",
       "2                                      US     Grant    Hollywood Hills   \n",
       "3  Los Angeles, California, United States  Sheerene           Westside   \n",
       "4     Pasadena, California, United States    Albert           Pasadena   \n",
       "\n",
       "                                    host_picture_url  \\\n",
       "0  https://a2.muscache.com/ac/users/20130073/prof...   \n",
       "1  https://a0.muscache.com/ac/users/8786086/profi...   \n",
       "2  https://a1.muscache.com/ac/users/35283911/prof...   \n",
       "3  https://a1.muscache.com/ac/users/12223017/prof...   \n",
       "4  https://a1.muscache.com/ac/users/244186/profil...   \n",
       "\n",
       "  host_response_rate_percentage  host_response_time  host_since  \\\n",
       "0                           100        within a day  2014-08-16   \n",
       "1                           NaN                 NaN  2013-09-12   \n",
       "2                           100  within a few hours  2015-06-08   \n",
       "3                            53        within a day  2014-02-13   \n",
       "4                           100  within a few hours  2010-09-24   \n",
       "\n",
       "                                  host_thumbnail_url  \\\n",
       "0  https://a2.muscache.com/ac/users/20130073/prof...   \n",
       "1  https://a0.muscache.com/ac/users/8786086/profi...   \n",
       "2  https://a1.muscache.com/ac/users/35283911/prof...   \n",
       "3  https://a1.muscache.com/ac/users/12223017/prof...   \n",
       "4  https://a1.muscache.com/ac/users/244186/profil...   \n",
       "\n",
       "  host_total_listings_count                                    host_url  \\\n",
       "0                         1  https://www.airbnb.com/users/show/20130073   \n",
       "1                         1   https://www.airbnb.com/users/show/8786086   \n",
       "2                         1  https://www.airbnb.com/users/show/35283911   \n",
       "3                         3  https://www.airbnb.com/users/show/12223017   \n",
       "4                         6    https://www.airbnb.com/users/show/244186   \n",
       "\n",
       "                       host_verifications house_rules       id  \\\n",
       "0           ['email', 'phone', 'reviews']         NaN  3890624   \n",
       "1                      ['email', 'phone']         NaN  1661292   \n",
       "2                      ['email', 'phone']         NaN  6737686   \n",
       "3  ['email', 'phone', 'reviews', 'jumio']         NaN  5046813   \n",
       "4  ['email', 'phone', 'reviews', 'jumio']         NaN   277038   \n",
       "\n",
       "  instant_bookable interaction is_business_travel_ready is_location_exact  \\\n",
       "0            False         NaN                      NaN              True   \n",
       "1            False         NaN                      NaN              True   \n",
       "2            False         NaN                      NaN              True   \n",
       "3            False         NaN                      NaN             False   \n",
       "4             True         NaN                      NaN              True   \n",
       "\n",
       "  jurisdiction_names last_review last_scraped   latitude license  \\\n",
       "0                NaN  2014-11-02   2015-07-28  34.132812     NaN   \n",
       "1                NaN         NaN   2015-07-28  34.079586     NaN   \n",
       "2                NaN         NaN   2015-07-28  34.109388     NaN   \n",
       "3                NaN  2015-07-12   2015-07-28  34.029917     NaN   \n",
       "4                NaN  2015-06-08   2015-07-28  34.151309     NaN   \n",
       "\n",
       "                            listing_url   longitude       market  \\\n",
       "0  https://www.airbnb.com/rooms/3890624 -118.025147  Los Angeles   \n",
       "1  https://www.airbnb.com/rooms/1661292 -118.341913  Los Angeles   \n",
       "2  https://www.airbnb.com/rooms/6737686 -118.318135  Los Angeles   \n",
       "3  https://www.airbnb.com/rooms/5046813 -118.403306  Los Angeles   \n",
       "4   https://www.airbnb.com/rooms/277038 -118.106849  Los Angeles   \n",
       "\n",
       "   maximum_nights                                         medium_url  \\\n",
       "0          1125.0  https://a0.muscache.com/ac/pictures/52102815/8...   \n",
       "1          1125.0  https://a2.muscache.com/ac/pictures/23837943/9...   \n",
       "2          1125.0  https://a1.muscache.com/ac/pictures/85102851/4...   \n",
       "3          1125.0  https://a0.muscache.com/ac/pictures/74769434/8...   \n",
       "4           365.0  https://a2.muscache.com/ac/pictures/7556540/fe...   \n",
       "\n",
       "  minimum_nights monthly_price_USD                                 name  \\\n",
       "0              1               NaN  安靜舒適的独立大套房,非常适合专业商務人士，学生，实习，渡假遊學...   \n",
       "1              1               NaN  Shared Small Well Decorated & Clean   \n",
       "2              1               NaN     \"Villa Maria\" in Hollywood Hills   \n",
       "3              1               NaN                  Extra Large Beanbag   \n",
       "4              2               NaN   Great Pasadena Historical Landmark   \n",
       "\n",
       "       neighborhood_overview    neighbourhood neighbourhood_cleansed  \\\n",
       "0  风景秀丽，豪宅林立，闹中取静，交通方便，华人超市!              NaN                Arcadia   \n",
       "1                        NaN     Mid-Wilshire           Hancock Park   \n",
       "2                        NaN  Hollywood Hills        Hollywood Hills   \n",
       "3                        NaN              NaN          Cheviot Hills   \n",
       "4                        NaN         Pasadena               Pasadena   \n",
       "\n",
       "   neighbourhood_group_cleansed                       notes  \\\n",
       "0                           NaN  无合约要求，适合短期旅游，探亲访友，随时拎包入住，    \n",
       "1                           NaN                         NaN   \n",
       "2                           NaN                         NaN   \n",
       "3                           NaN                         NaN   \n",
       "4                           NaN                         NaN   \n",
       "\n",
       "   number_of_reviews                                        picture_url  \\\n",
       "0                2.0  https://a0.muscache.com/ac/pictures/52102815/8...   \n",
       "1                0.0  https://a2.muscache.com/ac/pictures/23837943/9...   \n",
       "2                0.0  https://a1.muscache.com/ac/pictures/85102851/4...   \n",
       "3               16.0  https://a0.muscache.com/ac/pictures/74769434/8...   \n",
       "4               28.0  https://a2.muscache.com/ac/pictures/7556540/fe...   \n",
       "\n",
       "   price_USD property_type require_guest_phone_verification  \\\n",
       "0       90.0         House                            False   \n",
       "1       75.0     Apartment                            False   \n",
       "2        NaN         House                            False   \n",
       "3       30.0     Apartment                            False   \n",
       "4       70.0         House                            False   \n",
       "\n",
       "  require_guest_profile_picture requires_license  review_scores_accuracy  \\\n",
       "0                         False            False                    10.0   \n",
       "1                         False            False                     NaN   \n",
       "2                         False            False                     NaN   \n",
       "3                         False            False                    10.0   \n",
       "4                         False            False                    10.0   \n",
       "\n",
       "   review_scores_checkin  review_scores_cleanliness  \\\n",
       "0                   10.0                        8.0   \n",
       "1                    NaN                        NaN   \n",
       "2                    NaN                        NaN   \n",
       "3                   10.0                       10.0   \n",
       "4                   10.0                        9.0   \n",
       "\n",
       "   review_scores_communication  review_scores_location  review_scores_rating  \\\n",
       "0                         10.0                    10.0                  90.0   \n",
       "1                          NaN                     NaN                   NaN   \n",
       "2                          NaN                     NaN                   NaN   \n",
       "3                         10.0                    10.0                  98.0   \n",
       "4                         10.0                     9.0                  96.0   \n",
       "\n",
       "   review_scores_value  reviews_per_month        room_type     scrape_id  \\\n",
       "0                  8.0               0.19     Private room  2.015073e+13   \n",
       "1                  NaN                NaN      Shared room  2.015073e+13   \n",
       "2                  NaN                NaN  Entire home/apt  2.015073e+13   \n",
       "3                 10.0               2.46      Shared room  2.015073e+13   \n",
       "4                 10.0               0.65     Private room  2.015073e+13   \n",
       "\n",
       "   security_deposit_USD smart_location  \\\n",
       "0                   NaN            NaN   \n",
       "1                   NaN            NaN   \n",
       "2                   NaN            NaN   \n",
       "3                   NaN            NaN   \n",
       "4                   NaN            NaN   \n",
       "\n",
       "                                               space  square_feet state  \\\n",
       "0             安靜舒適的独立大套房. 阳光明媚的大卧室，(附帶冰箱)一个超大衣帽間和浴室.          NaN    CA   \n",
       "1                                                NaN          NaN    CA   \n",
       "2                                                NaN          NaN    CA   \n",
       "3  Check in is 4pm. Check out is 11am. No excepti...          NaN    CA   \n",
       "4  If you are planning to visit our wonderful cit...        175.0    CA   \n",
       "\n",
       "                                              street  \\\n",
       "0  South 2nd Avenue, Arcadia, CA 91006, United St...   \n",
       "1  North Sycamore Avenue, Los Angeles, CA 90036, ...   \n",
       "2  Foothill Drive, Los Angeles, CA 90068, United ...   \n",
       "3      Club Dr, Los Angeles, CA 90064, United States   \n",
       "4     Martelo Ave, Pasadena, CA 91107, United States   \n",
       "\n",
       "                                             summary  \\\n",
       "0  我們j位於Arcadia市中心,非常适合专业商務人士，学生，渡假遊學...鄰近高速公路,餐厅...   \n",
       "1  Small but real clean apartment in Hancock Park...   \n",
       "2  Originally built in 1922, this Italian-style v...   \n",
       "3      Extra comfy beanbag that can easily fit two.    \n",
       "4                                                NaN   \n",
       "\n",
       "                                       thumbnail_url  \\\n",
       "0  https://a0.muscache.com/ac/pictures/52102815/8...   \n",
       "1  https://a2.muscache.com/ac/pictures/23837943/9...   \n",
       "2  https://a1.muscache.com/ac/pictures/85102851/4...   \n",
       "3  https://a0.muscache.com/ac/pictures/74769434/8...   \n",
       "4  https://a2.muscache.com/ac/pictures/7556540/fe...   \n",
       "\n",
       "                                             transit  weekly_price_USD  \\\n",
       "0  聚集高尔夫球场，网球场，大型购物中心，影院，图书馆，大型街心公园，跑马场，医院，诊所。非常便...             650.0   \n",
       "1                                                NaN             500.0   \n",
       "2                                                NaN               NaN   \n",
       "3  #12 Bus is 100 yards from the apartment and ru...               NaN   \n",
       "4                                                NaN             350.0   \n",
       "\n",
       "                                      xl_picture_url  zipcode  \n",
       "0  https://a0.muscache.com/ac/pictures/52102815/8...  91006.0  \n",
       "1  https://a2.muscache.com/ac/pictures/23837943/9...  90036.0  \n",
       "2  https://a1.muscache.com/ac/pictures/85102851/4...  90068.0  \n",
       "3  https://a0.muscache.com/ac/pictures/74769434/8...  90064.0  \n",
       "4  https://a2.muscache.com/ac/pictures/7556540/fe...  91107.0  "
      ]
     },
     "execution_count": 4,
     "metadata": {},
     "output_type": "execute_result"
    }
   ],
   "source": [
    "listings.head()"
   ]
  },
  {
   "cell_type": "markdown",
   "metadata": {},
   "source": [
    "The listings data has over 100 columns of information to analyze (see below), but in the case of predicting the price of a listing, we want to first look at the columns that pertain to attributes that we hypothesize will have the most influence on price."
   ]
  },
  {
   "cell_type": "code",
   "execution_count": 5,
   "metadata": {},
   "outputs": [
    {
     "data": {
      "text/plain": [
       "['access',\n",
       " 'accommodates',\n",
       " 'amenities',\n",
       " 'availability_30',\n",
       " 'availability_365',\n",
       " 'availability_60',\n",
       " 'availability_90',\n",
       " 'bathrooms',\n",
       " 'bed_type',\n",
       " 'bedrooms',\n",
       " 'beds',\n",
       " 'calculated_host_listings_count',\n",
       " 'calendar_last_scraped',\n",
       " 'calendar_updated',\n",
       " 'cancellation_policy',\n",
       " 'city',\n",
       " 'cleaning_fee_USD',\n",
       " 'country',\n",
       " 'country_code',\n",
       " 'date_recorded',\n",
       " 'description',\n",
       " 'experiences_offered',\n",
       " 'extra_people_USD',\n",
       " 'first_review',\n",
       " 'guests_included',\n",
       " 'has_availability',\n",
       " 'host_about',\n",
       " 'host_acceptance_rate_percentage',\n",
       " 'host_has_profile_pic',\n",
       " 'host_id',\n",
       " 'host_identity_verified',\n",
       " 'host_is_superhost',\n",
       " 'host_listings_count',\n",
       " 'host_location',\n",
       " 'host_name',\n",
       " 'host_neighbourhood',\n",
       " 'host_picture_url',\n",
       " 'host_response_rate_percentage',\n",
       " 'host_response_time',\n",
       " 'host_since',\n",
       " 'host_thumbnail_url',\n",
       " 'host_total_listings_count',\n",
       " 'host_url',\n",
       " 'host_verifications',\n",
       " 'house_rules',\n",
       " 'id',\n",
       " 'instant_bookable',\n",
       " 'interaction',\n",
       " 'is_business_travel_ready',\n",
       " 'is_location_exact',\n",
       " 'jurisdiction_names',\n",
       " 'last_review',\n",
       " 'last_scraped',\n",
       " 'latitude',\n",
       " 'license',\n",
       " 'listing_url',\n",
       " 'longitude',\n",
       " 'market',\n",
       " 'maximum_nights',\n",
       " 'medium_url',\n",
       " 'minimum_nights',\n",
       " 'monthly_price_USD',\n",
       " 'name',\n",
       " 'neighborhood_overview',\n",
       " 'neighbourhood',\n",
       " 'neighbourhood_cleansed',\n",
       " 'neighbourhood_group_cleansed',\n",
       " 'notes',\n",
       " 'number_of_reviews',\n",
       " 'picture_url',\n",
       " 'price_USD',\n",
       " 'property_type',\n",
       " 'require_guest_phone_verification',\n",
       " 'require_guest_profile_picture',\n",
       " 'requires_license',\n",
       " 'review_scores_accuracy',\n",
       " 'review_scores_checkin',\n",
       " 'review_scores_cleanliness',\n",
       " 'review_scores_communication',\n",
       " 'review_scores_location',\n",
       " 'review_scores_rating',\n",
       " 'review_scores_value',\n",
       " 'reviews_per_month',\n",
       " 'room_type',\n",
       " 'scrape_id',\n",
       " 'security_deposit_USD',\n",
       " 'smart_location',\n",
       " 'space',\n",
       " 'square_feet',\n",
       " 'state',\n",
       " 'street',\n",
       " 'summary',\n",
       " 'thumbnail_url',\n",
       " 'transit',\n",
       " 'weekly_price_USD',\n",
       " 'xl_picture_url',\n",
       " 'zipcode']"
      ]
     },
     "execution_count": 5,
     "metadata": {},
     "output_type": "execute_result"
    }
   ],
   "source": [
    "list(listings.columns)"
   ]
  },
  {
   "cell_type": "markdown",
   "metadata": {},
   "source": [
    "The columns that I'm going to focus on to start forming this data narrative are:\n",
    "- **bedrooms**, **bathrooms**, and **square_feet**\n",
    "    - The number of bedrooms, bathrooms and square feet is indicative of the size of a house/apartment/etc., and we can hypothesize that larger, more expensive listings will have higher prices.\n",
    "    \n",
    "- **host_is_superhost**\n",
    "    - Airbnb gives the superhost designation to hosts that demonstrate great service [(read more here)](https://www.airbnb.ca/help/article/829/how-do-i-become-a-superhost). Having a history of above average service may give hosts leverage to charge higher prices for their listings.\n",
    "\n",
    "- **zipcode**\n",
    "    - Different neighborhoods may have varying socioeconomic levels, which may lead some zipcodes to have more expensive prices than others.\n",
    "\n",
    "- **property_type**\n",
    "    - It's reasonable to expect that a house will have a higher price than an apartment, and that an apartment would have a higher price than a single room, etc.\n",
    "\n",
    "Throughout this notebook, I will measure these attributes against **price_USD** and analyze any inital trends."
   ]
  },
  {
   "cell_type": "markdown",
   "metadata": {},
   "source": [
    "#### Interesting Counts in the Data\n",
    "\n",
    "Let's start with a high level view of the data:"
   ]
  },
  {
   "cell_type": "code",
   "execution_count": 6,
   "metadata": {},
   "outputs": [
    {
     "name": "stdout",
     "output_type": "stream",
     "text": [
      "There are 620453 Airbnb listings in Los Angeles.\n"
     ]
    }
   ],
   "source": [
    "# total number of listings\n",
    "print('There are', len(listings), 'Airbnb listings in Los Angeles.')"
   ]
  },
  {
   "cell_type": "code",
   "execution_count": 4,
   "metadata": {},
   "outputs": [
    {
     "name": "stdout",
     "output_type": "stream",
     "text": [
      "Los Angeles Airbnb listings have an average of 1.4 bedrooms and 1.4 bathrooms.\n"
     ]
    }
   ],
   "source": [
    "# change columns to numeric\n",
    "listings.bedrooms = pd.to_numeric(listings.bedrooms, errors='coerce', downcast='integer')\n",
    "listings.bathrooms = pd.to_numeric(listings.bathrooms, errors='coerce', downcast='float')\n",
    "\n",
    "# average number of bedrooms and bathrooms\n",
    "avg_bed = listings.bedrooms.mean()\n",
    "avg_bath = listings.bathrooms.mean()\n",
    "print('Los Angeles Airbnb listings have an average of', str(round(avg_bed,1)), 'bedrooms and', str(round(avg_bath,1)), 'bathrooms.')"
   ]
  },
  {
   "cell_type": "code",
   "execution_count": 8,
   "metadata": {},
   "outputs": [
    {
     "name": "stdout",
     "output_type": "stream",
     "text": [
      "89248 of Los Angeles Airbnb listings are hosted by superhosts, while 531205 are not.\n"
     ]
    }
   ],
   "source": [
    "# number of superhost listings vs. non-superhost listings\n",
    "num_superhost = len(listings[listings.host_is_superhost == True])\n",
    "num_not_superhost = len(listings) - num_superhost\n",
    "print(num_superhost,'of Los Angeles Airbnb listings are hosted by superhosts, while', num_not_superhost,'are not.')"
   ]
  },
  {
   "cell_type": "markdown",
   "metadata": {},
   "source": [
    "### Histograms"
   ]
  },
  {
   "cell_type": "markdown",
   "metadata": {},
   "source": [
    "**What are people paying to stay a night in a Los Angeles Airbnb?**\n",
    "\n",
    "The following hisotgrams show the distribution of nightly prices for Airbnbs in LA:"
   ]
  },
  {
   "cell_type": "code",
   "execution_count": 46,
   "metadata": {},
   "outputs": [
    {
     "data": {
      "text/plain": [
       "Text(0.5,1,'Distribution of listing prices in Los Angeles')"
      ]
     },
     "execution_count": 46,
     "metadata": {},
     "output_type": "execute_result"
    },
    {
     "data": {
      "image/png": "[encoded data removed]",
      "text/plain": [
       "<Figure size 432x288 with 1 Axes>"
      ]
     },
     "metadata": {
      "needs_background": "light"
     },
     "output_type": "display_data"
    }
   ],
   "source": [
    "listings['price_USD'].plot(kind='hist', log=True)\n",
    "plt.xlabel('Listing price (USD)')\n",
    "plt.title('Distribution of listing prices in Los Angeles')"
   ]
  },
  {
   "cell_type": "markdown",
   "metadata": {},
   "source": [
    "It's easy to see from the above plot, which is plotted on the logarithmic scale on the y-axis, that there are outliers in the price data. Let's plot the same histogram without the outliers:"
   ]
  },
  {
   "cell_type": "code",
   "execution_count": 47,
   "metadata": {},
   "outputs": [
    {
     "data": {
      "text/plain": [
       "Text(0.5,1,'Distribution of listing prices in Los Angeles')"
      ]
     },
     "execution_count": 47,
     "metadata": {},
     "output_type": "execute_result"
    },
    {
     "data": {
      "image/png": "[encoded data removed]",
      "text/plain": [
       "<Figure size 432x288 with 1 Axes>"
      ]
     },
     "metadata": {
      "needs_background": "light"
     },
     "output_type": "display_data"
    }
   ],
   "source": [
    "listings[listings['price_USD'] < 60000]['price_USD'].plot(kind='hist')\n",
    "plt.xlabel('Listing price (USD)')\n",
    "plt.title('Distribution of listing prices in Los Angeles')"
   ]
  },
  {
   "cell_type": "markdown",
   "metadata": {},
   "source": [
    "The distribution of prices is clearly highly right skewed, with most of the listings being under $200 per night. However, there are a select few listing that are very expensive, including the outlier(s) that are not included in the above histogram."
   ]
  },
  {
   "cell_type": "markdown",
   "metadata": {},
   "source": [
    "### Barplots\n",
    "\n",
    "Let's use barplots to explore how price interacts with some of the discrete variables in the listings dataset."
   ]
  },
  {
   "cell_type": "markdown",
   "metadata": {},
   "source": [
    "**How does location impact price?**\n",
    "\n",
    "Now that we see the different prices people are paying, let's look into how those prices are distributed along other variables. For example, average listings prices most likely vary in different zipcodes. If we think of zipcodes as different neighborhoods, some are bound to be more upscale and closer to tourist attractions, while others will be more budget-friendly."
   ]
  },
  {
   "cell_type": "markdown",
   "metadata": {},
   "source": [
    "Since the dataframe includes some nonsensical zipcodes - let's cut it down to only include zipcodes in LA according to [this list of LA zipcodes](https://www.zip-codes.com/city/ca-los-angeles.asp):"
   ]
  },
  {
   "cell_type": "code",
   "execution_count": 27,
   "metadata": {},
   "outputs": [],
   "source": [
    "# only Los Angeles zipcodes\n",
    "la_zip = listings[(listings.zipcode > 90000) & (listings.zipcode < 90231)"
   ]
  },
  {
   "cell_type": "code",
   "execution_count": 29,
   "metadata": {},
   "outputs": [
    {
     "data": {
      "text/plain": [
       "338463"
      ]
     },
     "execution_count": 29,
     "metadata": {},
     "output_type": "execute_result"
    }
   ],
   "source": [
    "# length of reduced dataframe\n",
    "len(la_zip)"
   ]
  },
  {
   "cell_type": "markdown",
   "metadata": {},
   "source": [
    "Since accounting for LA zipcodes cut down the dataframe by almost half, it will probably be better to keep all rows, but turn nonsensical zipcodes to NaN values when cleaning the data for the machine learning algorithm.\n",
    "\n",
    "Let's move forward with creating a pivot table with the reduced dataframe, which will show us the average nightly price per zipcode:"
   ]
  },
  {
   "cell_type": "code",
   "execution_count": 30,
   "metadata": {},
   "outputs": [],
   "source": [
    "# listings per zipcode\n",
    "avg_price_per_zipcode = la_zip.pivot_table(values='price_USD', index='zipcode', aggfunc='mean')"
   ]
  },
  {
   "cell_type": "markdown",
   "metadata": {},
   "source": [
    "Since there are hundreds of zipcodes in LA, let's zoom in to the 10 zipcodes with the highest and lowest average listing prices:"
   ]
  },
  {
   "cell_type": "code",
   "execution_count": 61,
   "metadata": {},
   "outputs": [],
   "source": [
    "# put head and tail together\n",
    "ppz = pd.concat([avg_price_per_zipcode.head(), avg_price_per_zipcode.tail()]).sort_values(by='price_USD')"
   ]
  },
  {
   "cell_type": "code",
   "execution_count": 73,
   "metadata": {},
   "outputs": [
    {
     "data": {
      "image/png": "[encoded data removed]",
      "text/plain": [
       "<Figure size 432x288 with 1 Axes>"
      ]
     },
     "metadata": {},
     "output_type": "display_data"
    }
   ],
   "source": [
    "# plot zipcodes with highest and lowest average prices\n",
    "ppz.plot(kind='bar')\n",
    "plt.title('Average listing price for the top and bottom LA zipcodes')\n",
    "plt.xlabel('Zipcode')\n",
    "plt.ylabel('Price (USD)')\n",
    "plt.xticks(rotation=45)\n",
    "plt.legend(loc=None)\n",
    "plt.style.use('ggplot')"
   ]
  },
  {
   "cell_type": "markdown",
   "metadata": {},
   "source": [
    "The bar graph shows that the lowest prices are for zipcodes that correspond to lower-income areas like Compton (90221, 90220) and Florence-Graham (90001, 90002), which have median household income levels of about 30 thousand dollars. The highest prices are for zipcodes that correspond to high-income areas like Beverly Hills (90212), and Culver City (90230) which have median household incomes of 70-100 thousand dollars."
   ]
  },
  {
   "cell_type": "markdown",
   "metadata": {},
   "source": [
    "**How does the property type impact price?**\n",
    "\n",
    "While certain zipcodes may be more expensive than others, prices likely also vary based on the nature of a listing itself. For example, it wouldn't make economic sense to charge the same for an urban apartment as a vacation home by the beach.\n",
    "\n",
    "In addition, Airbnb is known for its unique accomodation options, which include boats, treehouses, and more. These specialty listings come with an extra 'wow' factor that may affect their price as well."
   ]
  },
  {
   "cell_type": "markdown",
   "metadata": {},
   "source": [
    "Upon inspection of the property type data, there are slight spelling differences for properties of the same kind. I will correct for his before plotting:"
   ]
  },
  {
   "cell_type": "code",
   "execution_count": 40,
   "metadata": {},
   "outputs": [],
   "source": [
    "# number of each property type\n",
    "listings['property_type'] = p_types['property_type'].str.replace('Bed and breakfast', 'Bed & Breakfast').str.replace('Casa particular (Cuba)', 'Casa particular').str.replace('Earth house', 'Earth House')\n",
    "price_per_prop = listings.pivot_table(values='price_USD', index='property_type', aggfunc='mean')"
   ]
  },
  {
   "cell_type": "markdown",
   "metadata": {},
   "source": [
    "Like for the zipcode data, it will be easier to inspect the ten property types that have the highest and lowest average price:"
   ]
  },
  {
   "cell_type": "code",
   "execution_count": 69,
   "metadata": {},
   "outputs": [],
   "source": [
    "# put head and tail together\n",
    "ppp = pd.concat([price_per_prop.head(), price_per_prop.tail()]).sort_values(by='price_USD')"
   ]
  },
  {
   "cell_type": "code",
   "execution_count": 72,
   "metadata": {},
   "outputs": [
    {
     "data": {
      "image/png": "[encoded data removed]",
      "text/plain": [
       "<Figure size 432x288 with 1 Axes>"
      ]
     },
     "metadata": {},
     "output_type": "display_data"
    }
   ],
   "source": [
    "# plot property types with highest and lowest average prices\n",
    "ppp.plot(kind='bar')\n",
    "plt.title('Average listing price for the top and bottom property types')\n",
    "plt.xlabel('Property Type')\n",
    "plt.ylabel('Price (USD)')\n",
    "plt.xticks(rotation=45)\n",
    "plt.legend(loc=None)\n",
    "plt.style.use('ggplot')"
   ]
  },
  {
   "cell_type": "markdown",
   "metadata": {},
   "source": [
    "The bar graph shows that barns, bed and breakfasts, and appartments have the lowest average price, while more specialty proprety types like boats, trains, villas, and vacation homes are the most expensive. Vacation homes, in fact, are almost $150 more expensive on average than the next more expensive property type, Villa."
   ]
  },
  {
   "cell_type": "markdown",
   "metadata": {},
   "source": [
    "**Are listings with more bedrooms and/or bathrooms more expensive?**\n",
    "\n",
    "Listings with more bedrooms and bathrooms can accomodate more people, and therefore may have higher nightly prices. Let's see if this is actually the case.\n",
    "\n",
    "**Bedrooms:**\n",
    "Like in the previous bar plots, we'll use a pivot table to calculate the average price per number of bedrooms. We will also do the same for the number of bathrooms:"
   ]
  },
  {
   "cell_type": "code",
   "execution_count": 77,
   "metadata": {},
   "outputs": [
    {
     "data": {
      "text/plain": [
       "Text(0,0.5,'Price (USD)')"
      ]
     },
     "execution_count": 77,
     "metadata": {},
     "output_type": "execute_result"
    },
    {
     "data": {
      "image/png": "[encoded data removed]",
      "text/plain": [
       "<Figure size 432x288 with 1 Axes>"
      ]
     },
     "metadata": {},
     "output_type": "display_data"
    }
   ],
   "source": [
    "# pivot table for average price per number of bedrooms\n",
    "price_per_bed = listings.pivot_table(values='price_USD', index='bedrooms', aggfunc='mean')\n",
    "\n",
    "# plot the pivot table\n",
    "price_per_bed.plot(kind='bar')\n",
    "plt.title('Number of Bedrooms vs Price')\n",
    "plt.xlabel('Number of bedrooms')\n",
    "plt.ylabel('Price (USD)')"
   ]
  },
  {
   "cell_type": "markdown",
   "metadata": {},
   "source": [
    "While the average price tends to increase as the number of bedrooms in a listing increases, it is not a clear trend. Additionally, it's worth looking into the details for the listing that has 15 bedrooms, as it seems to have a very low price and might be a bad or fradulent listing."
   ]
  },
  {
   "cell_type": "markdown",
   "metadata": {},
   "source": [
    "**Bathrooms:**"
   ]
  },
  {
   "cell_type": "code",
   "execution_count": 78,
   "metadata": {},
   "outputs": [
    {
     "data": {
      "text/plain": [
       "Text(0,0.5,'Price (USD)')"
      ]
     },
     "execution_count": 78,
     "metadata": {},
     "output_type": "execute_result"
    },
    {
     "data": {
      "image/png": "[encoded data removed]",
      "text/plain": [
       "<Figure size 432x288 with 1 Axes>"
      ]
     },
     "metadata": {},
     "output_type": "display_data"
    }
   ],
   "source": [
    "# pivot table for average price per number of bathrooms\n",
    "price_per_bath = listings.pivot_table(values='price_USD', index='bathrooms', aggfunc='mean')\n",
    "\n",
    "# plot the pivot table\n",
    "price_per_bath.plot(kind='bar')\n",
    "plt.title('Number of Bathrooms vs Price')\n",
    "plt.xlabel('Number of bathrooms')\n",
    "plt.ylabel('Price (USD)')"
   ]
  },
  {
   "cell_type": "markdown",
   "metadata": {},
   "source": [
    "The number of bathrooms doesn't have a clear trend with respect to price. In fact, it looks more like a normal distribution than an increasing or decreasing trend."
   ]
  },
  {
   "cell_type": "markdown",
   "metadata": {},
   "source": [
    "### Scatterplots"
   ]
  },
  {
   "cell_type": "markdown",
   "metadata": {},
   "source": [
    "**Does the size of a listing property impact its price?**\n",
    "\n",
    "Square footage is a continuous variable that is worth exploring in conjunction with price. In the same vein as our logic for bedrooms and bathrooms, it's reasonable to think that a listing with higher square footage and more space will have higher prices. Let's explore this with a regression plot that will show us the data points of a sqft vs. price scatterplot along with a regression line showing the general trend in the data."
   ]
  },
  {
   "cell_type": "code",
   "execution_count": 88,
   "metadata": {},
   "outputs": [
    {
     "name": "stderr",
     "output_type": "stream",
     "text": [
      "/anaconda3/lib/python3.7/site-packages/scipy/stats/stats.py:1713: FutureWarning: Using a non-tuple sequence for multidimensional indexing is deprecated; use `arr[tuple(seq)]` instead of `arr[seq]`. In the future this will be interpreted as an array index, `arr[np.array(seq)]`, which will result either in an error or a different result.\n",
      "  return np.add.reduce(sorted[indexer] * weights, axis=axis) / sumval\n"
     ]
    },
    {
     "data": {
      "text/plain": [
       "Text(-2.575,0.5,'Price (USD)')"
      ]
     },
     "execution_count": 88,
     "metadata": {},
     "output_type": "execute_result"
    },
    {
     "data": {
      "image/png": "[encoded data removed]",
      "text/plain": [
       "<Figure size 360x360 with 1 Axes>"
      ]
     },
     "metadata": {},
     "output_type": "display_data"
    }
   ],
   "source": [
    "# plot square feet vs. price with regression\n",
    "sns.lmplot(x='square_feet', y='price_USD', data=listings)\n",
    "plt.title('Square Footage vs Price')\n",
    "plt.xlabel('Square feet')\n",
    "plt.ylabel('Price (USD)')"
   ]
  },
  {
   "cell_type": "markdown",
   "metadata": {},
   "source": [
    "The square footage data clearly has an outlier at about 32,500 square feet. This makes it harder to see trends in the rest of the data, so let's plot without this point:"
   ]
  },
  {
   "cell_type": "code",
   "execution_count": 87,
   "metadata": {},
   "outputs": [
    {
     "name": "stderr",
     "output_type": "stream",
     "text": [
      "/anaconda3/lib/python3.7/site-packages/scipy/stats/stats.py:1713: FutureWarning: Using a non-tuple sequence for multidimensional indexing is deprecated; use `arr[tuple(seq)]` instead of `arr[seq]`. In the future this will be interpreted as an array index, `arr[np.array(seq)]`, which will result either in an error or a different result.\n",
      "  return np.add.reduce(sorted[indexer] * weights, axis=axis) / sumval\n"
     ]
    },
    {
     "data": {
      "text/plain": [
       "(0, 1100)"
      ]
     },
     "execution_count": 87,
     "metadata": {},
     "output_type": "execute_result"
    },
    {
     "data": {
      "image/png": "[encoded data removed]",
      "text/plain": [
       "<Figure size 360x360 with 1 Axes>"
      ]
     },
     "metadata": {},
     "output_type": "display_data"
    }
   ],
   "source": [
    "sns.lmplot(x='square_feet', y='price_USD', data=listings)\n",
    "plt.title('Square Footage vs Price')\n",
    "plt.xlabel('Square feet')\n",
    "plt.ylabel('Price (USD)')\n",
    "plt.xlim(0,8000)\n",
    "plt.ylim(0,1100)"
   ]
  },
  {
   "cell_type": "markdown",
   "metadata": {},
   "source": [
    "Without the outlier, the regression plot suggests a positive trend in the data, with more square footage corresponding to higher prices. However, the data itself is so spread out that this trend may have little actual influence in the grander scheme of things."
   ]
  },
  {
   "cell_type": "markdown",
   "metadata": {},
   "source": [
    "### Conclusions\n",
    "\n",
    "The trends and relationships uncovered in this notebook lead us to a few conclusions/ideas for further exploration as we move forward with this project's analyses:\n",
    "\n",
    "1. The data needs to be thouroughly inspected to make sure there are no slight differences in spelling or notation that leads to inaccurate analyses (like in the case of the 'property_type' column) or data that does not make sense( like in the 'zipcode' column).\n",
    "\n",
    "2. It will be important to inspect outliers in the dataset to see if they are real or fraudulent listings. It might be worth it to check them against the Airbnb website. It's too good to be true that a listing with 15 bedrooms would be one of the cheapest out there.\n",
    "\n",
    "3. There is a lot of interesting geographic variability in prices, and this may influence price more than other aspects of the data. On the other end of the spectrum, attributes that I thought would have more influence, like number of bathrooms and square footage, are not as strong as expected.\n",
    "\n",
    "4. It will be interesting to see if there are any NLP techniques that might be applied to the text data that describes the listings, in addition to using NLP on each listings reviews.\n",
    "\n",
    "5. Columns like 'amenities' should be encoded so that they can be analyzed more. A listing's features such as TV, Internet access, and breakfast may strongly impact its price.\n",
    "\n",
    "### Hypothesis Moving Forward:\n",
    "\n",
    "An Airbnb listing's nightly price will be most affected by:\n",
    "    - Its geographical location\n",
    "    - The type of property it is, and\n",
    "    - The amenities provided"
   ]
  },
  {
   "cell_type": "markdown",
   "metadata": {},
   "source": [
    "**NOTE ABOUT TIMESERIES:** Despite this data including several columns containing dates such as **host_since** and **last_review**, none of the attributes in the dataset are time dependent. Therefore, timeseries plots would not be appropriate for this analysis (at least at this point in time)."
   ]
  }
 ],
 "metadata": {
  "kernelspec": {
   "display_name": "Python 3",
   "language": "python",
   "name": "python3"
  },
  "language_info": {
   "codemirror_mode": {
    "name": "ipython",
    "version": 3
   },
   "file_extension": ".py",
   "mimetype": "text/x-python",
   "name": "python",
   "nbconvert_exporter": "python",
   "pygments_lexer": "ipython3",
   "version": "3.7.0"
  }
 },
 "nbformat": 4,
 "nbformat_minor": 2
}
