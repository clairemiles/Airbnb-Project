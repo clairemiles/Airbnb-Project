{
 "cells": [
  {
   "cell_type": "markdown",
   "metadata": {},
   "source": [
    "## In-Depth Analysis and Machine Learning\n",
    "\n",
    "Insert description here."
   ]
  },
  {
   "cell_type": "code",
   "execution_count": 1,
   "metadata": {},
   "outputs": [],
   "source": [
    "# remove warnings\n",
    "import warnings\n",
    "warnings.filterwarnings(\"ignore\")"
   ]
  },
  {
   "cell_type": "code",
   "execution_count": null,
   "metadata": {},
   "outputs": [],
   "source": [
    "# import relevant packages\n",
    "import pandas as pd\n",
    "import numpy as np\n",
    "import scipy.stats as st\n",
    "import matplotlib.pyplot as plt\n",
    "import seaborn as sns\n",
    "\n",
    "# machine learning\n",
    "# preprocessing and tuning\n",
    "from sklearn.model_selection import train_test_split, GridSearchCV, cross_val_score\n",
    "from imblearn.over_sampling import SMOTE\n",
    "\n",
    "# naive bayes\n",
    "from sklearn.feature_extraction.text import CountVectorizer\n",
    "from sklearn.naive_bayes import MultinomialNB\n",
    "\n",
    "# random forests and boosting\n",
    "from sklearn.ensemble import RandomForestRegressor\n",
    "import xgboost as xgb\n",
    "\n",
    "# pipeline\n",
    "from sklearn.pipeline import Pipeline\n",
    "\n",
    "# set seaborn theme\n",
    "sns.set()\n",
    "\n",
    "# set seed\n",
    "SEED = 11\n",
    "\n",
    "%matplotlib inline"
   ]
  },
  {
   "cell_type": "code",
   "execution_count": 3,
   "metadata": {},
   "outputs": [],
   "source": [
    "# load data\n",
    "listing = pd.read_csv('/Users/limesncoconuts2/datasets/capstone_one/los_angeles/los-angeles_listings.csv')\n",
    "review = pd.read_csv('/Users/limesncoconuts2/datasets/capstone_one/los_angeles/los-angeles_reviews.csv')"
   ]
  },
  {
   "cell_type": "markdown",
   "metadata": {},
   "source": [
    "### Naive Bayes on Text Data\n",
    "Create a score for review data based on which words in reviews are most important to price"
   ]
  },
  {
   "cell_type": "markdown",
   "metadata": {},
   "source": [
    "#### add text data to main df"
   ]
  },
  {
   "cell_type": "code",
   "execution_count": 4,
   "metadata": {},
   "outputs": [],
   "source": [
    "review = review[['listing_id','comments']]\n",
    "review.drop_duplicates(inplace=True)"
   ]
  },
  {
   "cell_type": "code",
   "execution_count": 5,
   "metadata": {},
   "outputs": [],
   "source": [
    "review_combined = pd.DataFrame(columns=['id','text'])\n",
    "\n",
    "for row in review[:100].iterrows():\n",
    "    rev = row[1]\n",
    "    if rev.listing_id not in review_combined: # if listing is not in the dataframe\n",
    "        # get all reviews from the same listing\n",
    "        subset = review[review.listing_id == rev.listing_id]\n",
    "\n",
    "        # combine text in the subset\n",
    "        combo = ''\n",
    "        for com in subset.iterrows():\n",
    "            combo += com[1].comments\n",
    "\n",
    "        # add text to dataframe\n",
    "        add = pd.DataFrame([[rev.listing_id, combo]], columns=['id', 'text'])\n",
    "        review_combined = review_combined.append(add)\n",
    "review_combined.id = review_combined.id.astype('int64')\n",
    "review_combined.drop_duplicates(inplace=True)"
   ]
  },
  {
   "cell_type": "code",
   "execution_count": 6,
   "metadata": {},
   "outputs": [],
   "source": [
    "df = listing.merge(review_combined, on='id', how='left')"
   ]
  },
  {
   "cell_type": "code",
   "execution_count": 7,
   "metadata": {},
   "outputs": [],
   "source": [
    "df.text.fillna('', inplace=True)"
   ]
  },
  {
   "cell_type": "markdown",
   "metadata": {},
   "source": [
    "#### Naive Bayes"
   ]
  },
  {
   "cell_type": "code",
   "execution_count": 8,
   "metadata": {},
   "outputs": [
    {
     "name": "stderr",
     "output_type": "stream",
     "text": [
      "/anaconda3/lib/python3.7/site-packages/ipykernel_launcher.py:2: UserWarning: Pandas doesn't allow columns to be created via a new attribute name - see https://pandas.pydata.org/pandas-docs/stable/indexing.html#attribute-access\n",
      "  \n"
     ]
    }
   ],
   "source": [
    "# categorize top 25% prices as high, rest as low\n",
    "df.price_percent = pd.qcut(df.price_USD, 3, labels=['low', 'low1', 'high'])"
   ]
  },
  {
   "cell_type": "code",
   "execution_count": 9,
   "metadata": {},
   "outputs": [],
   "source": [
    "vectorizer = CountVectorizer()\n",
    "X = vectorizer.fit_transform(df.text)\n",
    "X = X.tocsc()\n",
    "y = (df.price_percent == 'high').values.astype('int64')\n",
    "\n",
    "X_train, X_test, y_train, y_test = train_test_split(X, y, test_size=0.2, random_state=SEED)"
   ]
  },
  {
   "cell_type": "code",
   "execution_count": 10,
   "metadata": {},
   "outputs": [],
   "source": [
    "# bootstrap resampling to have more 'high' rows\n",
    "sm = SMOTE(sampling_strategy=1.0 ,random_state=SEED)\n",
    "X_train_sm, y_train_sm = sm.fit_sample(X_train, y_train)"
   ]
  },
  {
   "cell_type": "code",
   "execution_count": 11,
   "metadata": {},
   "outputs": [
    {
     "name": "stdout",
     "output_type": "stream",
     "text": [
      "Accuracy on training data: 0.500039\n",
      "Accuracy on test data:     0.671518\n"
     ]
    }
   ],
   "source": [
    "#### NEED TO FIND BEST PARAMETERS\n",
    "clf = MultinomialNB()\n",
    "clf.fit(X_train_sm, y_train_sm)\n",
    "probs = clf.predict_proba(X_test)\n",
    "predictions = clf.predict(X_test)\n",
    "\n",
    "# accuracies\n",
    "training_accuracy = clf.score(X_train_sm, y_train_sm)\n",
    "test_accuracy = clf.score(X_test, y_test)\n",
    "\n",
    "print(\"Accuracy on training data: {:2f}\".format(training_accuracy))\n",
    "print(\"Accuracy on test data:     {:2f}\".format(test_accuracy))"
   ]
  },
  {
   "cell_type": "code",
   "execution_count": 12,
   "metadata": {},
   "outputs": [
    {
     "data": {
      "text/plain": [
       "array(['10', '100', '10min', ..., 'young', 'your', 'zero'], dtype='<U16')"
      ]
     },
     "execution_count": 12,
     "metadata": {},
     "output_type": "execute_result"
    }
   ],
   "source": [
    "words = np.array(vectorizer.get_feature_names())\n",
    "words"
   ]
  },
  {
   "cell_type": "code",
   "execution_count": 13,
   "metadata": {},
   "outputs": [
    {
     "data": {
      "text/plain": [
       "array([[0.5, 0.5],\n",
       "       [0.5, 0.5],\n",
       "       [0.5, 0.5],\n",
       "       ...,\n",
       "       [0.5, 0.5],\n",
       "       [0.5, 0.5],\n",
       "       [0.5, 0.5]])"
      ]
     },
     "execution_count": 13,
     "metadata": {},
     "output_type": "execute_result"
    }
   ],
   "source": [
    "probs"
   ]
  },
  {
   "cell_type": "code",
   "execution_count": 14,
   "metadata": {},
   "outputs": [
    {
     "data": {
      "text/plain": [
       "array([0, 0, 0, ..., 0, 0, 0])"
      ]
     },
     "execution_count": 14,
     "metadata": {},
     "output_type": "execute_result"
    }
   ],
   "source": [
    "predictions"
   ]
  },
  {
   "cell_type": "code",
   "execution_count": null,
   "metadata": {},
   "outputs": [],
   "source": [
    "x = np.eye(X_test.shape[1])\n",
    "probs_log = clf.predict_log_proba(x)[:, 0]\n",
    "ind = np.argsort(probs_log)\n",
    "\n",
    "expensive_words = words[ind[:10]]\n",
    "cheap_words = words[ind[-10:]]\n",
    "\n",
    "expensive_prob = probs[ind[:10]]\n",
    "cheap_prob = probs[ind[-10:]]\n",
    "\n",
    "print(\"Expensive words\\t     P(expensive | word)\")\n",
    "for w, p in zip(expensive_words, expensive_prob):\n",
    "    print(\"{:>20}\".format(w), \"{:.2f}\".format(1 - np.exp(p)))\n",
    "    \n",
    "print(\"Cheap words\\t     P(expensive | word)\")\n",
    "for w, p in zip(cheap_words, cheap_prob):\n",
    "    print(\"{:>20}\".format(w), \"{:.2f}\".format(1 - np.exp(p)))"
   ]
  },
  {
   "cell_type": "code",
   "execution_count": null,
   "metadata": {},
   "outputs": [],
   "source": [
    "# add review feature to df\n"
   ]
  },
  {
   "cell_type": "code",
   "execution_count": null,
   "metadata": {},
   "outputs": [],
   "source": [
    "# remove text data from df\n",
    "listing.info()\n",
    "listing.drop([], inplace=True)"
   ]
  },
  {
   "cell_type": "markdown",
   "metadata": {},
   "source": [
    "### Gradient Boosting / Random Forests"
   ]
  },
  {
   "cell_type": "code",
   "execution_count": null,
   "metadata": {},
   "outputs": [],
   "source": [
    "# new training and test set\n",
    "X_reg = listing.drop(['price_USD'])\n",
    "y_reg = listing.price_USD\n",
    "X_tr, X_tt, y_tr, y_tt = train_test_split(X_reg, y_reg, test_size=0.2, random_state=SEED)"
   ]
  },
  {
   "cell_type": "code",
   "execution_count": null,
   "metadata": {},
   "outputs": [],
   "source": [
    "# run algorithm\n",
    "# 1000 trees\n",
    "# max depth of 7\n",
    "# min samples leaf of 1\n",
    "\n",
    "rf = RandomForestRegressor(n_estimators=1000, max_depth=7)\n",
    "rf.fit(X_tr, y_tr)"
   ]
  },
  {
   "cell_type": "code",
   "execution_count": null,
   "metadata": {},
   "outputs": [],
   "source": [
    "rf.predict(X_tt)\n",
    "train_score = rf.score(X_tr, y_tr)\n",
    "test_score = rf.score(X_tt, y_tt)\n",
    "print('Train score:', train_score)\n",
    "print('Test score:', test_score)"
   ]
  },
  {
   "cell_type": "code",
   "execution_count": null,
   "metadata": {},
   "outputs": [],
   "source": [
    "# evaluate using ROC / AUC"
   ]
  }
 ],
 "metadata": {
  "kernelspec": {
   "display_name": "Python 3",
   "language": "python",
   "name": "python3"
  },
  "language_info": {
   "codemirror_mode": {
    "name": "ipython",
    "version": 3
   },
   "file_extension": ".py",
   "mimetype": "text/x-python",
   "name": "python",
   "nbconvert_exporter": "python",
   "pygments_lexer": "ipython3",
   "version": "3.7.2"
  }
 },
 "nbformat": 4,
 "nbformat_minor": 2
}
